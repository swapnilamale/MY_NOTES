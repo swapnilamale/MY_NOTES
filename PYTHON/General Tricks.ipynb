{
 "cells": [
  {
   "cell_type": "markdown",
   "id": "cb3a3809",
   "metadata": {},
   "source": [
    "# How to get the file path using popup dialog box"
   ]
  },
  {
   "cell_type": "code",
   "execution_count": 2,
   "id": "02d8917d",
   "metadata": {},
   "outputs": [],
   "source": [
    "from tkinter import filedialog as fd\n",
    "file_path= fd.askopenfilename()"
   ]
  },
  {
   "cell_type": "markdown",
   "id": "31c99aad",
   "metadata": {},
   "source": [
    "# Reading file from local drive"
   ]
  },
  {
   "cell_type": "code",
   "execution_count": null,
   "id": "73de0a93",
   "metadata": {},
   "outputs": [],
   "source": [
    "import pandas as pd\n",
    "from tkinter import filedialog as fd\n",
    "df=pd.read_csv(fd.askopenfilename())"
   ]
  },
  {
   "cell_type": "markdown",
   "id": "3e74cc27",
   "metadata": {},
   "source": [
    "# Parallelisation using Joblib"
   ]
  },
  {
   "cell_type": "code",
   "execution_count": 1,
   "id": "13ed9221",
   "metadata": {},
   "outputs": [],
   "source": [
    "import math\n",
    "from tqdm import tqdm\n",
    "from joblib import Parallel , delayed"
   ]
  },
  {
   "cell_type": "code",
   "execution_count": 2,
   "id": "ffd90186",
   "metadata": {
    "scrolled": false
   },
   "outputs": [
    {
     "name": "stderr",
     "output_type": "stream",
     "text": [
      "100%|████████████████████████████████████████████████████████████████████████████████████████| 10000/10000 [00:14<00:00, 676.16it/s]"
     ]
    },
    {
     "name": "stdout",
     "output_type": "stream",
     "text": [
      "CPU times: total: 7.36 s\n",
      "Wall time: 14.8 s\n"
     ]
    },
    {
     "name": "stderr",
     "output_type": "stream",
     "text": [
      "\n"
     ]
    }
   ],
   "source": [
    "%%time\n",
    "factorial_list = [math.factorial(i) for i in tqdm(range(10000))]"
   ]
  },
  {
   "cell_type": "code",
   "execution_count": 3,
   "id": "5d0eb8d6",
   "metadata": {},
   "outputs": [
    {
     "name": "stderr",
     "output_type": "stream",
     "text": [
      "100%|███████████████████████████████████████████████████████████████████████████████████████| 10000/10000 [00:01<00:00, 7126.01it/s]\n"
     ]
    },
    {
     "name": "stdout",
     "output_type": "stream",
     "text": [
      "CPU times: total: 203 ms\n",
      "Wall time: 5.37 s\n"
     ]
    }
   ],
   "source": [
    "%%time\n",
    "factorial_list =  Parallel(n_jobs=2)(delayed(math.factorial)(x) for x in tqdm(range(10000)))"
   ]
  },
  {
   "cell_type": "markdown",
   "id": "48d8a8ce",
   "metadata": {},
   "source": [
    "# Upload local data to database"
   ]
  },
  {
   "cell_type": "markdown",
   "id": "7211c1ca",
   "metadata": {},
   "source": [
    "- csv file is lighter to upload than the excel file\n",
    "- use Derect method if the records are below 1 lackh other upload data in the form of chumk\n"
   ]
  },
  {
   "cell_type": "markdown",
   "id": "6aa6802c",
   "metadata": {},
   "source": [
    "## Direct Method"
   ]
  },
  {
   "cell_type": "code",
   "execution_count": null,
   "id": "ff150eed",
   "metadata": {},
   "outputs": [],
   "source": [
    "# Reading File from local drive\n",
    "import pandas as pd\n",
    "from tkinter import filedialog as fd\n",
    "df=pd.read_csv(fd.askopenfilename())"
   ]
  },
  {
   "cell_type": "code",
   "execution_count": 24,
   "id": "109758b6",
   "metadata": {},
   "outputs": [],
   "source": [
    "#Connecting to the database\n",
    "import sqlalchemy\n",
    "dbms='mysql+pymysql'   #postgresql\n",
    "username='root'\n",
    "password='hp11'\n",
    "host='localhost'\n",
    "port=3306\n",
    "database='exam'\n",
    "exam= sqlalchemy.create_engine(f'{dbms}://{username}:{password}@{host}:{port}/{database}')"
   ]
  },
  {
   "cell_type": "code",
   "execution_count": 1,
   "id": "9a74f1fc",
   "metadata": {
    "collapsed": true
   },
   "outputs": [
    {
     "ename": "NameError",
     "evalue": "name 'pd' is not defined",
     "output_type": "error",
     "traceback": [
      "\u001b[1;31m---------------------------------------------------------------------------\u001b[0m",
      "\u001b[1;31mNameError\u001b[0m                                 Traceback (most recent call last)",
      "Input \u001b[1;32mIn [1]\u001b[0m, in \u001b[0;36m<cell line: 1>\u001b[1;34m()\u001b[0m\n\u001b[1;32m----> 1\u001b[0m df\u001b[38;5;241m=\u001b[39m\u001b[43mpd\u001b[49m\u001b[38;5;241m.\u001b[39mread_csv(fd\u001b[38;5;241m.\u001b[39maskopenfilename())\n\u001b[0;32m      2\u001b[0m df\u001b[38;5;241m.\u001b[39mhead()\n",
      "\u001b[1;31mNameError\u001b[0m: name 'pd' is not defined"
     ]
    }
   ],
   "source": [
    "#uploading to databse\n",
    "df.to_sql(name='my_upload',con=exam,if_exists='replace',method='multi')"
   ]
  },
  {
   "cell_type": "markdown",
   "id": "0c43f5dd",
   "metadata": {},
   "source": [
    "## In Chunks"
   ]
  },
  {
   "cell_type": "code",
   "execution_count": 29,
   "id": "1592e5c3",
   "metadata": {},
   "outputs": [],
   "source": [
    "# Reading file in the form of Chunk from local drive\n",
    "import pandas as pd\n",
    "from tkinter import filedialog as fd\n",
    "file_path= fd.askopenfilename()\n",
    "chunk_size=5000\n",
    "col_data_type={'index':str,'Year':str,'Industry_aggregation_NZSIOC':str,'Industry_code_NZSIOC':str,'Industry_name_NZSIOC':str,'Units':str,'Variable_code':str,'Variable_name':str,'Variable_category':str,'Value':str,'Industry_code_ANZSIC06':str}\n",
    "\n",
    "chunks=pd.read_csv(file_path,chunksize=chunk_size,dtype=col_data_type)"
   ]
  },
  {
   "cell_type": "code",
   "execution_count": 30,
   "id": "d136c036",
   "metadata": {},
   "outputs": [],
   "source": [
    "#Connecting to the database\n",
    "import sqlalchemy\n",
    "dbms='mysql+pymysql'   #postgresql\n",
    "username='root'\n",
    "password='hp11'\n",
    "host='localhost'\n",
    "port=3306\n",
    "database='exam'\n",
    "exam= sqlalchemy.create_engine(f'{dbms}://{username}:{password}@{host}:{port}/{database}')"
   ]
  },
  {
   "cell_type": "code",
   "execution_count": 31,
   "id": "8f2e60e6",
   "metadata": {},
   "outputs": [
    {
     "name": "stderr",
     "output_type": "stream",
     "text": [
      "9it [00:07,  1.13it/s]"
     ]
    },
    {
     "name": "stdout",
     "output_type": "stream",
     "text": [
      "File uploaded Successfully\n"
     ]
    },
    {
     "name": "stderr",
     "output_type": "stream",
     "text": [
      "\n"
     ]
    }
   ],
   "source": [
    "#uploading to databse\n",
    "from tqdm import tqdm\n",
    "table_name='big_file'\n",
    "connection=exam\n",
    "exists='replace'\n",
    "methodd='multi'\n",
    "\n",
    "for chunk in tqdm(chunks):\n",
    "    chunk.to_sql(name=table_name,con=connection,if_exists=exists,method=methodd)\n",
    "    exists='append'\n",
    "    \n",
    "print('File uploaded Successfully') "
   ]
  },
  {
   "cell_type": "code",
   "execution_count": 4,
   "id": "8b788241",
   "metadata": {},
   "outputs": [
    {
     "name": "stderr",
     "output_type": "stream",
     "text": [
      "100%|████████████████████████████████████████████████████████████████████████████████████| 10000/10000 [00:00<00:00, 1988481.49it/s]"
     ]
    },
    {
     "name": "stdout",
     "output_type": "stream",
     "text": [
      "CPU times: total: 15.6 ms\n",
      "Wall time: 11 ms\n"
     ]
    },
    {
     "name": "stderr",
     "output_type": "stream",
     "text": [
      "\n"
     ]
    }
   ],
   "source": [
    "%%time\n",
    "from tqdm import tqdm\n",
    "for i in tqdm(range(10000)):\n",
    "    continue"
   ]
  },
  {
   "cell_type": "code",
   "execution_count": null,
   "id": "d8a31ccf",
   "metadata": {},
   "outputs": [],
   "source": []
  }
 ],
 "metadata": {
  "kernelspec": {
   "display_name": "Python 3 (ipykernel)",
   "language": "python",
   "name": "python3"
  },
  "language_info": {
   "codemirror_mode": {
    "name": "ipython",
    "version": 3
   },
   "file_extension": ".py",
   "mimetype": "text/x-python",
   "name": "python",
   "nbconvert_exporter": "python",
   "pygments_lexer": "ipython3",
   "version": "3.9.12"
  }
 },
 "nbformat": 4,
 "nbformat_minor": 5
}
