{
 "cells": [
  {
   "cell_type": "markdown",
   "id": "ed8d2137",
   "metadata": {},
   "source": [
    "# Markdown Shortcuts\n",
    "- \\ : Change line \n",
    "- #:   Heading  \n",
    "- Star: Italic \n",
    "- Double Star : Bold \n",
    "- TripleStar : Section \n",
    "- Three BackTick  Python  Three BackTick : Python code within Markdown \n",
    "- <span style='color:red'>Colour Change</span>  \n",
    "- <u> Underline </u>\n",
    "- <span style='font-family:Times New Roman'> Font Family</span>  \n",
    "- ][ )( :hyperlink  "
   ]
  },
  {
   "cell_type": "markdown",
   "id": "99d102ff",
   "metadata": {},
   "source": [
    "# Cell Shortcuts\n",
    "- **H** : Shortcuts \n",
    "- **Ctrl + Alt** : Multiple Curser \n",
    "- **Ctrl + ]** : Indent or Dedent  \n",
    "- **Ctrl + /** : Comment \n",
    "- **Ctrl + Shift + Minus** : Split the cell || **Shift + M** : Merge the cells\n",
    "- **Shift + Enter** : Run Cell \n",
    "- **B** : insert cell Below || **A** : Insert Cell Above \n",
    "- **M** : Mark Down || **Y** : Chage Cell to Code \n",
    "- **Shift + L** : Line Number \n",
    "- **DD** : Delete Cell || **Z** : Undo Delete \n",
    "- **Ctrl + D** : Delete whole line || **Ctrl + U** : Redo \n",
    "- **F** : Find & Replace \n",
    "- **O** : Remove Output \n",
    "- **II** : Interept Kernal \n",
    "- **00** : Restart kernal "
   ]
  },
  {
   "cell_type": "markdown",
   "id": "85025bfb",
   "metadata": {},
   "source": [
    "****"
   ]
  },
  {
   "cell_type": "markdown",
   "id": "6e0e0e91",
   "metadata": {},
   "source": [
    "****"
   ]
  },
  {
   "cell_type": "markdown",
   "id": "920d59fe",
   "metadata": {},
   "source": [
    "```\n",
    "\n",
    "\n",
    "\n",
    "\n",
    "\n",
    "\n",
    "\n",
    "\n",
    "\n",
    "\n",
    "\n",
    "\n",
    "\n",
    "\n",
    "\n",
    "\n",
    "\n",
    "\n",
    "\n",
    "\n",
    "\n",
    "\n",
    "\n",
    "\n",
    "\n",
    "\n",
    "\n",
    "\n",
    "\n",
    "\n",
    "\n",
    "\n",
    "```"
   ]
  },
  {
   "cell_type": "markdown",
   "id": "1e157ea4",
   "metadata": {},
   "source": [
    "```\n",
    "zip \n",
    "enumerate\n",
    "lambda \n",
    "map\n",
    "filter\n",
    "```"
   ]
  },
  {
   "cell_type": "markdown",
   "id": "0dbe8967",
   "metadata": {},
   "source": [
    "\n",
    "String,int,float,boolian,NoneType and Tuple are only imutable Iterables in python"
   ]
  },
  {
   "cell_type": "markdown",
   "id": "9fa6c153",
   "metadata": {},
   "source": [
    " # <span style='color:red'>_Chapter 0: Datatype and Operators_</span>"
   ]
  },
  {
   "attachments": {
    "image-3.png": {
     "image/png": "[encoded data removed]"
    }
   },
   "cell_type": "markdown",
   "id": "fc193137",
   "metadata": {},
   "source": [
    " - [DataTypes](https://www.w3schools.com/python/python_datatypes.asp)\n",
    "   ![image-3.png](attachment:image-3.png)"
   ]
  },
  {
   "cell_type": "markdown",
   "id": "18194790",
   "metadata": {},
   "source": [
    " - [Operators](https://www.w3schools.com/python/gloss_python_arithmetic_operators.asp)\n",
    "  - [Arithmetic operators ](https://www.w3schools.com/python/gloss_python_arithmetic_operators.asp)\n",
    "  - [Assignment operators](https://www.w3schools.com/python/gloss_python_assignment_operators.asp)\n",
    "  - [Comparison operators](https://www.w3schools.com/python/gloss_python_comparison_operators.asp)(Alaways give True/False)\n",
    "  - [Logical operators](https://www.w3schools.com/python/gloss_python_logical_operators.asp)(input & output is always Boolian **\"and/or/not\"**)\n",
    "  - [Identity operators](https://www.w3schools.com/python/gloss_python_identity_operators.asp) **(is/== ,is not/!=)**\n",
    "  - [Membership operators](https://www.w3schools.com/python/gloss_python_membership_operators.asp) **(in/not in)**\n",
    "  - [Bitwise operators](https://www.w3schools.com/python/gloss_python_bitwise_operators.asp)"
   ]
  },
  {
   "cell_type": "markdown",
   "id": "50459c9d",
   "metadata": {},
   "source": [
    " - [math](https://www.w3schools.com/python/module_math.asp) int()/float()\n",
    " - [cmath](https://www.w3schools.com/python/module_cmath.asp) complex()\n",
    "   - phase()\n"
   ]
  },
  {
   "cell_type": "markdown",
   "id": "9cd1e2eb",
   "metadata": {},
   "source": [
    "### [Build In Functions](https://www.w3schools.com/python/python_ref_functions.asp)\n",
    "#### Applied to [String | List | Set | Tuple | Dictionary]\n",
    "- len()\n",
    "- sum()\n",
    "- min()/max()"
   ]
  },
  {
   "cell_type": "code",
   "execution_count": 5,
   "id": "ce3ea5b1",
   "metadata": {},
   "outputs": [
    {
     "name": "stdout",
     "output_type": "stream",
     "text": [
      "3.0\n"
     ]
    }
   ],
   "source": [
    "#fint the avg of the list\n",
    "l=[1,2,3,4,5]\n",
    "avg=sum(l)/len(l)\n",
    "print(avg)"
   ]
  },
  {
   "cell_type": "code",
   "execution_count": 6,
   "id": "add098ee",
   "metadata": {},
   "outputs": [
    {
     "data": {
      "text/plain": [
       "5"
      ]
     },
     "execution_count": 6,
     "metadata": {},
     "output_type": "execute_result"
    }
   ],
   "source": [
    "unique_element=set(l)  # Unique element in Indexables\n",
    "len(set(l))            # Total number of unique element Sin Indexible"
   ]
  },
  {
   "cell_type": "markdown",
   "id": "aa120f15",
   "metadata": {},
   "source": [
    "###   Typecasting\n",
    "\n",
    "1. int()\n",
    "2. float()\n",
    "3. string()\n",
    "4. list()\n",
    "5. tuple()\n",
    "6. set()\n",
    "7. dict()"
   ]
  },
  {
   "cell_type": "code",
   "execution_count": null,
   "id": "38f1711e",
   "metadata": {},
   "outputs": [],
   "source": [
    "#Creating an DataStructure\n",
    "   #Empty            #Non-Empty\n",
    "l=[] or l=list()   |   l=[1]       #--------> list\n",
    "d={} or d=dict()   |   d={\"a\":2}   #------>   dictionaty \n",
    "t=() or t=tuple()  |   t=(1,)      #--------> tuple\n",
    "        s=set()    |   s={1}       #--------> set"
   ]
  },
  {
   "cell_type": "code",
   "execution_count": 25,
   "id": "69529acf",
   "metadata": {
    "collapsed": true
   },
   "outputs": [
    {
     "name": "stdout",
     "output_type": "stream",
     "text": [
      "3.467500\n",
      "3.47\n",
      "3.47\n",
      "4\n",
      "-3\n",
      "3\n",
      "-4\n",
      "3\n",
      "-3\n"
     ]
    }
   ],
   "source": [
    "##Dealing with conversion between decimal and integer\n",
    "\n",
    "# '%.2f'%a method     ------------>Preferable when to increse length after decimal\n",
    "print ('%.6f'%3.4675)  #3.467500\n",
    "\n",
    "# round() & using f string         ----------------> Preferable when to decrease lenght after decimal\n",
    "print(round(3.4675,2))        #3.47\n",
    "print(float(f'{3.4675:.2f}')) #3.47\n",
    "\n",
    "import math as m\n",
    "# ceil()  --------------> takes only upper part of the float (right side of the numeric scale)\n",
    "print(m.ceil(3.33))   #4\n",
    "print(m.ceil(-3.33))  #-3\n",
    "\n",
    "# floor()   ----------------> Takes only lower part of float(left side of the numeric scale)\n",
    "print(m.floor(3.88))  #3\n",
    "print(m.floor(-3.88)) #-4\n",
    "\n",
    "# int()  -------------------------> Takes only int part of the float\n",
    "print(int(3.88))     #3\n",
    "print(int(-3.88))    #-3"
   ]
  },
  {
   "cell_type": "code",
   "execution_count": null,
   "id": "e0e3c0e9",
   "metadata": {},
   "outputs": [],
   "source": [
    "# 1)\n",
    "1234%10  #4   ---->last digit of number\n",
    "1234//10 #123 ---->All the digits except last digit\n",
    "\n",
    "#2) Swiping Numbers\n",
    "a,b=b,a  "
   ]
  },
  {
   "cell_type": "code",
   "execution_count": 4,
   "id": "1464581f",
   "metadata": {
    "collapsed": true
   },
   "outputs": [
    {
     "name": "stdout",
     "output_type": "stream",
     "text": [
      "a b c 1 2 3\n",
      "A/B/C\n"
     ]
    }
   ],
   "source": [
    "# print(end,sep)\n",
    "print('a','b','c',end=' ')  # a b c 1 2 3\n",
    "print(1,2,3)\n",
    "\n",
    "print('A','B','C',sep='/')  # A/B/C"
   ]
  },
  {
   "cell_type": "code",
   "execution_count": 1,
   "id": "0dc807ce",
   "metadata": {
    "collapsed": true
   },
   "outputs": [
    {
     "name": "stdout",
     "output_type": "stream",
     "text": [
      "97\n",
      "a\n",
      "2099889007056\n"
     ]
    }
   ],
   "source": [
    "#printing ASCII vlaue of a string character \n",
    "'''\n",
    "A-Z:65-90\n",
    "a-z:97-122\n",
    "'''\n",
    "print(ord('a'))   #ASCII Value of String Charecter\n",
    "print(chr(97))    #String Character w.r.t ASCII value\n",
    "\n",
    "a=6\n",
    "print(id(a))      #see the location of the variable stored"
   ]
  },
  {
   "cell_type": "markdown",
   "id": "9fa33e8e",
   "metadata": {},
   "source": [
    "# Indexable & Can contain Dublicate elements : \n",
    "```\n",
    "- List   |--> Mutable  \n",
    "- String |--> Imutable\n",
    "- Tuple  |--> Imutable\n",
    "```"
   ]
  },
  {
   "cell_type": "markdown",
   "id": "0ce3d2d7",
   "metadata": {},
   "source": [
    "### Concatination"
   ]
  },
  {
   "cell_type": "code",
   "execution_count": 10,
   "id": "e8752540",
   "metadata": {
    "collapsed": true
   },
   "outputs": [
    {
     "name": "stdout",
     "output_type": "stream",
     "text": [
      "Great India\n",
      "[1, 2, 5, 6]\n",
      "(1, 2, 'A', 'B')\n"
     ]
    }
   ],
   "source": [
    "print('Great'+' '+'India')    # \"Great India\"      # String\n",
    "print([1,2]+[5,6])            # [1, 2, 5, 6]       # List\n",
    "print((1,2)+('A','B'))        # (1, 2, 'A', 'B')   # Tuple"
   ]
  },
  {
   "cell_type": "markdown",
   "id": "a547fe9e",
   "metadata": {},
   "source": [
    "### Multiplication"
   ]
  },
  {
   "cell_type": "code",
   "execution_count": 14,
   "id": "419a2b62",
   "metadata": {
    "collapsed": true
   },
   "outputs": [
    {
     "name": "stdout",
     "output_type": "stream",
     "text": [
      "***\n",
      "[1, 2, 1, 2, 1, 2]\n",
      "(4, 5, 4, 5, 4, 5)\n"
     ]
    }
   ],
   "source": [
    "print('*'*3)     # \"***\"                # String\n",
    "print([1,2]*3)   # [1, 2, 1, 2, 1, 2]   # List\n",
    "print((4,5)*3)   # (4, 5, 4, 5, 4, 5)   # Tuple"
   ]
  },
  {
   "cell_type": "markdown",
   "id": "e985104b",
   "metadata": {},
   "source": [
    "### Slicing (Substraction)"
   ]
  },
  {
   "cell_type": "markdown",
   "id": "d2bd9bb5",
   "metadata": {},
   "source": [
    "s[start:end+1:step_size] \\\n",
    "s[a:b]=s[-(len-a):-(len-b)] \\\n",
    "|| Freedom feels great ||\n",
    "\n",
    "\n",
    "```\n",
    "          0   1   2   3   4   5   6   7   8   9   10  11  12  13  14  15  16  17\n",
    "          F   r   e   e   d   o   m   _   F   e   e   l   _   G   r   e   a   t\n",
    "         -18 -17 -16 -15 -14 -13 -12 -11 -10  -9  -8  -7  -6  -5  -4  -3  -2  -1 \n",
    "```"
   ]
  },
  {
   "cell_type": "code",
   "execution_count": 12,
   "id": "f45f6f0b",
   "metadata": {
    "collapsed": true
   },
   "outputs": [
    {
     "name": "stdout",
     "output_type": "stream",
     "text": [
      "taerg sleef modeerF\n",
      "[5, 4, 3, 2, 1]\n",
      "(4, 3, 2, 1)\n",
      "521\n"
     ]
    }
   ],
   "source": [
    "last_element=l1[-1]   #Accesing last element\n",
    "n_last_element=l1[-n] #Accessing nth last index\n",
    "\n",
    "#Reversing \n",
    "s='Freedom feels great'   # String\n",
    "print(s[::-1])            # taerg sleef modeerF\n",
    "\n",
    "l=[1,2,3,4,5]           # List\n",
    "print(l[::-1])          # [5, 4, 3, 2, 1]\n",
    "\n",
    "t=(1,2,3,4)             # Tuple\n",
    "print(t[::-1])          # (4, 3, 2, 1)\n",
    "\n",
    "#Reversing the intiger\n",
    "N=125\n",
    "print(int(str(N)[::-1]))"
   ]
  },
  {
   "cell_type": "code",
   "execution_count": 13,
   "id": "a4af1812",
   "metadata": {},
   "outputs": [
    {
     "name": "stdout",
     "output_type": "stream",
     "text": [
      "[2, 1, 4, 6, 7]\n"
     ]
    }
   ],
   "source": [
    "#Rotate Indexables  by n steps\n",
    "n=6\n",
    "l1=[1,2,3,4,5]\n",
    "\n",
    "x=n%len(l1)             #Anticlockwiese    \n",
    "x=(len(l1)-n)%len(l1)   #Clockwiese\n",
    "\n",
    "lr=l1[x:]+l1[:x]\n",
    "\n",
    "\n",
    "# Using decque\n",
    "from collections import deque\n",
    "l = [1, 4, 6, 7, 2]\n",
    "\n",
    "x= deque(l)\n",
    "x.rotate(1)\n",
    "l = list(x)\n",
    "\n",
    "print(l)"
   ]
  },
  {
   "cell_type": "markdown",
   "id": "873ea384",
   "metadata": {},
   "source": [
    "### Dealing with Imutibility in String & Tuple (Does Not Support item indexing)"
   ]
  },
  {
   "cell_type": "code",
   "execution_count": 14,
   "id": "caec979a",
   "metadata": {
    "collapsed": true
   },
   "outputs": [
    {
     "ename": "TypeError",
     "evalue": "'str' object does not support item assignment",
     "output_type": "error",
     "traceback": [
      "\u001b[1;31m---------------------------------------------------------------------------\u001b[0m",
      "\u001b[1;31mTypeError\u001b[0m                                 Traceback (most recent call last)",
      "Input \u001b[1;32mIn [14]\u001b[0m, in \u001b[0;36m<cell line: 3>\u001b[1;34m()\u001b[0m\n\u001b[0;32m      1\u001b[0m \u001b[38;5;66;03m#3) Strings are imutable does not support item assignment\u001b[39;00m\n\u001b[0;32m      2\u001b[0m s\u001b[38;5;241m=\u001b[39m\u001b[38;5;124m'\u001b[39m\u001b[38;5;124mSwapnil\u001b[39m\u001b[38;5;124m'\u001b[39m\n\u001b[1;32m----> 3\u001b[0m s[\u001b[38;5;241m2\u001b[39m]\u001b[38;5;241m=\u001b[39m\u001b[38;5;124m'\u001b[39m\u001b[38;5;124m@\u001b[39m\u001b[38;5;124m'\u001b[39m     \u001b[38;5;66;03m# Error\u001b[39;00m\n\u001b[0;32m      5\u001b[0m t\u001b[38;5;241m=\u001b[39m(\u001b[38;5;241m1\u001b[39m,\u001b[38;5;241m2\u001b[39m,\u001b[38;5;241m3\u001b[39m,\u001b[38;5;241m4\u001b[39m)\n\u001b[0;32m      6\u001b[0m t[\u001b[38;5;241m1\u001b[39m]\u001b[38;5;241m=\u001b[39m\u001b[38;5;124m'\u001b[39m\u001b[38;5;124ma\u001b[39m\u001b[38;5;124m'\u001b[39m\n",
      "\u001b[1;31mTypeError\u001b[0m: 'str' object does not support item assignment"
     ]
    }
   ],
   "source": [
    "#3) Strings are imutable does not support item assignment\n",
    "s='Rameswaram'\n",
    "s[2]='@'     # Error\n",
    "\n",
    "t=(1,2,3,4)\n",
    "t[1]='a'     # Error"
   ]
  },
  {
   "cell_type": "code",
   "execution_count": 3,
   "id": "2188113b",
   "metadata": {
    "collapsed": true
   },
   "outputs": [
    {
     "name": "stdout",
     "output_type": "stream",
     "text": [
      "abrakadabra\n",
      "abrakadabra\n",
      "abrakadabra\n"
     ]
    }
   ],
   "source": [
    "#This is How we taggle the 'No support in the String'\n",
    "# string[4]='k'\n",
    "#Method 1\n",
    "string = \"abracadabra\"\n",
    "l = list(string)\n",
    "l[4] = 'k'\n",
    "string = ''.join(l)\n",
    "print(string)  #abrakadabra\n",
    "\n",
    "#Method 2\n",
    "string = \"abracadabra\"\n",
    "string = string[:4] + \"k\" + string[5:]\n",
    "print(string)  #abrakadabra\n",
    "\n",
    "#Method 3 (use specially when we want to replace ALL PRASES in the string)\n",
    "string = \"abracadabra\"\n",
    "string = string.replace('c','k')\n",
    "print(string)  #abrakadabra"
   ]
  },
  {
   "cell_type": "code",
   "execution_count": 16,
   "id": "cd14604a",
   "metadata": {
    "collapsed": true
   },
   "outputs": [
    {
     "name": "stdout",
     "output_type": "stream",
     "text": [
      "(1, 'a', 5, 7, 'k', 'str', 7)\n",
      "(1, 'a', 5, 7, 'k', 'str', 7)\n"
     ]
    }
   ],
   "source": [
    "#This is how we tackle immutation in python\n",
    "#t[4]='k'\n",
    "#Method 1\n",
    "t1 = (1,'a',5,7,5.0,'str',7)\n",
    "l = list(t1)\n",
    "l[4] = 'k'\n",
    "t1 = tuple(l)\n",
    "print(t1)                      # (1, 'a', 5, 7, 'k', 'str', 7)\n",
    "\n",
    "#Method 2\n",
    "t1 = (1,'a',5,7,5.0,'str',7)  \n",
    "t1 = t1[:4] + ('k',) + t1[5:]\n",
    "print(t1)                      # (1, 'a', 5, 7, 'k', 'str', 7)"
   ]
  },
  {
   "cell_type": "markdown",
   "id": "2687c3dd",
   "metadata": {},
   "source": [
    "****"
   ]
  },
  {
   "cell_type": "markdown",
   "id": "6ced59b9",
   "metadata": {},
   "source": [
    "```\n",
    "\n",
    "\n",
    "\n",
    "\n",
    "\n",
    "\n",
    "\n",
    "\n",
    "\n",
    "\n",
    "\n",
    "\n",
    "\n",
    "\n",
    "\n",
    "\n",
    "\n",
    "\n",
    "\n",
    "\n",
    "\n",
    "\n",
    "\n",
    "\n",
    "\n",
    "\n",
    "\n",
    "\n",
    "\n",
    "\n",
    "\n",
    "\n",
    "\n",
    "\n",
    "\n",
    "\n",
    "\n",
    "\n",
    "```"
   ]
  },
  {
   "cell_type": "markdown",
   "id": "d3ac942c",
   "metadata": {},
   "source": [
    "# <span style='color:red'>_**Chapter 1 : Strings**_</span>"
   ]
  },
  {
   "cell_type": "markdown",
   "id": "8eb25c01",
   "metadata": {},
   "source": [
    "### Basics"
   ]
  },
  {
   "cell_type": "code",
   "execution_count": 17,
   "id": "9ed51d07",
   "metadata": {
    "collapsed": true
   },
   "outputs": [
    {
     "name": "stdout",
     "output_type": "stream",
     "text": [
      "Twinkle, twinkle, little star,\n",
      "How I wonder what you are!\n",
      "Up above the world so high,\n"
     ]
    }
   ],
   "source": [
    "#String in multiple lines\n",
    "print('''Twinkle, twinkle, little star,\n",
    "How I wonder what you are!\n",
    "Up above the world so high,''')"
   ]
  },
  {
   "cell_type": "code",
   "execution_count": 18,
   "id": "9bf48430",
   "metadata": {},
   "outputs": [
    {
     "name": "stdout",
     "output_type": "stream",
     "text": [
      "Bhagat Singh is 23 year old\n",
      "Value of pie is 3.143454 and upto 2 dicimal places is 3.14\n"
     ]
    }
   ],
   "source": [
    "#fstring()\n",
    "age=23\n",
    "pi=3.143454\n",
    "print(f'Bhagat Singh was {age} year old')\n",
    "print(f'Value of pie is {pi} and upto 2 dicimal places is {pi:.2f}')"
   ]
  },
  {
   "cell_type": "code",
   "execution_count": 21,
   "id": "da780055",
   "metadata": {
    "collapsed": true
   },
   "outputs": [
    {
     "name": "stdout",
     "output_type": "stream",
     "text": [
      "3.10\n",
      "5.760\n",
      "5.8\n"
     ]
    }
   ],
   "source": [
    "#Note in Above Example fstring cannot be use to convert (int into float) it converts (int/float into string)\n",
    "##Managing the decimal of float no\n",
    "print('%.2f'% 3.1)            #float->3.10\n",
    "\n",
    "print(f'{5.76:.3f}')          #str->5.760\n",
    "print(float(f\"{5.76:.1f}\"))   #flotat-->7.76"
   ]
  },
  {
   "cell_type": "code",
   "execution_count": 19,
   "id": "7bb47b05",
   "metadata": {
    "collapsed": true
   },
   "outputs": [
    {
     "name": "stdout",
     "output_type": "stream",
     "text": [
      "('I', 'N', 'D', 'I', 'A')\n",
      "['I', 'N', 'D', 'I', 'A']\n",
      "{'N', 'I', 'A', 'D'}\n"
     ]
    }
   ],
   "source": [
    "print(tuple(\"INDIA\"))  # ('I', 'N', 'D', 'I', 'A')\n",
    "print(list(\"INDIA\"))   # ['I', 'N', 'D', 'I', 'A']\n",
    "print(set('INDIA'))    # {'N', 'I', 'A', 'D'}"
   ]
  },
  {
   "cell_type": "markdown",
   "id": "bcbb0b1e",
   "metadata": {},
   "source": [
    "### [String Methods](https://www.w3schools.com/python/python_ref_string.asp)"
   ]
  },
  {
   "cell_type": "markdown",
   "id": "49307dfc",
   "metadata": {},
   "source": [
    "- [rjust()/ljust()/center()](https://www.w3schools.com/python/trypython.asp?filename=demo_ref_string_rjust2)\n",
    "- [strip()](https://www.w3schools.com/python/ref_string_strip.asp)"
   ]
  },
  {
   "cell_type": "code",
   "execution_count": 20,
   "id": "4775b793",
   "metadata": {
    "collapsed": true
   },
   "outputs": [
    {
     "name": "stdout",
     "output_type": "stream",
     "text": [
      "--------INDIA--------\n",
      "INDIA----------------\n",
      "----------------INDIA\n",
      "-I--\n"
     ]
    }
   ],
   "source": [
    "#ljust() rjust() centre()\n",
    "print('INDIA'.center(21,'-'))  # --------INDIA--------\n",
    "print('INDIA'.ljust(21,'-'))   # INDIA----------------\n",
    "print('INDIA'.rjust(21,'-'))   # ----------------INDIA\n",
    "\n",
    "print(\"I\".center(4,'-'))         #-I--"
   ]
  },
  {
   "cell_type": "code",
   "execution_count": 21,
   "id": "7c3cd2e5",
   "metadata": {
    "collapsed": true
   },
   "outputs": [
    {
     "name": "stdout",
     "output_type": "stream",
     "text": [
      "Imagine Believe    Achieve\n"
     ]
    }
   ],
   "source": [
    "#Strip()\n",
    "s='---Imagine Believe    Achieve--    ---,,#,'\n",
    "print(s.strip('#-, '))  # \"Imagine Believe    Achieve\""
   ]
  },
  {
   "cell_type": "markdown",
   "id": "e29cb676",
   "metadata": {},
   "source": [
    " List to String Conversion\n",
    " - [split('')](https://www.w3schools.com/python/ref_string_split.asp)\n",
    " - [''.join(L)](https://www.w3schools.com/python/python_string_formatting.asp)"
   ]
  },
  {
   "cell_type": "code",
   "execution_count": 26,
   "id": "8d9235a7",
   "metadata": {
    "collapsed": true
   },
   "outputs": [
    {
     "name": "stdout",
     "output_type": "stream",
     "text": [
      "['Big', 'Egos', 'have', 'Little', 'Ears']\n",
      "Just Do It\n",
      "['I', 'N', 'D', 'I', 'A']\n"
     ]
    }
   ],
   "source": [
    "#Understanding 1 (Converting Using Delimeter)\n",
    "\n",
    "a='Big Egos have Little Ears'                                #string--->String list\n",
    "print(a.split()) #['Big', 'Egos', 'have', 'Little', 'Ears']                                                 \n",
    "                                             \n",
    "print(' '.join(['Just','Do','It']))  #\"Just Do It\"           #String list----->string\n",
    "# Note: While using .join method on list , each element in the list must be in string format\n",
    "\n",
    "print(list('INDIA')) #['I', 'N', 'D', 'I', 'A']              #string---->String list"
   ]
  },
  {
   "cell_type": "code",
   "execution_count": 27,
   "id": "35f98de1",
   "metadata": {
    "collapsed": true
   },
   "outputs": [
    {
     "name": "stdout",
     "output_type": "stream",
     "text": [
      "['Sw', 'pnil']\n",
      "['Never', 'Miss', 'a', 'Chance', 'to', 'Dance']\n"
     ]
    }
   ],
   "source": [
    "#split()\n",
    "s1='pikaoo@chillpill.com'\n",
    "s2='Never Miss a Chance to Dance'\n",
    "\n",
    "print(s1.split('@'))   #['pikaoo', 'chillpill.com']\n",
    "print(s2.split(' '))   #['Never', 'Miss', 'a', 'Chance', 'to', 'Dance']"
   ]
  },
  {
   "cell_type": "code",
   "execution_count": 46,
   "id": "073d9c1e",
   "metadata": {
    "collapsed": true
   },
   "outputs": [
    {
     "name": "stdout",
     "output_type": "stream",
     "text": [
      "['ABCDEFGHIJKLM', 'NOPQRSTUVWXYZ']\n",
      "ABCDEFGHIJKLM\n",
      "NOPQRSTUVWXYZ\n"
     ]
    },
    {
     "data": {
      "text/plain": [
       "'\\nABCDEFGHIJKLM\\nNOPQRSTUVWXYZ\\n'"
      ]
     },
     "execution_count": 46,
     "metadata": {},
     "output_type": "execute_result"
    }
   ],
   "source": [
    "#3)textwrap(Converting  string into list in terms of fixed batches)\n",
    "import textwrap as tp\n",
    "s='ABCDEFGHIJKLMNOPQRSTUVWXYZ'\n",
    "\n",
    "print(tp.wrap(s,13))   \n",
    "#['ABCDEFGHIJKLM', 'NOPQRSTUVWXYZ']\n",
    "\n",
    "print(tp.fill(s,13))\n",
    "'''\n",
    "ABCDEFGHIJKLM\n",
    "NOPQRSTUVWXYZ\n",
    "'''"
   ]
  },
  {
   "cell_type": "code",
   "execution_count": 28,
   "id": "f67d3035",
   "metadata": {
    "collapsed": true
   },
   "outputs": [
    {
     "name": "stdout",
     "output_type": "stream",
     "text": [
      "Simple but significant\n",
      "Simple But Significant\n",
      "simple but significant\n",
      "SIMPLE BUT SIGNIFICANT\n",
      "SiMplE But sIgNIfIcaNt\n"
     ]
    }
   ],
   "source": [
    "#4)\n",
    "print('simple but Significant'.capitalize()) # Simple but significant\n",
    "print('simple but significant'.title())      # Simple But Significant\n",
    "print('SIMPLE BUT SIGNIFICANT'.lower())      # simple but significant\n",
    "print('simple but significant'.upper())      # SIMPLE BUT SIGNIFICANT\n",
    "print('sImPLe bUT SiGniFiCAnT'.swapcase())   # SiMplE But sIgNIfIcaNt"
   ]
  },
  {
   "cell_type": "code",
   "execution_count": 4,
   "id": "6093ebb8",
   "metadata": {
    "collapsed": true
   },
   "outputs": [
    {
     "name": "stdout",
     "output_type": "stream",
     "text": [
      "True\n",
      "False\n",
      "True\n",
      "False\n",
      "True\n",
      "False\n",
      "True\n",
      "False\n",
      "True\n",
      "False\n"
     ]
    }
   ],
   "source": [
    "#5)String Validators (Thease validators works on Pre-Assign Assci value)\n",
    "print('abcd123#'.islower()) #True     (numbers and special characters are ignored)\n",
    "print('Abcd123#'.islower()) #False\n",
    "\n",
    "print('ABCD123#'.isupper()) #True     (numbers and special characters are ignored)\n",
    "print('Abcd123#'.isupper()) #False\n",
    "\n",
    "print('abcD'.isalpha())     #True\n",
    "print('abcd1'.isalpha())    #False\n",
    "\n",
    "print('1234'.isdigit())    #True\n",
    "print('123edsd'.isdigit()) #False\n",
    "\n",
    "print('ab123'.isalnum())   #True\n",
    "print('ab123#'.isalnum())  #False"
   ]
  },
  {
   "cell_type": "code",
   "execution_count": 48,
   "id": "72af61e2",
   "metadata": {
    "collapsed": true
   },
   "outputs": [
    {
     "name": "stdout",
     "output_type": "stream",
     "text": [
      "True\n",
      "True\n",
      "True\n",
      "True\n"
     ]
    }
   ],
   "source": [
    "#6) \n",
    "#endwith() --------------> Return Boolean\n",
    "print('Be gentle first with yourself.'.endswith('self'))  #True\n",
    "\n",
    "#startswith() --------------> Return Boolean\n",
    "print('Be gentle first with yourself.'.startswith('Be')) #True"
   ]
  },
  {
   "cell_type": "code",
   "execution_count": 30,
   "id": "ed435033",
   "metadata": {
    "collapsed": true
   },
   "outputs": [
    {
     "name": "stdout",
     "output_type": "stream",
     "text": [
      "2\n",
      "1\n",
      "7\n",
      "2\n"
     ]
    }
   ],
   "source": [
    "#7)count('word'/'letter')\n",
    "strn='Give papa a cup of Proper coffee in a copper coffee Cup'\n",
    "print(strn.count(\"coffee\"))  #2\n",
    "print(strn.count(\"Cup\"))     #1\n",
    "print(strn.count('p'))       #7\n",
    "print(strn.count('up'))      #2"
   ]
  },
  {
   "cell_type": "code",
   "execution_count": 31,
   "id": "f1b94278",
   "metadata": {
    "collapsed": true
   },
   "outputs": [
    {
     "name": "stdout",
     "output_type": "stream",
     "text": [
      "12\n",
      "30\n",
      "-1\n"
     ]
    }
   ],
   "source": [
    "#8)find('substring') -----------> int \n",
    "# return the index of the first occurence of the word/letter in the string and return -1 when the word/letter is absent\n",
    "strn='Give papa a cup of Proper coffee in a copper coffee Cup'\n",
    "print(strn.find('cup'))   #12\n",
    "print(strn.find('ee'))    #30\n",
    "print(strn.find('zx'))    #-1 (Not Found)"
   ]
  },
  {
   "cell_type": "code",
   "execution_count": 53,
   "id": "90e5a459",
   "metadata": {
    "collapsed": true
   },
   "outputs": [
    {
     "name": "stdout",
     "output_type": "stream",
     "text": [
      "Jayashri Amale Amale korde\n",
      "Swapnil is , where  in not Swapnil\n"
     ]
    }
   ],
   "source": [
    "#9)replace('old word','new word') -----------------> str (replace the old word by newword in Entire string)\n",
    "s1='petting a dog'\n",
    "print(s1.replace('dog','cat'))  # Jayashri Amale Amale korde\n",
    "\n",
    "# removing substring from string\n",
    "s1='X is Y, where Y in not X'\n",
    "print(s1.replace('Y','Z'))        # X is Z, where Z in not X"
   ]
  },
  {
   "cell_type": "markdown",
   "id": "babe5fad",
   "metadata": {},
   "source": [
    "###  Questions"
   ]
  },
  {
   "cell_type": "code",
   "execution_count": 54,
   "id": "fa248c46",
   "metadata": {
    "collapsed": true
   },
   "outputs": [
    {
     "name": "stdout",
     "output_type": "stream",
     "text": [
      "Swapnil is very strong  person!    Yes\n",
      "22\n",
      "True\n",
      "Swapnil is very strong person!  Yes\n"
     ]
    }
   ],
   "source": [
    "#WAP to detect double spaces in the string\n",
    "strn='Abraham Lincoln was very strong  person!    Yes'\n",
    "print(strn.find('  '))  #22(index)     #Using find operator \n",
    "print('  ' in strn)     #True          #Using in operator\n",
    "\n",
    "#Replace the double spaces with the single space in the above problem\n",
    "strn=strn.replace('  ',' ')\n",
    "print(strn)                   # \"Abraham Lincoln was very strong person!  Yes\""
   ]
  },
  {
   "cell_type": "markdown",
   "id": "f1696fab",
   "metadata": {},
   "source": [
    "***"
   ]
  },
  {
   "cell_type": "markdown",
   "id": "7223b9e8",
   "metadata": {},
   "source": [
    "```\n",
    "\n",
    "\n",
    "\n",
    "\n",
    "\n",
    "\n",
    "\n",
    "\n",
    "\n",
    "\n",
    "\n",
    "\n",
    "\n",
    "\n",
    "\n",
    "\n",
    "\n",
    "\n",
    "\n",
    "\n",
    "\n",
    "\n",
    "\n",
    "\n",
    "\n",
    "\n",
    "\n",
    "\n",
    "\n",
    "\n",
    "\n",
    "\n",
    "\n",
    "\n",
    "\n",
    "\n",
    "\n",
    "\n",
    "\n",
    "\n",
    "\n",
    "\n",
    "\n",
    "\n",
    "\n",
    "\n",
    "\n",
    "\n",
    "```"
   ]
  },
  {
   "cell_type": "markdown",
   "id": "10f6ada4",
   "metadata": {},
   "source": [
    "# <span style='color:red'>_Chapter 2: [List](https://www.w3schools.com/python/python_lists.asp)_</span>  "
   ]
  },
  {
   "cell_type": "markdown",
   "id": "6ed3d1d0",
   "metadata": {},
   "source": [
    "## [List Methods](https://www.w3schools.com/python/python_lists_methods.asp) \n",
    "Methods (list method **changes the original list** unlike strings\n",
    " -  [any(L)](https://www.w3schools.com/python/ref_func_any.asp#:~:text=The%20any()%20function%20returns,()%20function%20will%20return%20False.)"
   ]
  },
  {
   "cell_type": "code",
   "execution_count": 68,
   "id": "127ec019",
   "metadata": {
    "collapsed": true
   },
   "outputs": [
    {
     "name": "stdout",
     "output_type": "stream",
     "text": [
      "[1, 6, 7, 2, 21, 15, 10000]\n",
      "['apple', 'orange', 'banana', 'cherry']\n",
      "[1, 6, 7, 2, 21]\n",
      "1\n",
      "[6, 7, 2, 21, 15]\n",
      "[6, 7, 2, 15]\n",
      "5\n",
      "2\n",
      "[1, 2, 6, 7, 15, 21]\n"
     ]
    }
   ],
   "source": [
    "#___________________________________ Adding_Element __________________________________________\n",
    "# append()\n",
    "l1=[1,6,7,2,21,15]\n",
    "l1.append(10000)\n",
    "print(l1)   # [1, 6, 7, 2, 21, 15, 10000]\n",
    "\n",
    "# insert(element,index)\n",
    "fruits = ['apple', 'banana', 'cherry']\n",
    "fruits.insert(1, \"orange\") \n",
    "print(fruits)  # ['apple', 'orange', 'banana', 'cherry']\n",
    "\n",
    "\n",
    "#___________________________________Removing Element _________________________________________\n",
    "# remove(element)\n",
    "l1=[1,6,7,2,21,15]\n",
    "l1.remove(15)                  #Throws error if element not exist\n",
    "print(l1)   # [1, 6, 7, 2, 21]\n",
    "\n",
    "# pop(index) | del l[index]\n",
    "l1=[1,6,7,2,21,15]\n",
    "print(l1.pop(0)) #1           # By Default it remove last element if index is not provided\n",
    "print(l1)   # [6, 7, 2, 21, 15]\n",
    "\n",
    "del l1[3]\n",
    "print(l1)   # [6, 7, 2, 15]   \n",
    "\n",
    "#____________________________________________________________________________________________\n",
    "# index(element) - (Internally uses Linear Search)\n",
    "l1=[1,6,7,2,21,15]\n",
    "print(l1.index(15))   #5   #Throws an error if not found\n",
    "\n",
    "# count(element)\n",
    "l1=['a','b','c','a']\n",
    "print(l1.count('a'))  #2   #Safest Method\n",
    "\n",
    "# sort() - (uses Timsort Algo internally)\n",
    "l1=[1,6,7,2,21,15]\n",
    "l1.sort()\n",
    "print(l1)   #[1, 2, 6, 7, 15, 21]"
   ]
  },
  {
   "cell_type": "code",
   "execution_count": 22,
   "id": "e93974bc",
   "metadata": {
    "collapsed": true
   },
   "outputs": [
    {
     "name": "stdout",
     "output_type": "stream",
     "text": [
      "[3, 4, 5, 6, 8, 9]\n"
     ]
    }
   ],
   "source": [
    "#Flatten the nested list\n",
    "l=[[3,4,5,6],[8,9]]\n",
    "l=sum(l,[])\n",
    "print(l)       # [3, 4, 5, 6, 8, 9]"
   ]
  },
  {
   "cell_type": "markdown",
   "id": "794c4919",
   "metadata": {},
   "source": [
    "### [List Comprehention](https://www.w3schools.com/python/python_lists_comprehension.asp)\n",
    "```\n",
    "l=[\n",
    "    expresion(i,j)                              #What We are appending      \n",
    "    for i in iterator(1) for j in iterator(2)   #Difine loops    \n",
    "    if condition                                #Define condition\n",
    "  ]\n",
    "```"
   ]
  },
  {
   "cell_type": "code",
   "execution_count": 14,
   "id": "d01dc0e4",
   "metadata": {
    "collapsed": true
   },
   "outputs": [
    {
     "name": "stdout",
     "output_type": "stream",
     "text": [
      "[1, 9, 25, 49]\n"
     ]
    }
   ],
   "source": [
    "l=[1,3,5,7,8,4]\n",
    "l=[ \n",
    "    i**2\n",
    "    for i in l\n",
    "    if i%2!=0\n",
    "  ]\n",
    "\n",
    "print(l)   #[1, 9, 25, 49]"
   ]
  },
  {
   "cell_type": "code",
   "execution_count": 15,
   "id": "5cddaac8",
   "metadata": {
    "scrolled": true
   },
   "outputs": [
    {
     "name": "stdout",
     "output_type": "stream",
     "text": [
      "[(2, 11), (2, 13), (2, 15), (2, 17), (2, 19), (4, 11), (4, 13), (4, 15), (4, 17), (4, 19), (6, 11), (6, 13), (6, 15), (6, 17), (6, 19), (8, 11), (8, 13), (8, 15), (8, 17), (8, 19), (10, 11), (10, 13), (10, 15), (10, 17), (10, 19)]\n"
     ]
    }
   ],
   "source": [
    "#list complrehensions as Product or grid search\n",
    "l1=[1,2,3,4,5,6,7,8,9,10]\n",
    "l2=[11,12,13,14,15,16,17,18,19,20]\n",
    "\n",
    "L=[\n",
    "   (i,j)\n",
    "   for i in l1 for j in l2\n",
    "   if i%2==0 and j%2!=0\n",
    "  ]\n",
    "\n",
    "print(L)"
   ]
  },
  {
   "cell_type": "markdown",
   "id": "72ba9289",
   "metadata": {},
   "source": [
    "### 2D list (matrixs)"
   ]
  },
  {
   "cell_type": "code",
   "execution_count": 1,
   "id": "c1b132a5",
   "metadata": {},
   "outputs": [
    {
     "name": "stdout",
     "output_type": "stream",
     "text": [
      "[[0, 0, 0], [0, 0, 0]]\n",
      "[[1, 0, 0], [0, 1, 0], [0, 0, 1]]\n"
     ]
    }
   ],
   "source": [
    "# Generating a null matrixs\n",
    "row=2\n",
    "col=3\n",
    "ll=[ [0 for _ in range(col)] for _ in range(row) ]\n",
    "print(ll)\n",
    "\n",
    "# Generating Identity Matrix\n",
    "I=[ [int(not(i-j)) for i in range(3)] for j in range(3)]\n",
    "print(I)"
   ]
  },
  {
   "cell_type": "code",
   "execution_count": 1,
   "id": "5b9eb86c",
   "metadata": {},
   "outputs": [
    {
     "name": "stdout",
     "output_type": "stream",
     "text": [
      "1 2 3\n",
      "5 2 7\n",
      "1 9 5\n",
      "11 1 4\n",
      "6 2 8\n",
      "0 1 5\n"
     ]
    }
   ],
   "source": [
    "#Taking Input as a matrixs\n",
    "row=3\n",
    "A=[ list(map(int,input().split()))  for _ in range(row)]\n",
    "B=[ list(map(int,input().split()))  for _ in range(row)]"
   ]
  },
  {
   "cell_type": "code",
   "execution_count": 2,
   "id": "253e25b4",
   "metadata": {
    "scrolled": true
   },
   "outputs": [
    {
     "name": "stdout",
     "output_type": "stream",
     "text": [
      "[[12, 3, 7], [11, 4, 15], [1, 10, 10]]\n",
      "[[1, 5, 1], [2, 2, 9], [3, 7, 5]]\n"
     ]
    }
   ],
   "source": [
    "# Operation on matrixs (+,-,*,/)\n",
    "l=[ [ A[i][j] + B[i][j] for j in range(len(A[0])) ] for i in range(len(A))]\n",
    "print(l)\n",
    "\n",
    "#Transpose\n",
    "T=[ [A[j][i] for j in range(len(A))] for i in range(len(A[0]))]\n",
    "print(T)"
   ]
  },
  {
   "cell_type": "markdown",
   "id": "0bc43d9b",
   "metadata": {},
   "source": [
    "```\n",
    "\n",
    "\n",
    "\n",
    "\n",
    "\n",
    "\n",
    "\n",
    "\n",
    "\n",
    "\n",
    "\n",
    "\n",
    "\n",
    "\n",
    "\n",
    "\n",
    "\n",
    "\n",
    "\n",
    "\n",
    "\n",
    "\n",
    "\n",
    "\n",
    "\n",
    "\n",
    "```"
   ]
  },
  {
   "cell_type": "markdown",
   "id": "e4fa8b98",
   "metadata": {},
   "source": [
    "# <span style='color:red'>_Chapter 3:[Tuple](https://www.w3schools.com/python/python_tuples.asp)_</span>  "
   ]
  },
  {
   "cell_type": "markdown",
   "id": "c96c1884",
   "metadata": {},
   "source": [
    "## [Tuples Methods](https://www.w3schools.com/python/python_ref_tuple.asp)  (Immutable)"
   ]
  },
  {
   "cell_type": "code",
   "execution_count": 4,
   "id": "f6fca9b0",
   "metadata": {
    "collapsed": true
   },
   "outputs": [
    {
     "name": "stdout",
     "output_type": "stream",
     "text": [
      "4\n",
      "3\n"
     ]
    }
   ],
   "source": [
    "# index(element) - (Internally uses Linear Search)\n",
    "t=(1,2,4,5,4,1,2,1,1)   \n",
    "print(t.index(5))  #4\n",
    "\n",
    "t=(1,2,4,5,4,1,2,1,1,5)\n",
    "print(t.count(1))  #3"
   ]
  },
  {
   "cell_type": "code",
   "execution_count": 85,
   "id": "4f4af612",
   "metadata": {},
   "outputs": [
    {
     "name": "stdout",
     "output_type": "stream",
     "text": [
      "[(0, 'H'), (1, 'a'), (2, 'c'), (3, 'k'), (4, 'e'), (5, 'r'), (6, 'r'), (7, 'a'), (8, 'n'), (9, 'k')]\n"
     ]
    }
   ],
   "source": [
    "# list of tuple (index,element) \n",
    "print(list(enumerate(['H','a','c','k','e','r','r','a','n','k'])))"
   ]
  },
  {
   "cell_type": "markdown",
   "id": "e3c9b7c5",
   "metadata": {},
   "source": [
    "***"
   ]
  },
  {
   "cell_type": "markdown",
   "id": "31e5550b",
   "metadata": {},
   "source": [
    "***"
   ]
  },
  {
   "cell_type": "markdown",
   "id": "c550a152",
   "metadata": {},
   "source": [
    "```\n",
    "\n",
    "\n",
    "\n",
    "\n",
    "\n",
    "\n",
    "\n",
    "\n",
    "\n",
    "\n",
    "\n",
    "\n",
    "\n",
    "\n",
    "\n",
    "\n",
    "\n",
    "\n",
    "\n",
    "\n",
    "\n",
    "\n",
    "\n",
    "\n",
    "\n",
    "\n",
    "\n",
    "\n",
    "\n",
    "\n",
    "\n",
    "\n",
    "\n",
    "\n",
    "\n",
    "\n",
    "\n",
    "\n",
    "\n",
    "\n",
    "\n",
    "\n",
    "\n",
    "\n",
    "\n",
    "\n",
    "```"
   ]
  },
  {
   "cell_type": "markdown",
   "id": "aa386394",
   "metadata": {},
   "source": [
    "# Un-indexed & Cannot Contain Duplicate Keys or Element\n",
    "- Dictionary |--> Mutable\n",
    "- Set |--Immuatable"
   ]
  },
  {
   "cell_type": "markdown",
   "id": "6c41da0b",
   "metadata": {},
   "source": [
    "# <span style='color:red'>_Chapter 4: Dictionary_</span>  "
   ]
  },
  {
   "cell_type": "markdown",
   "id": "7584da1d",
   "metadata": {},
   "source": [
    "##  [Dictionary](https://www.w3schools.com/python/python_dictionaries.asp) (Collection of the key-value pair) "
   ]
  },
  {
   "cell_type": "markdown",
   "id": "daaca6c2",
   "metadata": {},
   "source": [
    "#### [Dictionary Methods](https://www.w3schools.com/python/python_ref_dictionary.asp)"
   ]
  },
  {
   "cell_type": "code",
   "execution_count": 69,
   "id": "4c5cae2f",
   "metadata": {
    "collapsed": true
   },
   "outputs": [
    {
     "name": "stdout",
     "output_type": "stream",
     "text": [
      "a 1\n",
      "b 2\n",
      "c 3\n",
      "a 1\n",
      "b 2\n",
      "c 3\n"
     ]
    }
   ],
   "source": [
    "# Iterating over both Key:Value at the same time\n",
    "d={\"a\":1,\"b\":2,\"c\":3}  \n",
    "for i in d:print(i,d[i])         # Method 1\n",
    "for k,v in d.items():print(k,v)  # Method 2"
   ]
  },
  {
   "cell_type": "code",
   "execution_count": null,
   "id": "4830faed",
   "metadata": {},
   "outputs": [],
   "source": [
    "d={1:2,3:4,5:6,7:8,9:10}\n",
    "\n",
    "print(d.items(),type(d.items()))\n",
    "# dict_items([(1, 2), (3, 4), (5, 6), (7, 8), (9, 10)]) <class 'dict_items'>\n",
    "\n",
    "print(d.keys(),type(d.keys()))\n",
    "# dict_keys([1, 3, 5, 7, 9]) <class 'dict_keys'>\n",
    "\n",
    "print(d.values(),type(d.values()))\n",
    "# dict_values([2, 4, 6, 8, 10]) <class 'dict_values'>"
   ]
  },
  {
   "cell_type": "code",
   "execution_count": null,
   "id": "80c18ccf",
   "metadata": {},
   "outputs": [],
   "source": [
    "# Accesing Values using keys\n",
    "d={1:2,3:4,5:6,7:8,9:10}\n",
    "print(d.get(5))          #6\n",
    "print(d.get('adfa'))     #None\n",
    "print(d.get('adfa',444)) #444\n",
    "\n",
    "# What is the difference between get() method and [] syntax\n",
    "# if key is present\n",
    "print(d.get(5))   #6\n",
    "print(d[5])       #6\n",
    "#if key is not present \n",
    "print(d.get(100)) #None\n",
    "print(d[100])     #Error"
   ]
  },
  {
   "cell_type": "code",
   "execution_count": 10,
   "id": "a8a950de",
   "metadata": {},
   "outputs": [
    {
     "name": "stdout",
     "output_type": "stream",
     "text": [
      "{1: 'ABC', 3: 1004, 5: 6, 7: 8, 9: 10, 'Swapnil': 26, 6: 'Update', 100: 'Add'}\n"
     ]
    }
   ],
   "source": [
    "# Adding & Updating key\n",
    "d={1:2,3:4,5:6,7:8,9:10}\n",
    "d[1]='ABC'           # ----------> Updating current Key\n",
    "d[3]=d[3]+1000       \n",
    "d[\"dkbose\"]=26      #  --------> Adding New Key\n",
    "\n",
    "d.update({6:'Update',100:'Add'})  #--------> Adding and updating at the same time\n",
    "print(d)        # {1: 'ABC', 3: 1004, 5: 6, 7: 8, 9: 10, 'dkbose': 26, 6: 'Update', 100: 'Add'}"
   ]
  },
  {
   "cell_type": "code",
   "execution_count": 9,
   "id": "bbdee4e7",
   "metadata": {},
   "outputs": [
    {
     "name": "stdout",
     "output_type": "stream",
     "text": [
      "{'Ghana': 'Accra'}\n",
      "{'Ghana': 'Accra'}\n"
     ]
    }
   ],
   "source": [
    "# Removing element from the dictionary\n",
    "# del d[key]\n",
    "d={\"Ghana\": \"Accra\", \"China\": \"Beijing\"}\n",
    "del d[\"China\"]\n",
    "print(d)         # {'Ghana': 'Accra'}\n",
    "\n",
    "\n",
    "# pop(key)\n",
    "d={\"Ghana\": \"Accra\", \"China\": \"Beijing\"}\n",
    "d.pop(\"China\")\n",
    "print(d)         # {'Ghana': 'Accra'}"
   ]
  },
  {
   "cell_type": "code",
   "execution_count": 73,
   "id": "ef45d53c",
   "metadata": {
    "scrolled": true
   },
   "outputs": [
    {
     "name": "stdout",
     "output_type": "stream",
     "text": [
      "{1: 'a', 2: 'b', 3: 'c', 4: 'ff'}\n",
      "{1: 'a', 2: 'b', 3: 'c', 4: 'ff'}\n"
     ]
    }
   ],
   "source": [
    "# Reverse of dictionary \n",
    "d={\"a\":1,\"b\":2,\"c\":3,\"d\":4,'ff':4} \n",
    "\n",
    "d1={d[i]:i for i in d}              #Method 1\n",
    "d2={i:j for j,i in d.items()}       #Mehtod 2\n",
    "\n",
    "print(d1)\n",
    "print(d2)"
   ]
  },
  {
   "cell_type": "code",
   "execution_count": 12,
   "id": "23f3b657",
   "metadata": {},
   "outputs": [
    {
     "name": "stdout",
     "output_type": "stream",
     "text": [
      "Counter({5: 8, 8: 6, 2: 5, 7: 4, 1: 3, 85: 3, 74: 2, 45: 2, 12: 2, 78: 2, 58: 1, 4: 1, 285: 1, 41: 1, 858: 1, 65: 1, 25: 1, 87: 1, 2.785: 1, 45765: 1})\n",
      "{1: 3, 2: 5, 58: 1, 7: 4, 85: 3, 4: 1, 285: 1, 5: 8, 41: 1, 858: 1, 65: 1, 25: 1, 8: 6, 74: 2, 45: 2, 87: 1, 12: 2, 2.785: 1, 78: 2, 45765: 1}\n",
      "8\n",
      "8\n",
      "[12, 45, 74, 78]\n"
     ]
    }
   ],
   "source": [
    "#Creating frequency Dictionary from the list\n",
    "l=[1,1,2,58,7,2,85,4,285,1,5,41,858,65,25,8,5,74,2,45,7,5,5,8,2,8,5,85,5,87,2,7,12,74,5,2.785,8,8,85,78,12,8,5,78,7,45765,45]\n",
    "\n",
    "#Mehod 1\n",
    "from collections import *\n",
    "d=Counter(l)\n",
    "print(d)\n",
    "\n",
    "# Method 2\n",
    "dd={}\n",
    "for x in l:\n",
    "    if x in dd:dd[x]+=1\n",
    "    else:dd[x]=1\n",
    "print(dd)\n",
    "\n",
    "#How many times 5 occured\n",
    "print(d[5])  #8\n",
    "print(dd[5]) #8\n",
    "\n",
    "#which are the elements occured 2 times\n",
    "ll=[ i for i in list(set(l)) if d[i]==2]    \n",
    "print(ll)"
   ]
  },
  {
   "cell_type": "code",
   "execution_count": 7,
   "id": "b00e6673",
   "metadata": {
    "collapsed": true
   },
   "outputs": [
    {
     "name": "stdout",
     "output_type": "stream",
     "text": [
      "OrderedDict([('Swapnil', 26), ('Sahil', 23)])\n"
     ]
    }
   ],
   "source": [
    "#OrderedDict - it stores the key in ordered as given input\n",
    "from collections import *\n",
    "d=OrderedDict()\n",
    "d['Ravi']=26\n",
    "d['Gupta']=23\n",
    "print(d)"
   ]
  },
  {
   "cell_type": "markdown",
   "id": "055c98bf",
   "metadata": {},
   "source": [
    "#### Questions"
   ]
  },
  {
   "cell_type": "code",
   "execution_count": 77,
   "id": "eb9dff41",
   "metadata": {
    "collapsed": true
   },
   "outputs": [
    {
     "name": "stdout",
     "output_type": "stream",
     "text": [
      "Enter your name:Swapnil\n",
      "Enter your favarite language:Python\n",
      "Enter your name:Anil\n",
      "Enter your favarite language:English\n",
      "Enter your name:Sahil\n",
      "Enter your favarite language:C\n",
      "{'Swapnil': 'Python', 'Anil': 'English', 'Sahil': 'C'}\n"
     ]
    }
   ],
   "source": [
    "#Create an empty dictionary allow 4 friends to enter their favrite language as values and use keys as their name. Assume that the names are unique\n",
    "d={}\n",
    "for i in range(3):\n",
    "    i=input('Enter your name:')\n",
    "    j=input('Enter your favarite language:')\n",
    "    d[i]=j\n",
    "       \n",
    "print(d)\n",
    "#if the names of the two friends are same then it will update the last language you entered for that name\n",
    "#if the languages of two friends are same then it will not create an problem"
   ]
  },
  {
   "cell_type": "code",
   "execution_count": 18,
   "id": "246bea39",
   "metadata": {
    "collapsed": true
   },
   "outputs": [
    {
     "name": "stdout",
     "output_type": "stream",
     "text": [
      "Enter amount in INR:500\n",
      "\n",
      "In which currency you want to convert INR,Available options are:\n",
      "Argentine Peso\n",
      "Australian Dollar\n",
      "Bahraini Dinar\n",
      "Botswana Pula\n",
      "Brazilian Real\n",
      "British Pound\n",
      "Bruneian Dollar\n",
      "Bulgarian Lev\n",
      "Canadian Dollar\n",
      "Chilean Peso\n",
      "Chinese Yuan Renminbi\n",
      "Colombian Peso\n",
      "Croatian Kuna\n",
      "Czech Koruna\n",
      "Danish Krone\n",
      "Emirati Dirham\n",
      "Euro\n",
      "Hong Kong Dollar\n",
      "Hungarian Forint\n",
      "Icelandic Krona\n",
      "Indonesian Rupiah\n",
      "Iranian Rial\n",
      "Israeli Shekel\n",
      "Japanese Yen\n",
      "Kazakhstani Tenge\n",
      "Kuwaiti Dinar\n",
      "Libyan Dinar\n",
      "Malaysian Ringgit\n",
      "Mauritian Rupee\n",
      "Mexican Peso\n",
      "Nepalese Rupee\n",
      "New Zealand Dollar\n",
      "Norwegian Krone\n",
      "Omani Rial\n",
      "Pakistani Rupee\n",
      "Philippine Peso\n",
      "Polish Zloty\n",
      "Qatari Riyal\n",
      "Romanian New Leu\n",
      "Russian Ruble\n",
      "Saudi Arabian Riyal\n",
      "Singapore Dollar\n",
      "South African Rand\n",
      "South Korean Won\n",
      "Sri Lankan Rupee\n",
      "Swedish Krona\n",
      "Swiss Franc\n",
      "Taiwan New Dollar\n",
      "Thai Baht\n",
      "Trinidadian Dollar\n",
      "Turkish Lira\n",
      "US Dollar\n",
      "Venezuelan Bolivar\n",
      "Euro\n",
      "500 INR = 5.5874999999999995 Euro\n"
     ]
    }
   ],
   "source": [
    "# Build the currency converter from INR to other currency bases on the data in the txt file in which the conversion factor is given\n",
    "with open('CurrencyData.txt') as f:\n",
    "    lines=f.readlines()\n",
    "\n",
    "CurrencyDic = {}\n",
    "for line in lines:\n",
    "    l=line.split('\\t')\n",
    "    CurrencyDic[l[0]]=float(l[1])\n",
    "#     d={l[0]:float(l[1])}\n",
    "#     CurrencyDic.update(d)\n",
    "    \n",
    "\n",
    "amount=int(input('Enter amount in INR:'))\n",
    "\n",
    "print('\\nIn which currency you want to convert INR,Available options are:')\n",
    "l1=[print(item) for item in CurrencyDic.keys()]\n",
    "currency=input()\n",
    "\n",
    "print(f\"{amount} INR = {amount*CurrencyDic[currency]} {currency}\")\n"
   ]
  },
  {
   "cell_type": "markdown",
   "id": "a18f29ff",
   "metadata": {},
   "source": [
    "***"
   ]
  },
  {
   "cell_type": "markdown",
   "id": "121183af",
   "metadata": {},
   "source": [
    "```\n",
    "\n",
    "\n",
    "\n",
    "\n",
    "\n",
    "\n",
    "\n",
    "\n",
    "\n",
    "\n",
    "\n",
    "\n",
    "\n",
    "\n",
    "\n",
    "\n",
    "\n",
    "\n",
    "\n",
    "\n",
    "\n",
    "\n",
    "\n",
    "\n",
    "\n",
    "\n",
    "\n",
    "\n",
    "\n",
    "\n",
    "\n",
    "\n",
    "\n",
    "\n",
    "\n",
    "\n",
    "\n",
    "\n",
    "\n",
    "\n",
    "\n",
    "\n",
    "\n",
    "\n",
    "\n",
    "\n",
    "\n",
    "\n",
    "\n",
    "```"
   ]
  },
  {
   "cell_type": "markdown",
   "id": "35d3b49b",
   "metadata": {},
   "source": [
    "# <span style='color:red'>_Chapter 5: Set_</span>  "
   ]
  },
  {
   "cell_type": "markdown",
   "id": "a2fb605e",
   "metadata": {},
   "source": [
    "##  [Set](https://www.w3schools.com/python/python_sets.asp): (it is the collection of the non repetative items)\n",
    "1. you cannot add list/Dictionary in the set however you can add tuple to the set\n",
    "2. set are unordered/unindex/immutable/cannot have duplicate values"
   ]
  },
  {
   "cell_type": "markdown",
   "id": "348792a2",
   "metadata": {},
   "source": [
    "#### [Set Methods](https://www.w3schools.com/python/python_sets_methods.asp)\n",
    "### Set Operation\n",
    "1. (s|s1)--------> Return the set of union values with set s1\n",
    "3. (s & s1) -------> Return the set incliding only intersected values\n",
    "4. (s-s1)   --------> Returns the set s-s1\n",
    "5. symetric_difference(s1) or (s^s1)  ------------> (A-(A&B))|(B-(B&A))\n",
    "\n",
    "### Set Mutation\n",
    "1. (s|=s1)\n",
    "2. (s&=s1)\n",
    "3. (s-=s1)\n",
    "4. symmetric_difference_update(s1) or (s^=s1)"
   ]
  },
  {
   "cell_type": "code",
   "execution_count": 7,
   "id": "6506fffe",
   "metadata": {
    "collapsed": true
   },
   "outputs": [
    {
     "name": "stdout",
     "output_type": "stream",
     "text": [
      "{0, 1, 2, 3, 4, 5, 6, 7, 8, 9, 'AAA'}\n",
      "{1, 2, 3, 'cherry', 'banana', 'apple'}\n"
     ]
    }
   ],
   "source": [
    "# Adding element in set\n",
    "#add(element)\n",
    "s={0,1,2,3,4,5,6,7,8,9,1,2,3}\n",
    "s.add('AAA')\n",
    "print(s)        # {0, 1, 2, 3, 4, 5, 6, 7, 8, 9, 'AAA'}\n",
    "\n",
    "#update(interable)\n",
    "s = {\"apple\", \"banana\", \"cherry\"}\n",
    "s.update([1,2,3]) \n",
    "print(s)        # {1, 2, 3, 'cherry', 'banana', 'apple'}"
   ]
  },
  {
   "cell_type": "code",
   "execution_count": 6,
   "id": "e5c043b5",
   "metadata": {
    "collapsed": true
   },
   "outputs": [
    {
     "name": "stdout",
     "output_type": "stream",
     "text": [
      "{1, 2, 3, 4, 5, 6, 7, 8, 9}\n",
      "{1, 2, 3}\n",
      "0\n",
      "{1, 2, 3, 4, 5, 6, 7, 8, 9}\n"
     ]
    }
   ],
   "source": [
    "# remove(element) \n",
    "s={0,1,2,3,4,5,6,7,8,9,1,2,3}\n",
    "s.remove(0)                                 # if element is not present Throws an error \n",
    "print(s)     # {1, 2, 3, 4, 5, 6, 7, 8, 9}\n",
    "\n",
    "# discard(element)\n",
    "s={1,2,3}\n",
    "s.discard(4)                                # if element is not present Does NOT thro w an error\n",
    "print(s)     # {1, 2, 3}\n",
    "\n",
    "#pop()\n",
    "s={0,1,2,3,4,5,6,7,8,9,1,2,3} \n",
    "print(s.pop())  #0                              # Remove the arbitory element from the set and RETURN THAT ELEMENT \n",
    "print(s)        # {1, 2, 3, 4, 5, 6, 7, 8, 9}"
   ]
  },
  {
   "cell_type": "code",
   "execution_count": 49,
   "id": "bda7b5a6",
   "metadata": {},
   "outputs": [
    {
     "name": "stdout",
     "output_type": "stream",
     "text": [
      "{1}\n"
     ]
    }
   ],
   "source": [
    "#Set are the non repeatative items/ Adding the repeateing element in the set does not affect the set\n",
    "s={1,1,1,1,1,1,1,1,1,1,1,1,1,1,1,1}\n",
    "print(s)"
   ]
  },
  {
   "cell_type": "code",
   "execution_count": 54,
   "id": "85309247",
   "metadata": {
    "collapsed": true
   },
   "outputs": [
    {
     "name": "stdout",
     "output_type": "stream",
     "text": [
      "Enter the number2\n",
      "Enter the number3\n",
      "Enter the number5\n",
      "Enter the number4\n",
      "Enter the number2\n",
      "Enter the number3\n",
      "Enter the number4\n",
      "Enter the number2\n",
      "Unique numbers are: {2, 3, 4, 5}\n"
     ]
    }
   ],
   "source": [
    "#WAP to input 8 numbers from the user and display all the unique numbers\n",
    "s=set()\n",
    "for i in range(8):\n",
    "    s.add(int(input('Enter the number')))\n",
    "    \n",
    "print('Unique numbers are:',s)\n",
    "    "
   ]
  },
  {
   "cell_type": "code",
   "execution_count": 2,
   "id": "1a502f1e",
   "metadata": {},
   "outputs": [
    {
     "name": "stdout",
     "output_type": "stream",
     "text": [
      "{'20', 20}\n",
      "2\n"
     ]
    }
   ],
   "source": [
    "#What will be the lenght of the following set s\n",
    "s=set()\n",
    "s.add(20)\n",
    "s.add(20.0)\n",
    "s.add('20')\n",
    "\n",
    "print(s)\n",
    "print(len(s))"
   ]
  },
  {
   "cell_type": "markdown",
   "id": "043b9134",
   "metadata": {},
   "source": [
    "###  Standers Questions"
   ]
  },
  {
   "cell_type": "code",
   "execution_count": null,
   "id": "9baf7ef9",
   "metadata": {},
   "outputs": [],
   "source": [
    "#Common between the list\n",
    "list(set(list1)&(set(list2)))\n",
    "\n",
    "#2)Make Unorder Distinct from list\n",
    "    list(set(a))\n",
    "#3)Make Order Distinct from list\n",
    "    ll=[]\n",
    "    for i in l:\n",
    "        if i not in ll:ll.append(i)"
   ]
  },
  {
   "cell_type": "markdown",
   "id": "aa6a0d5d",
   "metadata": {},
   "source": [
    "***"
   ]
  },
  {
   "cell_type": "markdown",
   "id": "2cba58d6",
   "metadata": {},
   "source": [
    "```\n",
    "\n",
    "\n",
    "\n",
    "\n",
    "\n",
    "\n",
    "\n",
    "\n",
    "\n",
    "\n",
    "\n",
    "\n",
    "\n",
    "\n",
    "\n",
    "\n",
    "\n",
    "\n",
    "\n",
    "\n",
    "\n",
    "\n",
    "\n",
    "\n",
    "\n",
    "\n",
    "\n",
    "\n",
    "\n",
    "\n",
    "\n",
    "\n",
    "\n",
    "\n",
    "\n",
    "\n",
    "\n",
    "\n",
    "\n",
    "\n",
    "\n",
    "\n",
    "\n",
    "\n",
    "\n",
    "\n",
    "\n",
    "```"
   ]
  },
  {
   "cell_type": "markdown",
   "id": "490b2b85",
   "metadata": {},
   "source": [
    "# <span style='color:red'>_Chapter 6: Conditional Expression_</span>  "
   ]
  },
  {
   "cell_type": "markdown",
   "id": "7f83db25",
   "metadata": {},
   "source": [
    "```\n",
    "if\n",
    "elif\n",
    "else\n",
    "FizzBuzz Concept in elif ladder\n",
    "```"
   ]
  },
  {
   "cell_type": "markdown",
   "id": "e21480ca",
   "metadata": {},
   "source": [
    "  ```\n",
    "  if n>0    --> n is positive\n",
    "  if n<0    --> n is negative\n",
    "  \n",
    "  if n%2 is 0     || not(n%2)   --> n is Even\n",
    "  if n%2 is not 0 || n%2    --> n is Odd\n",
    "  \n",
    "  if N%n is 0     || not(N%n)  ---> N is divisible by n or multiple of n\n",
    "  if N%n is not 0 || N%n   ---> N is not divisible by n not multiple of n\n",
    "  \n",
    "  ```"
   ]
  },
  {
   "cell_type": "markdown",
   "id": "78927443",
   "metadata": {},
   "source": [
    "***"
   ]
  },
  {
   "cell_type": "code",
   "execution_count": 9,
   "id": "26f5ace2",
   "metadata": {},
   "outputs": [],
   "source": [
    "# Wrtie a code which tell year is leap year or not\n",
    "def isLeapYear(year):\n",
    "    if (year%4==0) and (year%100!=0 or year%400==0):\n",
    "        print(\"Leap Year\")\n",
    "    else:\n",
    "        print(\"Not a Leap year\")\n",
    "        \n",
    "# using lambda\n",
    "isLeapYear =  lambda year: year%4==0 and (year%100 != 0 or year%400==0)"
   ]
  },
  {
   "cell_type": "markdown",
   "id": "7f96df11",
   "metadata": {},
   "source": [
    "creating a function using lambda"
   ]
  },
  {
   "cell_type": "code",
   "execution_count": 7,
   "id": "bc3283e8",
   "metadata": {},
   "outputs": [
    {
     "data": {
      "text/plain": [
       "False"
      ]
     },
     "execution_count": 7,
     "metadata": {},
     "output_type": "execute_result"
    }
   ],
   "source": [
    "isLeapYear = lambda x : (x%4==0) and ((x%100!=0) or (x%400 == 0))\n",
    "isLeapYear(1900)"
   ]
  },
  {
   "cell_type": "markdown",
   "id": "f936ebc9",
   "metadata": {},
   "source": [
    "```\n",
    "\n",
    "\n",
    "\n",
    "\n",
    "\n",
    "\n",
    "\n",
    "\n",
    "\n",
    "\n",
    "\n",
    "\n",
    "\n",
    "\n",
    "\n",
    "\n",
    "\n",
    "\n",
    "\n",
    "\n",
    "\n",
    "\n",
    "\n",
    "\n",
    "\n",
    "\n",
    "\n",
    "\n",
    "\n",
    "\n",
    "\n",
    "\n",
    "\n",
    "```"
   ]
  },
  {
   "cell_type": "markdown",
   "id": "030884a7",
   "metadata": {},
   "source": [
    "# <span style='color:red'>_Chapter 7: Loops (while & for)_ </span>  "
   ]
  },
  {
   "cell_type": "markdown",
   "id": "3667a18f",
   "metadata": {},
   "source": [
    "- **while** :while loop is based on condition\n",
    "- **for** :for loop is based on iterables of fixed length"
   ]
  },
  {
   "cell_type": "markdown",
   "id": "08f2efad",
   "metadata": {},
   "source": [
    "**range(start,end+1,step)**\n",
    " - range(a,b) --> {a,b)\n",
    " - range(a,b,-1) --> reverese\n",
    " - range(n) --> there are n members are included in this range"
   ]
  },
  {
   "cell_type": "code",
   "execution_count": 13,
   "id": "48bb5631",
   "metadata": {},
   "outputs": [],
   "source": [
    "#Inverting range\n",
    "print(*range(2,9))         # 2 3 4 5 6 7 8\n",
    "print(*range(8,1,-1))      # 8 7 6 5 4 3 2"
   ]
  },
  {
   "cell_type": "markdown",
   "id": "ec1954b5",
   "metadata": {},
   "source": [
    "**cycle**"
   ]
  },
  {
   "cell_type": "code",
   "execution_count": null,
   "id": "e36fc724",
   "metadata": {},
   "outputs": [],
   "source": [
    "import itertools\n",
    "print(dir(itertools))\n",
    "from itertools import *\n",
    "\n",
    "j=0\n",
    "for i in cycle([1,3,6,8]):\n",
    "    if j==15:break\n",
    "    else:\n",
    "        print(i , end=' ' )\n",
    "        j+=1"
   ]
  },
  {
   "cell_type": "markdown",
   "id": "a89e7109",
   "metadata": {},
   "source": [
    "- **Continue**\n",
    " - Skip the specific iteration for specific condition \n",
    " - Code below continue statement will not be exeecuted in the loop for that perticular iteration \n",
    "- **break**: \n",
    " - Stop or Break the loop for specific condition\n",
    " - Code below break statement and upcoming all iteration will not be exeecuted  & we will get outof the loop\n",
    "- **pass**:\n",
    "  - To handle perticular function or loops later"
   ]
  },
  {
   "cell_type": "markdown",
   "id": "0fee9011",
   "metadata": {},
   "source": [
    "while/for with else if loop is executed naturally"
   ]
  },
  {
   "cell_type": "code",
   "execution_count": 7,
   "id": "8518d080",
   "metadata": {
    "collapsed": true
   },
   "outputs": [
    {
     "name": "stdout",
     "output_type": "stream",
     "text": [
      "1\n",
      "2\n",
      "3\n",
      "4\n",
      "5\n",
      "6\n",
      "7\n",
      "8\n"
     ]
    }
   ],
   "source": [
    "# WAP to print the content of the list using while loop\n",
    "l=[1,2,3,4,5,6,7,8]\n",
    "w=0                     #Initialization\n",
    "while(w<len(l)):        #Condition on Initialized variable\n",
    "    print(l[w])         #Code\n",
    "    w=w+1               #Increasing/Decreasing\n",
    "    "
   ]
  },
  {
   "cell_type": "code",
   "execution_count": 68,
   "id": "d6527c79",
   "metadata": {
    "collapsed": true
   },
   "outputs": [
    {
     "name": "stdout",
     "output_type": "stream",
     "text": [
      "Enter the no.:4\n",
      "4 X 1 = 4\n",
      "4 X 2 = 8\n",
      "4 X 3 = 12\n",
      "4 X 4 = 16\n",
      "4 X 5 = 20\n",
      "4 X 6 = 24\n",
      "4 X 7 = 28\n",
      "4 X 8 = 32\n",
      "4 X 9 = 36\n",
      "4 X 10 = 40\n",
      "Enter the no.:5\n",
      "5 X 10 = 50\n",
      "5 X 9 = 45\n",
      "5 X 8 = 40\n",
      "5 X 7 = 35\n",
      "5 X 6 = 30\n",
      "5 X 5 = 25\n",
      "5 X 4 = 20\n",
      "5 X 3 = 15\n",
      "5 X 2 = 10\n",
      "5 X 1 = 5\n"
     ]
    }
   ],
   "source": [
    "# WAP to print multiplication table of a given number using for loop\n",
    "n=int(input('Enter the no.:'))\n",
    "for i in range(1,11):\n",
    "    print(f\"{n} X {i} = {n*i}\")  \n",
    "    \n",
    "#WAP to print multiplication table of n in revered order\n",
    "n=int(input('Enter the no.:'))\n",
    "for i in range(10,0,-1):\n",
    "    print(f\"{n} X {i} = {n*i}\")  "
   ]
  },
  {
   "cell_type": "code",
   "execution_count": 70,
   "id": "ec940a42",
   "metadata": {
    "collapsed": true
   },
   "outputs": [
    {
     "name": "stdout",
     "output_type": "stream",
     "text": [
      "Greet Sham\n",
      "Greet Sachin\n",
      "Greet Sham\n",
      "Greet Sachin\n"
     ]
    }
   ],
   "source": [
    "#WAP to greet all the person name stored in list l1 and which starts with s using while and for loop\n",
    "l1=['Harry','Sham','Sachin','Rahul']\n",
    "for i in l1:\n",
    "    if i.startswith('S')==True:\n",
    "    #if i[0]=='S':\n",
    "        print('Greet ' + i)\n",
    "        \n",
    "i=0\n",
    "while(i<len(l1)):\n",
    "    if l1[i][0]=='S':\n",
    "        print('Greet '+ l1[i])\n",
    "        \n",
    "    i=i+1"
   ]
  },
  {
   "cell_type": "code",
   "execution_count": 71,
   "id": "e49b774f",
   "metadata": {},
   "outputs": [
    {
     "name": "stdout",
     "output_type": "stream",
     "text": [
      "Enter the no:5\n",
      "The no is Prime no!\n"
     ]
    }
   ],
   "source": [
    "#WAP to find whether a given no. is prime or not\n",
    "n=int(input('Enter the no:'))\n",
    "\n",
    "count=0\n",
    "for i in range(2,n):\n",
    "    if n%i == 0:\n",
    "        print(i)\n",
    "        count=count+1\n",
    "\n",
    "if count>0:print('The no is composite no!')\n",
    "else:print('The no is Prime no!')"
   ]
  },
  {
   "cell_type": "code",
   "execution_count": 20,
   "id": "38f78822",
   "metadata": {
    "collapsed": true
   },
   "outputs": [
    {
     "name": "stdout",
     "output_type": "stream",
     "text": [
      "Enter the no.:101\n",
      "5050\n"
     ]
    }
   ],
   "source": [
    "#WAP to find the sum of first n natural number\n",
    "print(sum(range(int(input('Enter the no.:')))))"
   ]
  },
  {
   "cell_type": "code",
   "execution_count": 28,
   "id": "f7802beb",
   "metadata": {
    "collapsed": true
   },
   "outputs": [
    {
     "name": "stdout",
     "output_type": "stream",
     "text": [
      "Enter the no.:5\n",
      "Factorial of the no 5 is 120\n",
      "Enter the no.:5\n",
      "120\n"
     ]
    }
   ],
   "source": [
    "#Find the factorial of the entered no\n",
    "n=int(input('Enter the no.:'))\n",
    "fact=1\n",
    "for i in range(1,n+1):fact=fact*i  \n",
    "print(f\"Factorial of the no {n} is {fact}\")   \n",
    "#___________________________________or____________________________________________\n",
    "import math\n",
    "print(math.prod(range(1,int(input('Enter the no.:'))+1)))"
   ]
  },
  {
   "cell_type": "code",
   "execution_count": null,
   "id": "69072718",
   "metadata": {},
   "outputs": [],
   "source": [
    "#finding GCD and LCM of two numbers\n",
    "def gcdlcm(a,b):\n",
    "    x=min(a,b)\n",
    "    for i in range(1,x+1):\n",
    "        if not(a%i) and not(b%i):result=i\n",
    "    gcd=result\n",
    "    lcm=int((a*b)/gcd)\n",
    "    print('gcd=',gcd)\n",
    "    print('lcm=',lcm)\n",
    "    \n",
    "    return 0"
   ]
  },
  {
   "cell_type": "code",
   "execution_count": 9,
   "id": "610687c3",
   "metadata": {},
   "outputs": [
    {
     "name": "stdout",
     "output_type": "stream",
     "text": [
      "0 0 0 0 1 0 0 0 0 \n",
      "0 0 0 2 3 2 0 0 0 \n",
      "0 0 3 4 5 4 3 0 0 \n",
      "0 4 5 6 7 6 5 4 0 \n",
      "5 6 7 8 9 8 7 6 5 \n"
     ]
    }
   ],
   "source": [
    "n=5\n",
    "for i in range(n):\n",
    "    count=0\n",
    "    for j in range(n-i-1):print(0,end=' ')\n",
    "    for j in range(i+1,2*i+2):print(j,end=' ')\n",
    "    for j in range(2*i,i,-1):print(j,end=' ')\n",
    "    for j in range(n-i-1):print(0,end=' ') \n",
    "    print()"
   ]
  },
  {
   "cell_type": "code",
   "execution_count": 1,
   "id": "9cf63711",
   "metadata": {},
   "outputs": [
    {
     "name": "stdout",
     "output_type": "stream",
     "text": [
      "* * * * *\n",
      " * * * *\n",
      "  * * *\n",
      "   * *\n",
      "    *\n"
     ]
    }
   ],
   "source": [
    "# Print Reverse Pyramid\n",
    "n=5\n",
    "for i in range(1,n+1):\n",
    "    print(' '*(i-1),end='')\n",
    "    print('* '*(n-i),end='')      \n",
    "    print('*')"
   ]
  },
  {
   "cell_type": "code",
   "execution_count": 10,
   "id": "2fa3c11e",
   "metadata": {
    "scrolled": true
   },
   "outputs": [
    {
     "name": "stdout",
     "output_type": "stream",
     "text": [
      "Enter the no. of rows in a pyramid:5\n",
      "         \n",
      "    *    \n",
      "   ***   \n",
      "  *****  \n",
      " ******* \n"
     ]
    }
   ],
   "source": [
    "#print the pyramid of given rows\n",
    "n=int(input('Enter the no. of rows in a pyramid:'))\n",
    "# m=2*n-1\n",
    "# for i in range(n):\n",
    "#     s=\"*\"*(2*i+1)\n",
    "#     print(s.center(m))  \n",
    "    \n",
    "for i in range(n):\n",
    "    for j in range(2*n-1):\n",
    "        if j in range(n-i,n+i-1):print('*',end='')\n",
    "        elif j==2*n-2:print(' ')\n",
    "        else:print(' ',end='')"
   ]
  },
  {
   "cell_type": "code",
   "execution_count": 19,
   "id": "c730857e",
   "metadata": {
    "scrolled": false
   },
   "outputs": [
    {
     "name": "stdout",
     "output_type": "stream",
     "text": [
      "********************\n",
      "*********  *********\n",
      "********    ********\n",
      "*******      *******\n",
      "******        ******\n",
      "*****          *****\n",
      "****            ****\n",
      "***              ***\n",
      "**                **\n",
      "*                  *\n"
     ]
    }
   ],
   "source": [
    "#Upper Diamond\n",
    "N=10\n",
    "for i in range(N):\n",
    "    x=(N-i)\n",
    "    #x=i+1\n",
    "    print('*'*x,end='')\n",
    "    print(' '*(2*i),end='')\n",
    "    print('*'*x)"
   ]
  },
  {
   "cell_type": "code",
   "execution_count": 22,
   "id": "3197a0f9",
   "metadata": {},
   "outputs": [
    {
     "name": "stdout",
     "output_type": "stream",
     "text": [
      "*                  *\n",
      "**                **\n",
      "***              ***\n",
      "****            ****\n",
      "*****          *****\n",
      "******        ******\n",
      "*******      *******\n",
      "********    ********\n",
      "*********  *********\n",
      "********************\n"
     ]
    }
   ],
   "source": [
    "#Lower Diamond\n",
    "N=10\n",
    "for i in range(N):\n",
    "    x=i+1\n",
    "    print('*'*x,end='')\n",
    "    print(' '*(N-i-1)*2,end='')\n",
    "    print('*'*x)"
   ]
  },
  {
   "cell_type": "code",
   "execution_count": 6,
   "id": "190303c2",
   "metadata": {},
   "outputs": [
    {
     "name": "stdout",
     "output_type": "stream",
     "text": [
      "Enter the no. of rows in right angle triangle:5\n",
      "*\n",
      "**\n",
      "***\n",
      "****\n",
      "*****\n"
     ]
    }
   ],
   "source": [
    "#print a right angle triangle of given rows\n",
    "n=int(input('Enter the no. of rows in right angle triangle:'))\n",
    "\n",
    "# for i in range(n):print('*'*(i+1))\n",
    "    \n",
    "for i in range(n):\n",
    "    for j in range(i+1):\n",
    "        if j==i:print(\"*\")\n",
    "        else:print(\"*\",end='')"
   ]
  },
  {
   "cell_type": "code",
   "execution_count": 13,
   "id": "9d096d24",
   "metadata": {},
   "outputs": [
    {
     "name": "stdout",
     "output_type": "stream",
     "text": [
      "5\n",
      "    *\n",
      "   **\n",
      "  ***\n",
      " ****\n",
      "*****\n"
     ]
    }
   ],
   "source": [
    "#Mirror Stair Pattern\n",
    "N=int(input())\n",
    "for i in range(N):\n",
    "    for j in range(N):\n",
    "        if j in range(N-i-1,N-1):print('*',end='')\n",
    "        elif j==N-1:print(\"*\")\n",
    "        else:print(' ',end='')"
   ]
  },
  {
   "cell_type": "code",
   "execution_count": 27,
   "id": "afb2ee09",
   "metadata": {},
   "outputs": [
    {
     "name": "stdout",
     "output_type": "stream",
     "text": [
      "**********\n",
      "*       *\n",
      "*      *\n",
      "*     *\n",
      "*    *\n",
      "*   *\n",
      "*  *\n",
      "* *\n",
      "**\n",
      "*"
     ]
    }
   ],
   "source": [
    "#Hollow Triangel\n",
    "N=10\n",
    "for i in range(N):\n",
    "    if i==0:\n",
    "        print(\"*\"*N)\n",
    "    else:\n",
    "        for j in range(N-i):\n",
    "            if j==0:print('*',end='')\n",
    "            elif j==N-i-1:print(\"*\")\n",
    "            else:print(' ',end='')"
   ]
  },
  {
   "cell_type": "code",
   "execution_count": 14,
   "id": "92f5130e",
   "metadata": {},
   "outputs": [
    {
     "name": "stdout",
     "output_type": "stream",
     "text": [
      "Enter the diamnetion of the square:5\n",
      "* * * * *\n",
      "*       *\n",
      "*       *\n",
      "*       *\n",
      "* * * * *\n"
     ]
    }
   ],
   "source": [
    "#print void in a square of stars of given diamention\n",
    "n=int(input('Enter the diamnetion of the square:'))\n",
    "\n",
    "# for row in range(n):\n",
    "#     if row==0 or row==n-1:\n",
    "#         print('* '*n)\n",
    "\n",
    "#     else:\n",
    "#         ss=' '*(2*n-3)\n",
    "#         print(ss.center(2*n-1,'*'))\n",
    "        \n",
    "for i in range(n):\n",
    "    if i==0 or i==n-1:\n",
    "        for j in range(n):\n",
    "            if j==n-1:print(\"*\")\n",
    "            else:print(\"*\",end=' ')\n",
    "    else:\n",
    "        for j in range(n):\n",
    "            if j==0:print('*',end=' ')\n",
    "            elif j==n-1:print('*')\n",
    "            else:print(' ',end=' ')\n",
    "            "
   ]
  },
  {
   "cell_type": "code",
   "execution_count": 29,
   "id": "70e82648",
   "metadata": {},
   "outputs": [
    {
     "name": "stdout",
     "output_type": "stream",
     "text": [
      "1\n",
      "1_\n",
      "1_3\n",
      "1_3_\n",
      "1_3_5\n"
     ]
    }
   ],
   "source": [
    "#Odd Even Pattern\n",
    "N=5\n",
    "for i in range(N):\n",
    "    for j in range(i+1):\n",
    "        if (j+1)%2:print(j+1,end='')\n",
    "        else:print('_',end='')\n",
    "    print()\n",
    "    "
   ]
  },
  {
   "cell_type": "markdown",
   "id": "344df3eb",
   "metadata": {},
   "source": [
    "***"
   ]
  },
  {
   "cell_type": "markdown",
   "id": "cbcf8f36",
   "metadata": {},
   "source": [
    "# <span style='color:red'>_Chapter 8: Functions and  Recursions(Function Calling Itself!)_</span> "
   ]
  },
  {
   "cell_type": "markdown",
   "id": "435a1a1e",
   "metadata": {},
   "source": [
    "- Function Should be defineed before calling it\n",
    "- return works as a break in loops, anything after return and break does not exicuted\n",
    "- Default value of return is None and hence return is optional while defining functions\n",
    "- Types of Argument/Parameters/Passing_Variables\n",
    "  - Positional Argument\n",
    "  - Keyword Argument          \n",
    "    #KP will not work while calling function\n",
    "  - Default Argument           \n",
    "    #DfnDf will not work while defining function\n"
   ]
  },
  {
   "cell_type": "markdown",
   "id": "98c9803b",
   "metadata": {},
   "source": [
    "```\n",
    "def funcname(Argument/Parameters/Passing_Variable):\n",
    "     '''\n",
    "     # DockString\n",
    "     '''\n",
    "    [CODE1]\n",
    "    [CODE2]\n",
    "  \n",
    "    return 0\n",
    "```"
   ]
  },
  {
   "cell_type": "code",
   "execution_count": 11,
   "id": "543e24e2",
   "metadata": {
    "collapsed": true
   },
   "outputs": [
    {
     "name": "stdout",
     "output_type": "stream",
     "text": [
      "Enter the item prise or press q to quit:55\n",
      "Sum untill now:55\n",
      "Enter the item prise or press q to quit:44\n",
      "Sum untill now:99\n",
      "Enter the item prise or press q to quit:33\n",
      "Sum untill now:132\n",
      "Enter the item prise or press q to quit:22\n",
      "Sum untill now:154\n",
      "Enter the item prise or press q to quit:11\n",
      "Sum untill now:165\n",
      "Enter the item prise or press q to quit:q\n",
      "\n",
      "Thanks for shopping with us,\n",
      "Your total is:165\n",
      "\n",
      "1. 55\n",
      "2. 44\n",
      "3. 33\n",
      "4. 22\n",
      "5. 11\n",
      "---------------\n",
      "total = 165\n"
     ]
    }
   ],
   "source": [
    "#WAP which will keep adding a stream of number inputed by the user. The adding stops as soon as the user press 'q' key on the keyboard\n",
    "l=[]\n",
    "b=True\n",
    "while(b):\n",
    "    a=input('Enter the item prise or press q to quit:')\n",
    "    if a=='q':\n",
    "        print(f\"\\nThanks for shopping with us,\\nYour total is:{sum(l)}\")\n",
    "        b=False\n",
    "    else:\n",
    "        l.append(int(a))\n",
    "        print(f'Sum untill now:{sum(l)}')\n",
    "        \n",
    "print()   \n",
    "for i in range(len(l)):\n",
    "    print(f'{i+1}. {l[i]}')\n",
    "    \n",
    "print(\"---------------\")\n",
    "print(f'total = {sum(l)}')"
   ]
  },
  {
   "cell_type": "code",
   "execution_count": 16,
   "id": "9b7e0fdd",
   "metadata": {
    "collapsed": true
   },
   "outputs": [
    {
     "name": "stdout",
     "output_type": "stream",
     "text": [
      "Enter the no:50\n",
      "Factorial of the no is 30414093201713378043612608166064768844377641568960512000000000000\n",
      "No of trailing zeros is 12\n"
     ]
    }
   ],
   "source": [
    "#1. Calculate the factorial of the given no\n",
    "#2. Find the no of trailing zeros in that factorial (zeros=(n//5)+(n//25)+(n//125))\n",
    "\n",
    "def fact(n):\n",
    "    if n==1 or n==0:return 1\n",
    "    return n*fact(n-1)\n",
    "    \n",
    "\n",
    "def trailinig(n):\n",
    "    count=0\n",
    "    i=5\n",
    "    while(n//i!=0):\n",
    "        count+= (n//i)\n",
    "        i=i*5\n",
    "    return count\n",
    "\n",
    "\n",
    "if __name__ == '__main__':\n",
    "    n=int(input('Enter the no:'))\n",
    "    print(f'Factorial of the no is {fact(n)}')\n",
    "    print(f'No of trailing zeros is {trailinig(n)}')  "
   ]
  },
  {
   "cell_type": "code",
   "execution_count": 13,
   "id": "9d2f23f6",
   "metadata": {},
   "outputs": [
    {
     "name": "stdout",
     "output_type": "stream",
     "text": [
      "10\n",
      "11\n"
     ]
    }
   ],
   "source": [
    "# defining global variable inside the function\n",
    "def increment():\n",
    "    global x          \n",
    "    x+=1\n",
    "    return\n",
    "\n",
    "x=10\n",
    "print(x)\n",
    "increment()\n",
    "print(x)"
   ]
  },
  {
   "cell_type": "markdown",
   "id": "bc24d01c",
   "metadata": {},
   "source": [
    "### call by value / call by reference"
   ]
  },
  {
   "cell_type": "code",
   "execution_count": 8,
   "id": "8dec8d78",
   "metadata": {},
   "outputs": [
    {
     "name": "stdout",
     "output_type": "stream",
     "text": [
      "Inside function: 11\n",
      "Outside function: 10\n"
     ]
    }
   ],
   "source": [
    "# Call by value-like behavior (immutable objects : string / int / tuple)\n",
    "def increment(num):\n",
    "    num += 1\n",
    "    print(\"Inside function:\", num)\n",
    "\n",
    "x = 10\n",
    "increment(x)\n",
    "print(\"Outside function:\", x)  # Outside function: 10"
   ]
  },
  {
   "cell_type": "code",
   "execution_count": 9,
   "id": "2182ac1b",
   "metadata": {},
   "outputs": [
    {
     "name": "stdout",
     "output_type": "stream",
     "text": [
      "Inside function: [1, 2, 3, 4]\n",
      "Outside function: [1, 2, 3, 4]\n"
     ]
    }
   ],
   "source": [
    "# Call by reference-like behavior (mutable objects : list / dict)\n",
    "def append_value(lst, value):\n",
    "    lst.append(value)\n",
    "    print(\"Inside function:\", lst)\n",
    "\n",
    "my_list = [1, 2, 3]\n",
    "append_value(my_list, 4)\n",
    "print(\"Outside function:\", my_list)  # Outside function: [1, 2, 3, 4]"
   ]
  },
  {
   "cell_type": "markdown",
   "id": "d46d38e7",
   "metadata": {},
   "source": [
    "```\n",
    "In Python, you cannot directly pass immutable objects (such as integers, strings, or tuples) by reference because they are immutable, and any modification within the function creates a new object. However, if you want to mimic a similar behavior to \"call by reference\" for immutable objects, you can wrap the immutable object in a mutable container, such as a list, and pass that container to the function. Here's an example:\n",
    "```"
   ]
  },
  {
   "cell_type": "code",
   "execution_count": 10,
   "id": "09f35c59",
   "metadata": {},
   "outputs": [
    {
     "name": "stdout",
     "output_type": "stream",
     "text": [
      "Outside function: 11\n"
     ]
    }
   ],
   "source": [
    "def increment_list(lst):\n",
    "    lst[0] += 1\n",
    "\n",
    "x = [10]  # Wrapping the immutable object in a mutable container\n",
    "increment_list(x)\n",
    "print(\"Outside function:\", x[0])  # Outside function: 11"
   ]
  },
  {
   "cell_type": "markdown",
   "id": "d6d31962",
   "metadata": {},
   "source": [
    "***"
   ]
  },
  {
   "cell_type": "markdown",
   "id": "23954e99",
   "metadata": {},
   "source": [
    "```\n",
    "\n",
    "\n",
    "\n",
    "\n",
    "\n",
    "\n",
    "\n",
    "\n",
    "\n",
    "\n",
    "\n",
    "\n",
    "\n",
    "\n",
    "\n",
    "\n",
    "\n",
    "\n",
    "\n",
    "```"
   ]
  },
  {
   "cell_type": "markdown",
   "id": "92391668",
   "metadata": {},
   "source": [
    "# <span style='color:red'>_Chapter 9: ITERTOOLS_</span> "
   ]
  },
  {
   "cell_type": "code",
   "execution_count": 20,
   "id": "12bdaad4",
   "metadata": {},
   "outputs": [
    {
     "name": "stdout",
     "output_type": "stream",
     "text": [
      "['__doc__', '__loader__', '__name__', '__package__', '__spec__', '_grouper', '_tee', '_tee_dataobject', 'accumulate', 'chain', 'combinations', 'combinations_with_replacement', 'compress', 'count', 'cycle', 'dropwhile', 'filterfalse', 'groupby', 'islice', 'permutations', 'product', 'repeat', 'starmap', 'takewhile', 'tee', 'zip_longest']\n"
     ]
    }
   ],
   "source": [
    "import itertools\n",
    "print(dir(itertools))\n",
    "from itertools import *"
   ]
  },
  {
   "cell_type": "markdown",
   "id": "eefa31bc",
   "metadata": {},
   "source": [
    "### <u> Cartician Product (Random Search) </u>"
   ]
  },
  {
   "cell_type": "code",
   "execution_count": 71,
   "id": "5f1caa66",
   "metadata": {
    "scrolled": true
   },
   "outputs": [
    {
     "name": "stdout",
     "output_type": "stream",
     "text": [
      "[('A', '+'), ('A', '-'), ('B', '+'), ('B', '-'), ('C', '+'), ('C', '-')]\n",
      "['A+', 'A-', 'B+', 'B-', 'C+', 'C-']\n",
      "[('+', '+'), ('+', '-'), ('-', '+'), ('-', '-')]\n"
     ]
    }
   ],
   "source": [
    "#product\n",
    "A=list(\"ABC\")\n",
    "B=list(\"+-\")\n",
    "\n",
    "print(list(product(A,B)))\n",
    "\n",
    "l=[''.join(i) for i in product(A,B)]\n",
    "print(l)\n",
    "\n",
    "ll=list(product(B,repeat=2))\n",
    "print(ll)"
   ]
  },
  {
   "cell_type": "code",
   "execution_count": 35,
   "id": "817256a9",
   "metadata": {},
   "outputs": [
    {
     "name": "stdout",
     "output_type": "stream",
     "text": [
      "['A+', 'A-', 'B+', 'B-', 'C+', 'C-']\n"
     ]
    }
   ],
   "source": [
    "listoflist=[list(\"ABC\"),list(\"+-\")]\n",
    "l1=list(''.join(i) for i in product(*listoflist))\n",
    "print(l1)"
   ]
  },
  {
   "cell_type": "code",
   "execution_count": 47,
   "id": "7b892486",
   "metadata": {
    "scrolled": true
   },
   "outputs": [
    {
     "name": "stdout",
     "output_type": "stream",
     "text": [
      "[[1, 'A', 'Male'], [1, 'A', 'Female'], [1, 'B', 'Male'], [1, 'B', 'Female'], [1, 'C', 'Male'], [1, 'C', 'Female'], [2, 'A', 'Male'], [2, 'A', 'Female'], [2, 'B', 'Male'], [2, 'B', 'Female'], [2, 'C', 'Male'], [2, 'C', 'Female'], [3, 'A', 'Male'], [3, 'A', 'Female'], [3, 'B', 'Male'], [3, 'B', 'Female'], [3, 'C', 'Male'], [3, 'C', 'Female']]\n"
     ]
    }
   ],
   "source": [
    "#Cartitian product using list comprehention\n",
    "A=[1,2,3]\n",
    "B=['A','B','C']\n",
    "C=['Male','Female']\n",
    "\n",
    "l=[[i,j,k] for i in A for j in B for k in C]\n",
    "print(l)"
   ]
  },
  {
   "cell_type": "markdown",
   "id": "fa3e6035",
   "metadata": {},
   "source": [
    "###  <u> Combinotoric Operator </u>"
   ]
  },
  {
   "attachments": {
    "image-3.png": {
     "image/png": "[encoded data removed]"
    }
   },
   "cell_type": "markdown",
   "id": "12059b7a",
   "metadata": {},
   "source": [
    "![image-3.png](attachment:image-3.png)"
   ]
  },
  {
   "cell_type": "code",
   "execution_count": 40,
   "id": "0ce1f78e",
   "metadata": {
    "scrolled": true
   },
   "outputs": [
    {
     "name": "stdout",
     "output_type": "stream",
     "text": [
      "[('Sachin', 'Sehwag', 'Dhoni'), ('Sachin', 'Sehwag', 'Virat'), ('Sachin', 'Sehwag', 'Rohit'), ('Sachin', 'Dhoni', 'Virat'), ('Sachin', 'Dhoni', 'Rohit'), ('Sachin', 'Virat', 'Rohit'), ('Sehwag', 'Dhoni', 'Virat'), ('Sehwag', 'Dhoni', 'Rohit'), ('Sehwag', 'Virat', 'Rohit'), ('Dhoni', 'Virat', 'Rohit')]\n",
      "10\n"
     ]
    }
   ],
   "source": [
    "#Combination (Sequence does not matter)\n",
    "#In how many ways a team can be selected of 3 members from 5 members\n",
    "l=['Sachin','Sehwag','Dhoni','Virat','Rohit']\n",
    "team=list(combinations(l,3))\n",
    "print(team)\n",
    "print(len(team))"
   ]
  },
  {
   "cell_type": "code",
   "execution_count": 42,
   "id": "b0db6d12",
   "metadata": {
    "scrolled": false
   },
   "outputs": [
    {
     "name": "stdout",
     "output_type": "stream",
     "text": [
      "[('red', 'red'), ('red', 'blue'), ('red', 'green'), ('blue', 'blue'), ('blue', 'green'), ('green', 'green')]\n",
      "6\n"
     ]
    }
   ],
   "source": [
    "#Combination with Replacement\n",
    "#what are the differnet type of combination possible to get pair of 2 colors from 4 color balls with replacement\n",
    "balls=['red','blue','green']\n",
    "pair=list(combinations_with_replacement(balls,2))\n",
    "print(pair)\n",
    "print(len(pair))"
   ]
  },
  {
   "attachments": {
    "image.png": {
     "image/png": "[encoded data removed]"
    }
   },
   "cell_type": "markdown",
   "id": "4ebacb45",
   "metadata": {},
   "source": [
    "![image.png](attachment:image.png)"
   ]
  },
  {
   "cell_type": "code",
   "execution_count": 37,
   "id": "94f42c66",
   "metadata": {
    "scrolled": true
   },
   "outputs": [
    {
     "name": "stdout",
     "output_type": "stream",
     "text": [
      "[('dairymilk', 'KitKat'), ('dairymilk', 'Munch'), ('dairymilk', 'Sneaker'), ('KitKat', 'dairymilk'), ('KitKat', 'Munch'), ('KitKat', 'Sneaker'), ('Munch', 'dairymilk'), ('Munch', 'KitKat'), ('Munch', 'Sneaker'), ('Sneaker', 'dairymilk'), ('Sneaker', 'KitKat'), ('Sneaker', 'Munch')]\n",
      "12\n"
     ]
    }
   ],
   "source": [
    "#In How many ways 2 chocklet cab be dustributed in two person each on from 4 chocklet\n",
    "chocklet=['dairymilk','KitKat','Munch','Sneaker']\n",
    "c=list(permutations(chocklet,2))\n",
    "print(c)\n",
    "print(len(c))"
   ]
  },
  {
   "cell_type": "markdown",
   "id": "d7f66253",
   "metadata": {},
   "source": [
    "### <u>List Comprehention with itertools</u>"
   ]
  },
  {
   "cell_type": "code",
   "execution_count": 43,
   "id": "1137fa0f",
   "metadata": {
    "scrolled": true
   },
   "outputs": [
    {
     "name": "stdout",
     "output_type": "stream",
     "text": [
      "[(1, 3, 6), (1, 4, 5), (2, 3, 5)]\n",
      "3\n"
     ]
    }
   ],
   "source": [
    "#How may combination of 3 element are possible from the given list such that the sum of combination is 10 where sequenc does not matter\n",
    "l=[1,2,3,4,5,6]\n",
    "ll=[i for i in combinations(l,3) if sum(i)==10]\n",
    "print(ll)\n",
    "print(len(ll))"
   ]
  },
  {
   "cell_type": "code",
   "execution_count": 48,
   "id": "681691bc",
   "metadata": {},
   "outputs": [
    {
     "name": "stdout",
     "output_type": "stream",
     "text": [
      "[(1, 3, 6), (1, 4, 5), (1, 5, 4), (1, 6, 3), (2, 3, 5), (2, 5, 3), (3, 1, 6), (3, 2, 5), (3, 5, 2), (3, 6, 1), (4, 1, 5), (4, 5, 1), (5, 1, 4), (5, 2, 3), (5, 3, 2), (5, 4, 1), (6, 1, 3), (6, 3, 1)]\n",
      "18\n"
     ]
    }
   ],
   "source": [
    "#How may combination of 3 element are possible from the given list such that the sum of combination is 10 where sequenc matter\n",
    "l=[1,2,3,4,5,6]\n",
    "ll=[i for i in permutations(l,3) if sum(i)==10]\n",
    "print(ll)\n",
    "print(len(ll))"
   ]
  },
  {
   "cell_type": "markdown",
   "id": "1d4517ed",
   "metadata": {},
   "source": [
    "***"
   ]
  },
  {
   "cell_type": "markdown",
   "id": "a03acf79",
   "metadata": {},
   "source": [
    "```\n",
    "\n",
    "\n",
    "\n",
    "\n",
    "\n",
    "\n",
    "\n",
    "\n",
    "\n",
    "\n",
    "\n",
    "\n",
    "\n",
    "\n",
    "\n",
    "\n",
    "\n",
    "\n",
    "\n",
    "\n",
    "\n",
    "\n",
    "\n",
    "\n",
    "\n",
    "\n",
    "\n",
    "\n",
    "\n",
    "\n",
    "\n",
    "\n",
    "```"
   ]
  },
  {
   "cell_type": "markdown",
   "id": "115ab2f3",
   "metadata": {},
   "source": [
    "# <span style='color:red'>_Chapter 10: OOPS_</span>\n",
    "Soving the problem by creating objects is one of the old method in programing languages. this kind of programing is called object oriented programing\n",
    "1. Class (Blueprints/Template to create objects) \n",
    "2. Attributes (Variables used in the class given a new name called Attribute or Property,however technically both are same,Types:Class and Instance attribute)\n",
    "3. Methods (Function used in the class given a new name called Method,however technically both are same)\n",
    "4. Object (It is the variable which is used to install our created template i.e Class)\n",
    "5. self (It is the dummy parameter used in the class to mimic object if in the class)\n",
    "6. @staticmethod Decorator (A method which doesnt used the self parameter)\n",
    "7. Constructor (It is special method which id run first automaticaly as soon as the object is created for the class)"
   ]
  },
  {
   "cell_type": "code",
   "execution_count": 7,
   "id": "a3ab6510",
   "metadata": {},
   "outputs": [
    {
     "name": "stdout",
     "output_type": "stream",
     "text": [
      "Data Scientist and Microsoft\n"
     ]
    }
   ],
   "source": [
    "#Create a class programmer for storing information of few programer working at microsoft\n",
    "class programmer:\n",
    "    company=\"Microsoft\"\n",
    "    def __init__(self,name,empid,experiance,position):\n",
    "        self.name=name\n",
    "        self.empid=empid\n",
    "        self.experiance=experiance\n",
    "        self.position=position\n",
    "        \n",
    "ShamLal=programmer('ShamLal','15002032','2 years','Data Scientist')\n",
    "print(ShamLal.position,'and',ShamLal.company)"
   ]
  },
  {
   "cell_type": "code",
   "execution_count": 21,
   "id": "50cde5b2",
   "metadata": {},
   "outputs": [
    {
     "name": "stdout",
     "output_type": "stream",
     "text": [
      "9\n",
      "27\n",
      "1.7320508075688772\n"
     ]
    }
   ],
   "source": [
    "#Write a class Calculator capable of finding Square,Cube and SquareRoot of the no.\n",
    "class Calculator:\n",
    "    def __init__(self,n):\n",
    "        self.square=n**2\n",
    "        self.cube=n**3\n",
    "        self.squareroot=n**(0.5)\n",
    "        \n",
    "        \n",
    "#     def square(self,n):\n",
    "#         print('Square of the no:',n**2)\n",
    "    \n",
    "#     def cube(self,n):\n",
    "#         print('Cube of the no',n**3)\n",
    "        \n",
    "#     def squareroot(self,n):\n",
    "#         print('squareroot of the no is',n**(0.5))\n",
    "        \n",
    "\n",
    "c=Calculator(3)\n",
    "print(c.square)\n",
    "print(c.cube)\n",
    "print(c.squareroot)"
   ]
  },
  {
   "cell_type": "code",
   "execution_count": 3,
   "id": "5999f65d",
   "metadata": {},
   "outputs": [
    {
     "name": "stdout",
     "output_type": "stream",
     "text": [
      "Enter your name:dk jha\n",
      "Hello Spiderman\n",
      "Hello dk jha,How are you,I hope you are fine!\n"
     ]
    }
   ],
   "source": [
    "#Create a class with class attribute a;crate an object from it and set a directy using object.a=0. does this change the class attribute\n",
    "#Add a static method in above problem to great user with hello\n",
    "class Sample:\n",
    "    a='Hello Peter Parker'\n",
    "    \n",
    "    @staticmethod\n",
    "    def greet(a=input('Enter your name:')):\n",
    "        print(f\"Hello {a},How are you,I hope you are fine!\")\n",
    "\n",
    "o=Sample()\n",
    "o.a='Hello Spiderman'\n",
    "print(o.a)\n",
    "\n",
    "o.greet()\n",
    "\n"
   ]
  },
  {
   "cell_type": "code",
   "execution_count": 15,
   "id": "cde200ac",
   "metadata": {},
   "outputs": [
    {
     "name": "stdout",
     "output_type": "stream",
     "text": [
      "1440 Intercity has 40 rs fare and have 13 available seats!\n",
      "13\n",
      "Your Tickit is booked\n",
      "12\n"
     ]
    }
   ],
   "source": [
    "#Write a class Train which has methods to book a tickit, get status(no. of seat) and get fare information of trains running under \n",
    "#Indian Railways\n",
    "class Train:\n",
    "    def __init__(self,name,TN,fare,seats):\n",
    "        self.name=name\n",
    "        self.fare=fare\n",
    "        self.seats=seats\n",
    "        self.TN=TN\n",
    "    \n",
    "    def getInfo(self):\n",
    "        print(f'{self.TN} {self.name} has {self.fare} rs fare and have {self.seats} available seats!')\n",
    "        \n",
    "    def BookTicket(self):\n",
    "        if self.seats>0:\n",
    "            print('Your Tickit is booked')\n",
    "            self.seats=self.seats-1\n",
    "        else:print('No Tickit is availabe,Kindly try tatkal')\n",
    "            \n",
    "    def cancelTicket(self):\n",
    "        print('Your tickit is cancelled')\n",
    "        self.seats+=1\n",
    "    \n",
    "\n",
    "        \n",
    "intercity=Train('Intercity','1440',40,13)\n",
    "gitanjali=Train('Gitanjali','1500',50,90)\n",
    "jabalpur=Train('Jabalpur','1210',70,2)\n",
    "\n",
    "intercity.getInfo()\n",
    "print(intercity.seats)\n",
    "intercity.BookTicket()\n",
    "print(intercity.seats)"
   ]
  },
  {
   "cell_type": "code",
   "execution_count": 5,
   "id": "11a7ccbe",
   "metadata": {
    "scrolled": true
   },
   "outputs": [
    {
     "name": "stdout",
     "output_type": "stream",
     "text": [
      "Enter your name:Ravi\n",
      "Enter age:23\n",
      "Enter Gender:Male\n",
      "Ravi\n"
     ]
    }
   ],
   "source": [
    "#Can you  change the self parameter inside a class to soemtjing else(say 'harry'). Try changing self to slf and see the efffect\n",
    "\n",
    "class sam:\n",
    "    def a(slf):\n",
    "        slf.q=input('Enter your name:')\n",
    "        slf.w=input('Enter age:')\n",
    "        slf.e=input('Enter Gender:')\n",
    "          \n",
    "Ravi=sam()\n",
    "Ravi.a()\n",
    "print(Ravi.q)"
   ]
  },
  {
   "cell_type": "markdown",
   "id": "74136c21",
   "metadata": {},
   "source": [
    "***"
   ]
  },
  {
   "cell_type": "markdown",
   "id": "8a27ada1",
   "metadata": {},
   "source": [
    "```\n",
    "\n",
    "\n",
    "\n",
    "\n",
    "\n",
    "\n",
    "\n",
    "\n",
    "\n",
    "\n",
    "\n",
    "\n",
    "\n",
    "\n",
    "\n",
    "\n",
    "\n",
    "\n",
    "\n",
    "\n",
    "```"
   ]
  },
  {
   "cell_type": "markdown",
   "id": "24f3466c",
   "metadata": {},
   "source": [
    "# <span style='color:red'>_Chapter 11:Taking input_</span>"
   ]
  },
  {
   "cell_type": "markdown",
   "id": "a92d75a0",
   "metadata": {},
   "source": [
    "## Single Value Input stored in variable"
   ]
  },
  {
   "cell_type": "code",
   "execution_count": null,
   "id": "7e2ec8ff",
   "metadata": {},
   "outputs": [],
   "source": [
    "a=input()         2   # taking string\n",
    "a=int(input())    2   # taking intiger\n",
    "a=float(input())  2   #taking float"
   ]
  },
  {
   "cell_type": "markdown",
   "id": "79e47163",
   "metadata": {},
   "source": [
    "## Multivalue input stored in Multivariable "
   ]
  },
  {
   "cell_type": "code",
   "execution_count": null,
   "id": "fb286cd8",
   "metadata": {},
   "outputs": [],
   "source": [
    "#When the input in single line seperated by the space (note a and b is not list)\n",
    "#String\n",
    "a,b=input().split()               1 2            #Input lenght must be 2 only\n",
    "a,b=map(int,input().split())      1 2\n",
    "a,b=map(float,input().split())    1 2\n",
    "\n",
    "\n",
    "#Input Using Spread Operator(*)\n",
    "a,b,*rest = input().split()          #Input lenght could be anything\n",
    "                                     #*rest = String , rest = rest.split()\n",
    "#Int\n",
    "a,*middle,c = range(5)              #only middle which is the list has significance *middle has no datatype"
   ]
  },
  {
   "cell_type": "markdown",
   "id": "66926553",
   "metadata": {},
   "source": [
    "## Multivalue Input Store in List"
   ]
  },
  {
   "cell_type": "code",
   "execution_count": null,
   "id": "14c10bd0",
   "metadata": {},
   "outputs": [],
   "source": [
    "#Taking series of input in SINGLE LINE seperated by space\" (These kind of input stored in the list which allowes us to use thoes for programm)\n",
    "l=input().split()                       1 2 3 4       #String\n",
    "l=list(map(int,input().split()))        1 2 3 4       #int\n",
    "l=list(map(float,input().split()))      1 2 3 4       #float "
   ]
  },
  {
   "cell_type": "code",
   "execution_count": 15,
   "id": "a04b5f78",
   "metadata": {
    "collapsed": true
   },
   "outputs": [
    {
     "ename": "SyntaxError",
     "evalue": "invalid syntax (1815540406.py, line 10)",
     "output_type": "error",
     "traceback": [
      "\u001b[1;36m  Input \u001b[1;32mIn [15]\u001b[1;36m\u001b[0m\n\u001b[1;33m    for _ in range(n):a.append(float(input())         #Float\u001b[0m\n\u001b[1;37m                     ^\u001b[0m\n\u001b[1;31mSyntaxError\u001b[0m\u001b[1;31m:\u001b[0m invalid syntax\n"
     ]
    }
   ],
   "source": [
    "# Using List Comprehension\n",
    "#Taking series of input in SINGLE LINE seperated by space\" (These kind of input stored in the list which allowes us to use thoes for programm)\n",
    "l=input().split()                      1 2 3 4       #String\n",
    "l=[int(i) for i in input().split()]    1 2 3 4       #int\n",
    "l=[float(i) for i in input().split()]  1 2 3 4       #float \n",
    "\n",
    "#Taking series of input in MULTIPLE LINE seperated by space\" (These kind of input stored in the list which allowes us to use thoes for programm)\n",
    "l=[ input() for _ in range(n)]               #String\n",
    "l=[ int(input()) for _ in range(n)]          #Intiger\n",
    "l=[ float(input()) for _ in range(n)]        #Float    \n",
    "'''\n",
    "1 \n",
    "4 \n",
    "7 \n",
    "```"
   ]
  },
  {
   "cell_type": "markdown",
   "id": "9fcbcc21",
   "metadata": {},
   "source": [
    "## Taking 2D input"
   ]
  },
  {
   "cell_type": "code",
   "execution_count": 1,
   "id": "3703e862",
   "metadata": {
    "collapsed": true
   },
   "outputs": [
    {
     "ename": "SyntaxError",
     "evalue": "EOF while scanning triple-quoted string literal (1404140703.py, line 6)",
     "output_type": "error",
     "traceback": [
      "\u001b[1;36m  Input \u001b[1;32mIn [1]\u001b[1;36m\u001b[0m\n\u001b[1;33m    ```\u001b[0m\n\u001b[1;37m       \n^\u001b[0m\n\u001b[1;31mSyntaxError\u001b[0m\u001b[1;31m:\u001b[0m EOF while scanning triple-quoted string literal\n"
     ]
    }
   ],
   "source": [
    "l=[ [int(i) for i in input().split()]  for _ in range(row)]\n",
    "l=[ [float(i) for i in input().split()]  for _ in range(row)]\n",
    "'''\n",
    "1 2 3\n",
    "4 5 6\n",
    "7 8 9\n",
    "```"
   ]
  },
  {
   "cell_type": "markdown",
   "id": "4705d9e4",
   "metadata": {},
   "source": [
    "```\n",
    "\n",
    "\n",
    "\n",
    "\n",
    "\n",
    "\n",
    "\n",
    "\n",
    "\n",
    "```"
   ]
  },
  {
   "cell_type": "markdown",
   "id": "12c301af",
   "metadata": {},
   "source": [
    "# RANDOM Module"
   ]
  },
  {
   "cell_type": "code",
   "execution_count": 12,
   "id": "a3c45f9a",
   "metadata": {},
   "outputs": [
    {
     "name": "stdout",
     "output_type": "stream",
     "text": [
      "1\n",
      "0\n",
      "0.3075920081339788\n",
      "56.71591813438609\n"
     ]
    },
    {
     "data": {
      "text/plain": [
       "3"
      ]
     },
     "execution_count": 12,
     "metadata": {},
     "output_type": "execute_result"
    }
   ],
   "source": [
    "import random\n",
    "\n",
    "random.random()\n",
    "\n",
    "print( random.randint(1,6) ) \n",
    "print( random.randint(0,1) )    # random boolean creation\n",
    "\n",
    "print( random.random() )        # random float number creation between (0,1)\n",
    "print( random.random() * 100 )\n",
    "\n",
    "random.choice([1,2,3,4,5])\n",
    "\n",
    "random.sample([1,2,3,4,5],3)\n",
    "random.sample('Vasudev',2)\n",
    "\n",
    "random.shuffle([1,2,3,4,5])"
   ]
  },
  {
   "cell_type": "markdown",
   "id": "20695ad0",
   "metadata": {},
   "source": [
    "# different uses of * operator as as unpacking"
   ]
  },
  {
   "cell_type": "code",
   "execution_count": 8,
   "id": "769ee10d",
   "metadata": {},
   "outputs": [
    {
     "data": {
      "text/plain": [
       "{'Nil': 13, 'Nitin': 3, 'Mukesh': 50}"
      ]
     },
     "execution_count": 8,
     "metadata": {},
     "output_type": "execute_result"
    }
   ],
   "source": [
    "# creating a dictionary usign ** operator\n",
    "(lambda **x:x)(Nil=13,Nitin=3,Mukesh=50)"
   ]
  },
  {
   "cell_type": "code",
   "execution_count": 2,
   "id": "25558430",
   "metadata": {},
   "outputs": [],
   "source": [
    "# Multiplication / Power\n",
    "result = 2 * 3  # 6\n",
    "result = 2 ** 3  # 8"
   ]
  },
  {
   "cell_type": "code",
   "execution_count": null,
   "id": "e25306eb",
   "metadata": {},
   "outputs": [],
   "source": [
    "# Unpacking a list/tuple/iterable\n",
    "a, *b, c = [1, 2, 3, 4, 5]  # a will be 1, b will be [2, 3, 4], c will be 5\n",
    "# Unpacking a string\n",
    "first, *middle, last = \"hello\"  # first will be 'h', middle will be ['e', 'l', 'l'], last will be 'o'"
   ]
  },
  {
   "cell_type": "code",
   "execution_count": 4,
   "id": "5f0475f5",
   "metadata": {
    "collapsed": true
   },
   "outputs": [
    {
     "name": "stdout",
     "output_type": "stream",
     "text": [
      "1\n",
      "2\n",
      "3\n"
     ]
    }
   ],
   "source": [
    "# if no passing argument is not define, then passing them as tuple\n",
    "# passing undefined no of comma seperated argument to the function as a tuple\n",
    "\n",
    "def my_function(*args):\n",
    "    for arg in args:\n",
    "        print(arg)\n",
    "\n",
    "my_function(1, 2, 3)  # prints 1, 2, 3"
   ]
  },
  {
   "cell_type": "code",
   "execution_count": 16,
   "id": "9e84bd5c",
   "metadata": {},
   "outputs": [
    {
     "data": {
      "text/plain": [
       "{'a': 1, 'b': 2, 'c': 3}"
      ]
     },
     "execution_count": 16,
     "metadata": {},
     "output_type": "execute_result"
    }
   ],
   "source": [
    "# passing arguments as dictionary\n",
    "def my_function(**kwargs):\n",
    "    return kwargs\n",
    "\n",
    "my_function(a=1, b=2, c=3)  # prints 'a 1', 'b 2', 'c 3'"
   ]
  },
  {
   "cell_type": "code",
   "execution_count": null,
   "id": "0102765c",
   "metadata": {},
   "outputs": [],
   "source": [
    "# passing arguments as dictionary\n",
    "def my_function(**kwargs):\n",
    "    for key, value in kwargs.items():\n",
    "        print(key, value)\n",
    "\n",
    "my_function(a=1, b=2, c=3)  # prints 'a 1', 'b 2', 'c 3'\n",
    "\n",
    "\n",
    "\n",
    "def example_function(a, b, c):\n",
    "    print(a, b, c)\n",
    "\n",
    "my_dict = {'a': 1, 'b': 2, 'c': 3}\n",
    "example_function(**my_dict)  # equivalent to example_function(a=1, b=2, c=3)"
   ]
  }
 ],
 "metadata": {
  "celltoolbar": "Raw Cell Format",
  "kernelspec": {
   "display_name": "Python 3 (ipykernel)",
   "language": "python",
   "name": "python3"
  },
  "language_info": {
   "codemirror_mode": {
    "name": "ipython",
    "version": 3
   },
   "file_extension": ".py",
   "mimetype": "text/x-python",
   "name": "python",
   "nbconvert_exporter": "python",
   "pygments_lexer": "ipython3",
   "version": "3.9.12"
  }
 },
 "nbformat": 4,
 "nbformat_minor": 5
}
