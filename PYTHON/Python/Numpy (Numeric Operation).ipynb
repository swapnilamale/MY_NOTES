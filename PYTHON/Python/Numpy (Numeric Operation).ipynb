{
 "cells": [
  {
   "cell_type": "markdown",
   "id": "77dce27f",
   "metadata": {},
   "source": [
    "1D - Vector \\\n",
    "2D - Matrics \\\n",
    "nD - Tensor  ------> Tensorflow"
   ]
  },
  {
   "cell_type": "code",
   "execution_count": 27,
   "id": "c2f0dfa5",
   "metadata": {},
   "outputs": [
    {
     "data": {
      "text/plain": [
       "600"
      ]
     },
     "execution_count": 27,
     "metadata": {},
     "output_type": "execute_result"
    }
   ],
   "source": [
    "import numpy as np\n",
    "len(dir(np))"
   ]
  },
  {
   "cell_type": "markdown",
   "id": "4db73629",
   "metadata": {},
   "source": [
    "<div style=\"text-align: center;\">\n",
    "    <h1><span style='color:red'>ARRAY</span> </u> </h1>\n",
    "</div>"
   ]
  },
  {
   "cell_type": "markdown",
   "id": "1b71479f",
   "metadata": {},
   "source": [
    "<div style=\"text-align: center;\">\n",
    "    <h2><span style='color:blue'>Chapter 1: Creating 1D array </span> </u> </h2>\n",
    "</div>"
   ]
  },
  {
   "cell_type": "markdown",
   "id": "3d94c264",
   "metadata": {},
   "source": [
    "#### 1. Using List & Tuples ( Array's are Homoginious & list/tuple Heteroginious )"
   ]
  },
  {
   "cell_type": "code",
   "execution_count": 3,
   "id": "813dbf5e",
   "metadata": {},
   "outputs": [
    {
     "data": {
      "text/plain": [
       "matrix([[1., 2., 3.],\n",
       "        [4., 5., 6.],\n",
       "        [7., 8., 9.]])"
      ]
     },
     "execution_count": 3,
     "metadata": {},
     "output_type": "execute_result"
    }
   ],
   "source": [
    "# list and tuple and with any combination\n",
    "arr=np.array([1,2,3])            # [1 2 3]     # 1D\n",
    "\n",
    "arr=np.array([[1,2,3],[3,4,5]])  # [[1 2 3]\n",
    "                                 #  [3 4 5]]   # 2D   list_of_lists , tuple_of_tuples\n",
    "arr=np.array(((1,2,3),[3,4,5]))  # [[1 2 3]           list_of_tuples ,tuple_of_lists      \n",
    "                                 #  [3 4 5]]          list_of_combination_of_lists&tuples,tuple_of_combination_of_list&tuples\n",
    "    \n",
    "    \n",
    "mat=np.matrix(\"1,2,3;4,5,6;7,8,9\",dtype='float')     # string>float>int>boolean\n",
    "mat"
   ]
  },
  {
   "cell_type": "markdown",
   "id": "8a43a6cf",
   "metadata": {},
   "source": [
    "#### 2. Special Methods "
   ]
  },
  {
   "cell_type": "code",
   "execution_count": 16,
   "id": "523dfcd8",
   "metadata": {},
   "outputs": [],
   "source": [
    "# arange(start,end,step)                           # np.arange() can take float as step size unlike range()\n",
    "arr=np.arange(10)       # [0 1 2 3 4 5 6 7 8 9]\n",
    "arr=np.arange(1,11,2)   # [1 3 5 7 9] \n",
    "\n",
    "# linspace(start,end,n)\n",
    "arr=np.linspace(1,5,9)  #[1 1.5 2 2.5 3 3.5 4 4.5 5]\n",
    "\n",
    "# Zeros & Ones\n",
    "arr=np.zeros(3)                   # Zero\n",
    "arr=np.ones(3)                    # Ones\n",
    "\n",
    "# 2D Matrics\n",
    "arr=np.diag([1,2,3,4])            # diagonal Matrics\n",
    "arr=np.eye(2)  | np.eye(3,2)      # Identity Matrixs"
   ]
  },
  {
   "cell_type": "markdown",
   "id": "3c0c0323",
   "metadata": {},
   "source": [
    "#### 3. Random Array"
   ]
  },
  {
   "cell_type": "code",
   "execution_count": 98,
   "id": "beac8f3f",
   "metadata": {},
   "outputs": [],
   "source": [
    "np.random.seed(10)                  #---> To get the same set of random numbers\n",
    "\n",
    "# --------------------------- Descreate Distribution (generating INT) -------------------------------------------------\n",
    "arr=np.random.randint(1,6,10)       # Descreate Uniform distribution (start,end,n)  \n",
    "arr=np.random.binomial(5, 0.5, 100) # Descreate binomial distribution (max no of time success can happen,probability of succsess , n)\n",
    "arr=np.random.poisson(1,100)        # Descreate Possions distribtion (mean,n)\n",
    "\n",
    "\n",
    "# ------------------ ---------Continuous Distribution(generating float) ----------------------------------------------\n",
    "# Non-Standerd Distributions\n",
    "arr=np.random.uniform(1,100,10)     # Uniform distribution float (a,b,n)\n",
    "arr=np.random.normal(10,2,3)        # Normal Distribution (mean,SD,n)\n",
    "arr=np.random.exponential(1, 10)    # Exponentioal distribution (mean,n)\n",
    "\n",
    "\n",
    "# Standerd Distributions\n",
    "arr=np.random.rand(3)               # Standerd Uniform distribution (a=0,b=1)\n",
    "arr=np.random.randn(3)              # Standerd Normal Distribution (mean=0,std=1)\n",
    "arr=np.random.ranf(10)              # [0,1) No distribution   \n",
    "\n",
    "# Random Sampling with replacement & without replacement\n",
    "lst=[41, 4, 81, 41, 54, 76, 42, 7, 45, 64]\n",
    "np.random.choice(lst,15)                    # Bootstraping: Random Sampling with replacement\n",
    "np.random.choice(lst,3,replace=False)       # Random Sampling without replacement"
   ]
  },
  {
   "cell_type": "markdown",
   "id": "fdaa47b7",
   "metadata": {},
   "source": [
    "***"
   ]
  },
  {
   "cell_type": "markdown",
   "id": "0605c03d",
   "metadata": {},
   "source": [
    "<div style=\"text-align: center;\">\n",
    "    <h4><span style='color:blue'>| Generating Randon String |</span> </u> </h4>\n",
    "</div>"
   ]
  },
  {
   "cell_type": "code",
   "execution_count": 24,
   "id": "509986d1",
   "metadata": {},
   "outputs": [
    {
     "data": {
      "text/plain": [
       "['arxiAmluzh',\n",
       " 'ODSI',\n",
       " 'zbnj',\n",
       " 'HPgs',\n",
       " 'VxNVtPgowl',\n",
       " 'OVXSrLEVLX',\n",
       " 'lfRZexwjQ',\n",
       " 'ZHl',\n",
       " 'XynbsjiPln',\n",
       " 'UiJ',\n",
       " 'bsjYn',\n",
       " 'RLsCFjQ',\n",
       " 'PwCtSPlKnx',\n",
       " 'RhalO',\n",
       " 'jBxBQJ',\n",
       " 'aVGrkUGlTd',\n",
       " 'OzDjga',\n",
       " 'CtiGTVTlA',\n",
       " 'DLkbCfYXOa',\n",
       " 'qZIAIrm']"
      ]
     },
     "execution_count": 24,
     "metadata": {},
     "output_type": "execute_result"
    }
   ],
   "source": [
    "# Random string generation\n",
    "import random\n",
    "import string\n",
    "def genstrlst(a, b, length):\n",
    "    letters = string.ascii_letters\n",
    "    return [''.join(random.choice(letters) for _ in range(random.randint(a, b))) for _ in range(length)]\n",
    "\n",
    "genstrlst(3, 10, 20)"
   ]
  },
  {
   "cell_type": "code",
   "execution_count": 25,
   "id": "a4f9f8c3",
   "metadata": {
    "scrolled": true
   },
   "outputs": [
    {
     "data": {
      "text/plain": [
       "['Banglore',\n",
       " 'Chennai',\n",
       " 'Delhi',\n",
       " 'Chennai',\n",
       " 'Chennai',\n",
       " 'Banglore',\n",
       " 'Mumbai',\n",
       " 'Delhi',\n",
       " 'Mumbai',\n",
       " 'Mumbai']"
      ]
     },
     "execution_count": 25,
     "metadata": {},
     "output_type": "execute_result"
    }
   ],
   "source": [
    "# from the given list\n",
    "import numpy as np\n",
    "domain=['Mumbai','Delhi','Chennai','Banglore']\n",
    "n=10\n",
    "[ domain[np.random.randint(0,len(domain))] for _ in range(n)]"
   ]
  },
  {
   "cell_type": "markdown",
   "id": "93e0db9e",
   "metadata": {},
   "source": [
    "\\\n",
    "\\\n",
    "\\\n",
    "\\\n",
    "\\\n",
    "\\\n",
    "\\\n",
    "\\\n",
    "\\\n",
    "\\\n",
    "\\\n",
    "\\\n",
    "\\\n",
    "\\\n",
    "\\\n",
    "\\\n",
    "\\\n",
    "\\\n",
    "\\\n",
    "\\\n",
    "\\\n",
    "\\\n",
    "\\\n",
    "\\\n",
    "\\\n",
    "\\\n",
    "\\\n"
   ]
  },
  {
   "cell_type": "markdown",
   "id": "f73ee2ab",
   "metadata": {},
   "source": [
    "<div style=\"text-align: center;\">\n",
    "    <h2><span style='color:blue'>Chapter 2: Changing Diamentions of array </span> </u> </h2>\n",
    "</div>"
   ]
  },
  {
   "cell_type": "markdown",
   "id": "54a559b2",
   "metadata": {},
   "source": [
    "#### 1. Convert 1D(n,) to Multi-Dimentional(x,y) Array"
   ]
  },
  {
   "cell_type": "code",
   "execution_count": 97,
   "id": "44768def",
   "metadata": {
    "scrolled": false
   },
   "outputs": [
    {
     "data": {
      "text/plain": [
       "array([[1, 4, 7],\n",
       "       [2, 5, 8],\n",
       "       [3, 6, 9]])"
      ]
     },
     "execution_count": 97,
     "metadata": {},
     "output_type": "execute_result"
    }
   ],
   "source": [
    "# reshape() : View function\n",
    "arr=np.array([1, 2, 3, 4, 5, 6, 7, 8, 9])\n",
    "\n",
    "arr.reshape(1,-1)   |  arr[None,:]   |  arr[np.newaxis,:]   |  np.expand_dim(arr,axis=0)   # row matrics                     \n",
    "arr.reshape(-1,1)   |  arr[:,None]   |  arr[:,np.newaxis]   |  np.expand_dim(arr,axis=1)   # coloum matrics\n",
    "\n",
    "arr.reshape(-1,3)                                             # row wise\n",
    "arr.reshape((-1,3),order='F') | arr.reshape(3,-1).T           # coloum wise "
   ]
  },
  {
   "cell_type": "markdown",
   "id": "ab8e33f5",
   "metadata": {},
   "source": [
    "#### 2. Convert Multi-Dimentional(x,y) to 1D(n,) Array"
   ]
  },
  {
   "cell_type": "code",
   "execution_count": 43,
   "id": "e15004d6",
   "metadata": {},
   "outputs": [
    {
     "data": {
      "text/plain": [
       "array([47, 16,  8,  1, 29, 35,  3, 39, 22])"
      ]
     },
     "execution_count": 43,
     "metadata": {},
     "output_type": "execute_result"
    }
   ],
   "source": [
    "# Converting Mulidimention Array into 1D array\n",
    "arr=np.array([[47,  1,  3], \n",
    "              [16, 29, 39],\n",
    "              [ 8, 35, 22]])\n",
    "\n",
    "# reshape() :View Function\n",
    "arr.reshape(-1)\n",
    "arr.reshape(-1,order='F') | arr.T.reshape(-1)\n",
    "\n",
    "# ravel() :View Function\n",
    "arr.ravel()                                     # row wise         \n",
    "arr.ravel(order='F') | arr.T.ravel()            # column wise\n",
    "x=arr.ravel().copy()                            # ravel can be use as Deep Copy function\n",
    "\n",
    "# flatten() :Deep Copy Function\n",
    "arr.flatten()                                   # [47,  1,  3, 16, 29, 39,  8, 35, 22]\n",
    "arr.flatten(order='F') | arr.T.flatten()        # [47, 16,  8,  1, 29, 35,  3, 39, 22]"
   ]
  },
  {
   "cell_type": "markdown",
   "id": "42a5f444",
   "metadata": {},
   "source": [
    "***"
   ]
  },
  {
   "cell_type": "code",
   "execution_count": 195,
   "id": "12928a9e",
   "metadata": {},
   "outputs": [
    {
     "data": {
      "text/plain": [
       "array([[[1, 2],\n",
       "        [3, 4]],\n",
       "\n",
       "       [[5, 6],\n",
       "        [7, 8]]])"
      ]
     },
     "execution_count": 195,
     "metadata": {},
     "output_type": "execute_result"
    }
   ],
   "source": [
    "arr=np.arange(1,9).reshape(2,2,2)\n",
    "arr"
   ]
  },
  {
   "cell_type": "code",
   "execution_count": 197,
   "id": "47e36ce3",
   "metadata": {},
   "outputs": [
    {
     "data": {
      "text/plain": [
       "array([1, 5, 3, 7, 2, 6, 4, 8])"
      ]
     },
     "execution_count": 197,
     "metadata": {},
     "output_type": "execute_result"
    }
   ],
   "source": [
    "#3d reshape(-1) | ravel() | flatten()\n",
    "arr.ravel()           # [1, 2, 3, 4, 5, 6, 7, 8]\n",
    "arr.ravel('F')        # [1, 5, 3, 7, 2, 6, 4, 8]"
   ]
  },
  {
   "cell_type": "code",
   "execution_count": 60,
   "id": "70b687f2",
   "metadata": {},
   "outputs": [
    {
     "data": {
      "text/plain": [
       "(1, 3)"
      ]
     },
     "execution_count": 60,
     "metadata": {},
     "output_type": "execute_result"
    }
   ],
   "source": [
    "# np.squeeze (removing of 1 in arr.shape)\n",
    "arr=np.array([[[1,2,3]]])\n",
    "arr.shape                 #(1, 1, 3)\n",
    "\n",
    "arr1=np.squeeze(arr) \n",
    "arr1                          # [1, 2, 3]\n",
    "arr1.shape                    # (3,)\n",
    "\n",
    "arr2=np.squeeze(arr,axis=0)\n",
    "arr2                          # [[1, 2, 3]]\n",
    "arr2.shape                    # (1, 3)\n",
    "\n",
    "arr3=np.squeeze(arr,axis=1)\n",
    "arr3                          # [[1, 2, 3]]\n",
    "arr3.shape                    # (1, 3)"
   ]
  },
  {
   "cell_type": "markdown",
   "id": "c8b92d9f",
   "metadata": {},
   "source": [
    "***"
   ]
  },
  {
   "cell_type": "markdown",
   "id": "1ae87c13",
   "metadata": {},
   "source": [
    "<div style=\"text-align: center;\">\n",
    "    <h2><span style='color:blue'>Chapter 3: Array Attributes/Variables</span> </u> </h2>\n",
    "</div>"
   ]
  },
  {
   "cell_type": "code",
   "execution_count": 29,
   "id": "04989d8a",
   "metadata": {},
   "outputs": [
    {
     "data": {
      "text/plain": [
       "dtype('bool')"
      ]
     },
     "execution_count": 29,
     "metadata": {},
     "output_type": "execute_result"
    }
   ],
   "source": [
    "arr=np.array([[47,  1,  3], \n",
    "              [16, 29, 39],\n",
    "              [ 8, 22, 22]])\n",
    "\n",
    "arr.ndim                    # 2\n",
    "arr.size                    # 9\n",
    "arr.shape                   # (3, 3)\n",
    "arr.shape[0] or len(arr)    # No. of Rows\n",
    "arr.shape[1]                # No. of column\n",
    "(arr<2).dtype               # dtype('bool')"
   ]
  },
  {
   "cell_type": "markdown",
   "id": "8fab4c34",
   "metadata": {},
   "source": [
    "<div style=\"text-align: center;\">\n",
    "    <h2><span style='color:blue'>Chapter 4: Array Operations </span> </u> </h2>\n",
    "</div>"
   ]
  },
  {
   "cell_type": "markdown",
   "id": "d86098e8",
   "metadata": {},
   "source": [
    "<div style=\"text-align: center;\">\n",
    "    <h4><span style='color:blue'>| Broadcasting in Array (4-Cases) |</span> </u> </h4>\n",
    "</div>"
   ]
  },
  {
   "cell_type": "markdown",
   "id": "1ea16da7",
   "metadata": {},
   "source": [
    "Broadcasting is an operation of matching the dimensions of differently shaped arrays \n",
    "in order to be able to perform further operations \\\n",
    "Broadcasting happen only when the other matrixs has lesser dimention \\\n",
    "2D --> 2D[1,:] /2D[:,1]  |    1D    |    constant \\\n",
    "3D -->  3D[1,:,:]/3D[:,1,:]/3D[:,:,1]    |    2D/2D[1,:] /2D[:,1]    |    1D    |    constant"
   ]
  },
  {
   "attachments": {
    "image.png": {
     "image/png": "[encoded data removed]"
    }
   },
   "cell_type": "markdown",
   "id": "4bca79a7",
   "metadata": {},
   "source": [
    "![image.png](attachment:image.png)"
   ]
  },
  {
   "cell_type": "code",
   "execution_count": 53,
   "id": "50693ea3",
   "metadata": {},
   "outputs": [],
   "source": [
    "arr1=np.array([[1,2,3],\n",
    "               [4,5,6],\n",
    "               [7,8,9]])"
   ]
  },
  {
   "cell_type": "code",
   "execution_count": 55,
   "id": "5c16d3a4",
   "metadata": {},
   "outputs": [
    {
     "data": {
      "text/plain": [
       "array([[1.        , 0.5       , 0.33333333],\n",
       "       [0.25      , 0.2       , 0.16666667],\n",
       "       [0.14285714, 0.125     , 0.11111111]])"
      ]
     },
     "execution_count": 55,
     "metadata": {},
     "output_type": "execute_result"
    }
   ],
   "source": [
    "# CASE-I: Operation with Constant\n",
    "arr1+2\n",
    "arr1-2\n",
    "arr1*2\n",
    "arr1/2\n",
    "1/arr1"
   ]
  },
  {
   "cell_type": "code",
   "execution_count": 42,
   "id": "1e82bd3c",
   "metadata": {},
   "outputs": [
    {
     "data": {
      "text/plain": [
       "array([[-1,  0,  3],\n",
       "       [-4,  0,  6],\n",
       "       [-7,  0,  9]])"
      ]
     },
     "execution_count": 42,
     "metadata": {},
     "output_type": "execute_result"
    }
   ],
   "source": [
    "# CASE-II: Operation with Row Matrics (No. of column should match with dimention)\n",
    "arr=np.array([-1,0,1])\n",
    "arr1*arr"
   ]
  },
  {
   "cell_type": "code",
   "execution_count": 43,
   "id": "dc9c66e9",
   "metadata": {},
   "outputs": [
    {
     "data": {
      "text/plain": [
       "array([[0.3, 0.7, 1. ],\n",
       "       [0.7, 0.8, 1. ],\n",
       "       [0.8, 0.9, 1. ]])"
      ]
     },
     "execution_count": 43,
     "metadata": {},
     "output_type": "execute_result"
    }
   ],
   "source": [
    "# CASE-III: Operation with Column Matrics (No. of rows should match with diamention)\n",
    "arr=np.array([3,6,9]).reshape(-1,1)\n",
    "np.round(arr1/arr,1)"
   ]
  },
  {
   "cell_type": "code",
   "execution_count": 44,
   "id": "a758497b",
   "metadata": {
    "scrolled": true
   },
   "outputs": [
    {
     "data": {
      "text/plain": [
       "array([[1, 2, 3],\n",
       "       [2, 4, 6],\n",
       "       [3, 6, 9]])"
      ]
     },
     "execution_count": 44,
     "metadata": {},
     "output_type": "execute_result"
    }
   ],
   "source": [
    "# CASE-IV: Operation of Row and Column Matrics\n",
    "arrr=np.array([1,2,3])\n",
    "arrc=np.array([1,2,3]).reshape(-1,1)\n",
    "arrr*arrc"
   ]
  },
  {
   "cell_type": "markdown",
   "id": "1422d236",
   "metadata": {},
   "source": [
    "***"
   ]
  },
  {
   "cell_type": "markdown",
   "id": "adae17a6",
   "metadata": {},
   "source": [
    "#### 1. Arithmatic Operation (+ - * /)"
   ]
  },
  {
   "cell_type": "code",
   "execution_count": 28,
   "id": "27f9879f",
   "metadata": {},
   "outputs": [],
   "source": [
    "arr1=np.array([[1,2,3],\n",
    "               [4,5,6],\n",
    "               [7,8,9]])\n",
    "        \n",
    "arr2=np.array([[10,11,12],\n",
    "               [13,14,15],\n",
    "               [16,17,18]])"
   ]
  },
  {
   "cell_type": "code",
   "execution_count": 29,
   "id": "1684e26e",
   "metadata": {
    "scrolled": true
   },
   "outputs": [
    {
     "data": {
      "text/plain": [
       "array([[ 1,  4,  9],\n",
       "       [16, 25, 36],\n",
       "       [49, 64, 81]])"
      ]
     },
     "execution_count": 29,
     "metadata": {},
     "output_type": "execute_result"
    }
   ],
   "source": [
    "# Array Size should be same or Broadcasting should be valid\n",
    "arr1+arr2     \n",
    "arr1-arr2   \n",
    "arr1*arr2\n",
    "arr1/arr2\n",
    "arr1**2"
   ]
  },
  {
   "cell_type": "markdown",
   "id": "11485fa5",
   "metadata": {},
   "source": [
    "#### 2. Logical Operation ( ==  !=  >  <  >=  <=)"
   ]
  },
  {
   "cell_type": "code",
   "execution_count": 114,
   "id": "8248b42c",
   "metadata": {},
   "outputs": [],
   "source": [
    "arr1=np.array([[1,2,3],\n",
    "               [4,5,6],\n",
    "               [7,8,9]])\n",
    "        \n",
    "arr2=np.array([[10,11,12],\n",
    "               [13,14,15],\n",
    "               [16,17,18]])"
   ]
  },
  {
   "cell_type": "code",
   "execution_count": 115,
   "id": "d18bd1ac",
   "metadata": {
    "scrolled": true
   },
   "outputs": [
    {
     "data": {
      "text/plain": [
       "array([[ True,  True,  True],\n",
       "       [ True,  True,  True],\n",
       "       [ True,  True,  True]])"
      ]
     },
     "execution_count": 115,
     "metadata": {},
     "output_type": "execute_result"
    }
   ],
   "source": [
    "# Array Size should be same or Broadcasting should be valid : Resultant is a boolian array with same diamention\n",
    "arr1 = arr2\n",
    "arr1 != arr2\n",
    "arr1 > arr2\n",
    "arr1 < arr2\n",
    "arr1 >= arr2\n",
    "arr1 <= arr2"
   ]
  },
  {
   "cell_type": "markdown",
   "id": "15a0ff55",
   "metadata": {},
   "source": [
    "\\\n",
    "\\\n",
    "\\\n",
    "\\\n",
    "\\\n",
    "\\\n",
    "\\\n",
    "\\\n",
    "\\\n",
    "\\\n",
    "\\\n",
    "\\\n",
    "\\"
   ]
  },
  {
   "cell_type": "markdown",
   "id": "892e0256",
   "metadata": {},
   "source": [
    "<div style=\"text-align: center;\">\n",
    "    <h4><span style='color:blue'>| some basic queries |</span> </u> </h4>\n",
    "</div>"
   ]
  },
  {
   "cell_type": "code",
   "execution_count": 102,
   "id": "9f0f6bef",
   "metadata": {},
   "outputs": [],
   "source": [
    "a=np.array([1,2,3,2])\n",
    "b=np.array([2,2,3,2])\n",
    "c=np.array([6,4,4,5])"
   ]
  },
  {
   "cell_type": "code",
   "execution_count": 103,
   "id": "f63111eb",
   "metadata": {},
   "outputs": [
    {
     "data": {
      "text/plain": [
       "True"
      ]
     },
     "execution_count": 103,
     "metadata": {},
     "output_type": "execute_result"
    }
   ],
   "source": [
    "(a<=b).any()   # Does anythng is true?  : True\n",
    "(a<=b).all()   # Does all are true?     : True"
   ]
  },
  {
   "cell_type": "code",
   "execution_count": 104,
   "id": "ed42d215",
   "metadata": {
    "scrolled": true
   },
   "outputs": [
    {
     "data": {
      "text/plain": [
       "True"
      ]
     },
     "execution_count": 104,
     "metadata": {},
     "output_type": "execute_result"
    }
   ],
   "source": [
    "# (& | ~)\n",
    "((a<=b)&(b<=c)).all()"
   ]
  },
  {
   "cell_type": "markdown",
   "id": "ad8ddf45",
   "metadata": {},
   "source": [
    "***"
   ]
  },
  {
   "cell_type": "code",
   "execution_count": 17,
   "id": "de756d29",
   "metadata": {},
   "outputs": [],
   "source": [
    "arr2 = np.array([[1,2,1],\n",
    "                 [4,5,6],\n",
    "                 [7,0,9]])"
   ]
  },
  {
   "cell_type": "code",
   "execution_count": 18,
   "id": "634a505d",
   "metadata": {
    "scrolled": false
   },
   "outputs": [
    {
     "data": {
      "text/plain": [
       "array([6, 7, 9])"
      ]
     },
     "execution_count": 18,
     "metadata": {},
     "output_type": "execute_result"
    }
   ],
   "source": [
    "arr2[arr2>5]  --> # Returns 1D"
   ]
  },
  {
   "cell_type": "code",
   "execution_count": 100,
   "id": "605d05c5",
   "metadata": {
    "scrolled": false
   },
   "outputs": [
    {
     "data": {
      "text/plain": [
       "array([[ 1,  2,  1],\n",
       "       [ 4,  5, -1],\n",
       "       [-1,  0, -1]])"
      ]
     },
     "execution_count": 100,
     "metadata": {},
     "output_type": "execute_result"
    }
   ],
   "source": [
    "arr2[arr2>5]=-1"
   ]
  },
  {
   "cell_type": "markdown",
   "id": "ce959fbb",
   "metadata": {},
   "source": [
    "***"
   ]
  },
  {
   "cell_type": "markdown",
   "id": "14f299ae",
   "metadata": {},
   "source": [
    "\\\n",
    "\\\n",
    "\\\n",
    "\\\n",
    "\\\n",
    "\\\n",
    "\\\n",
    "\\\n",
    "\\\n",
    "\\\n",
    "\\\n",
    "\\\n",
    "\\\n",
    "\\\n",
    "\\\n",
    "\\\n",
    "\\\n",
    "\\\n",
    "\\\n",
    "\\\n",
    "\\\n",
    "\\\n",
    "\\\n",
    "\\\n",
    "\\\n",
    "\\\n",
    "\\\n",
    "\\\n",
    "\\\n",
    "\\\n",
    "\\\n",
    "\\\n",
    "\\\n",
    "\\\n",
    "\\\n",
    "\\\n",
    "\\\n"
   ]
  },
  {
   "cell_type": "markdown",
   "id": "6b09b11b",
   "metadata": {},
   "source": [
    "<div style=\"text-align: center;\">\n",
    "    <h2><span style='color:blue'>Chapter 5: Indexing, Slicing, Extraction & Assignment to an array  </span> </u> </h2>\n",
    "</div>"
   ]
  },
  {
   "cell_type": "markdown",
   "id": "5eac78b7",
   "metadata": {},
   "source": [
    "SubArray are just a view of Source array, they shares a same memory loacation, Hence any changes to subarray results changes in Source array as well"
   ]
  },
  {
   "cell_type": "markdown",
   "id": "197cf656",
   "metadata": {},
   "source": [
    "<div style=\"text-align: center;\">\n",
    "    <h4><span style='color:blue'>| view()  vs copy() vs deep_copy() |</span> </u> </h4>\n",
    "</div>"
   ]
  },
  {
   "cell_type": "code",
   "execution_count": 5,
   "id": "29b2991b",
   "metadata": {},
   "outputs": [
    {
     "data": {
      "text/plain": [
       "array([1, 2, 3, 4])"
      ]
     },
     "execution_count": 5,
     "metadata": {},
     "output_type": "execute_result"
    }
   ],
   "source": [
    "# view() [view is created automatically if you are changing dtype, shape , step size while assigning]\n",
    "arr=np.array([1,2,3,4])\n",
    "arrv=arr.view()\n",
    "arrv[1]=100\n",
    "\n",
    "arrv       # [  1, 100,   3,   4]\n",
    "arr        # [  1, 100,   3,   4]\n",
    "\n",
    "#copy() : create copy of array( except heteroginious array) [Copy is created automaticaly if you are changing Values while assigning]\n",
    "arr=np.array([1,2,3,4])\n",
    "arrc=arr.copy()\n",
    "arrc[1]=100\n",
    "\n",
    "arrc       # [  1, 100,   3,   4]\n",
    "arr        # [1, 2, 3, 4]\n",
    "\n",
    "\n",
    "# in case of heteroginious array (includes list, tuple,string) copy() function will not work, in that case \n",
    "# we need to use deepcopy()"
   ]
  },
  {
   "attachments": {
    "image.png": {
     "image/png": "[encoded data removed]"
    }
   },
   "cell_type": "markdown",
   "id": "494ab6f5",
   "metadata": {},
   "source": [
    "![image.png](attachment:image.png)"
   ]
  },
  {
   "attachments": {
    "image.png": {
     "image/png": "[encoded data removed]"
    }
   },
   "cell_type": "markdown",
   "id": "0a7f9ac1",
   "metadata": {},
   "source": [
    "![image.png](attachment:image.png)"
   ]
  },
  {
   "cell_type": "code",
   "execution_count": 177,
   "id": "197aea0c",
   "metadata": {
    "scrolled": true
   },
   "outputs": [],
   "source": [
    "# ------------------------------------ 1D -----------------------------------------------------------------------\n",
    "arr=np.array([0, 1, 2, 3, 4, 5, 6, 7, 8, 9])\n",
    "\n",
    "# arr[list of indices]\n",
    "arr[5]            # 5\n",
    "arr[[2,3,6,2,2]]  # [2, 3, 6, 2, 2]\n",
    "\n",
    "# slicing\n",
    "arr[::]           # [0, 1, 2, 3, 4, 5, 6, 7, 8, 9]\n",
    "arr[::-1]         # Reverse Array\n",
    "arr[::2]          # [0, 2, 4, 6, 8]\n",
    "arr[1:8:2]        # [1, 3, 5, 7]"
   ]
  },
  {
   "cell_type": "code",
   "execution_count": 7,
   "id": "af71f508",
   "metadata": {},
   "outputs": [
    {
     "data": {
      "text/plain": [
       "array([[0, 1],\n",
       "       [3, 4]])"
      ]
     },
     "execution_count": 7,
     "metadata": {},
     "output_type": "execute_result"
    }
   ],
   "source": [
    "# --------------------------------------- 2D -------------------------------------------------------------------\n",
    "arr=np.array([[0, 1, 2],\n",
    "              [3, 4, 5],\n",
    "              [6, 7, 8]])\n",
    "\n",
    "arr[1]             # Second row\n",
    "arr[:,1]           # Second Column\n",
    "arr[1,1]           # 4\n",
    "arr[1,[0,2]]       # [3,4]\n",
    "arr[[0,2], [0,2]]  # [0,8]\n",
    "\n",
    "arr[::,::]         # All Elements\n",
    "arr[::-1,::]       # Reverse Rows\n",
    "arr[::,::-1]       # Reverse Column \n",
    "arr[::-1,::-1]     # Rotating array by 180 degree \n",
    "arr[0:2,0:2]"
   ]
  },
  {
   "cell_type": "code",
   "execution_count": 8,
   "id": "3bb5b5a5",
   "metadata": {},
   "outputs": [
    {
     "data": {
      "text/plain": [
       "array([-1,  1, -1,  3, -1,  5, -1,  7, -1,  9])"
      ]
     },
     "execution_count": 8,
     "metadata": {},
     "output_type": "execute_result"
    }
   ],
   "source": [
    "# Assigning a value (Brodcasting concept works in assignment)\n",
    "arr[1,1]=21\n",
    "arr\n",
    "\n",
    "arr=np.array([0, 1, 2, 3, 4, 5, 6, 7, 8, 9])\n",
    "# Conditional selection & Assigning(Fancy Indexing)  : arr[condition]\n",
    "arr[arr%2==0]=-1  # [-1,  1, -1,  3, -1,  5, -1,  7, -1,  9]\n",
    "arr"
   ]
  },
  {
   "cell_type": "markdown",
   "id": "958a2370",
   "metadata": {},
   "source": [
    "<div style=\"text-align: center;\">\n",
    "    <h2><span style='color:blue'>Chapter 6: Array Methods </span> </u> </h2>\n",
    "</div>"
   ]
  },
  {
   "cell_type": "markdown",
   "id": "2b850def",
   "metadata": {},
   "source": [
    "### Agrigations / Statastics Methods"
   ]
  },
  {
   "cell_type": "code",
   "execution_count": 192,
   "id": "dfaa4151",
   "metadata": {
    "scrolled": true
   },
   "outputs": [
    {
     "data": {
      "text/plain": [
       "2.581988897471611"
      ]
     },
     "execution_count": 192,
     "metadata": {},
     "output_type": "execute_result"
    }
   ],
   "source": [
    "arr=np.array([[1,2,3],\n",
    "              [4,5,6],\n",
    "              [7,8,9]])\n",
    "\n",
    "arr.sum()         # 45                # sum of All elements\n",
    "arr.sum(0)        # [12, 15, 18]      # sum of Colums elements \n",
    "arr.sum(1)        # [ 6, 15, 24]      # sum of Row elements\n",
    "\n",
    "# Other Methods\n",
    "arr.min()         # 1\n",
    "arr.max()         # 9\n",
    "arr.mean()        # 5\n",
    "arr.std()         #2.581"
   ]
  },
  {
   "cell_type": "markdown",
   "id": "a22aa18b",
   "metadata": {},
   "source": [
    "### Sorting Method"
   ]
  },
  {
   "cell_type": "code",
   "execution_count": 51,
   "id": "58e14c67",
   "metadata": {},
   "outputs": [
    {
     "data": {
      "text/plain": [
       "array([[1, 1, 0],\n",
       "       [6, 4, 2],\n",
       "       [9, 7, 5]])"
      ]
     },
     "execution_count": 51,
     "metadata": {},
     "output_type": "execute_result"
    }
   ],
   "source": [
    "# -------------------------------------------------- 1D ------------------------------------------------------------\n",
    "arr.sort()\n",
    "arr               # Ascending\n",
    "arr[::-1]         # Descending\n",
    "# -------------------------------------------------- 2D ------------------------------------------------------------\n",
    "arr=np.array([[1,2,1],\n",
    "              [4,5,6],\n",
    "              [7,0,9]])\n",
    "\n",
    "\n",
    "arr.sort()   \n",
    "arr                 #Rowwise Acsendign\n",
    "arr[::,::-1]        #Rowwise Descending\n",
    "\n",
    "arr.sort(axis=0)  \n",
    "arr                 #Columnwise Acsending\n",
    "arr[::-1,::]        #Columnwise Desending"
   ]
  },
  {
   "cell_type": "markdown",
   "id": "f2f2aba9",
   "metadata": {},
   "source": [
    "### Sort-Indexing Methods"
   ]
  },
  {
   "cell_type": "code",
   "execution_count": 21,
   "id": "0298a9ac",
   "metadata": {},
   "outputs": [
    {
     "data": {
      "text/plain": [
       "array([[2, 1, 2],\n",
       "       [1, 0, 1],\n",
       "       [0, 2, 0]], dtype=int64)"
      ]
     },
     "execution_count": 21,
     "metadata": {},
     "output_type": "execute_result"
    }
   ],
   "source": [
    "# -------------------------------------------------- 1D ------------------------------------------------------------\n",
    "arr=np.array([5,7,3,2,8,1])\n",
    "arr.argsort()                 # [5, 3, 2, 0, 1, 4] # Index of Ascending sorting\n",
    "arr.argsort()[::-1]           # [4, 1, 0, 2, 3, 5] # Index of Descending Sorting\n",
    "\n",
    "# -------------------------------------------------- 2D ------------------------------------------------------------\n",
    "arr=np.array([[1,2,1],\n",
    "              [4,5,6],\n",
    "              [7,0,9]])\n",
    "\n",
    "# Rowise\n",
    "arr.argsort()               # row wise Index of Ascending sorting\n",
    "arr.argsort()[::-1]         # row wise Index of Descending Sorting\n",
    "\n",
    "# Columnwise\n",
    "arr.argsort(axis=0)         # Column wise Index of Ascending sorting\n",
    "arr.argsort(axis=0)[::-1]   # Column wise Index of Descending Sorting\n",
    "\n",
    "\n",
    "\n",
    "# ------------------------------------- Note: Sorting of 1D Array ------------------------------------------------------------\n",
    "arr=np.array([5,7,3,2,8,1])\n",
    "arr.argsort()                 # [5, 3, 2, 0, 1, 4] # Index of Ascending sorting\n",
    "arr.argsort()[::-1]           # [4, 1, 0, 2, 3, 5] # Index of Descending Sorting\n",
    "\n",
    "arr[arr.argsort()]            # [1, 2, 3, 5, 7, 8]\n",
    "arr[arr.argsort()[::-1]]      # [8, 7, 5, 3, 2, 1]"
   ]
  },
  {
   "cell_type": "code",
   "execution_count": 15,
   "id": "43d47499",
   "metadata": {},
   "outputs": [
    {
     "data": {
      "text/plain": [
       "4"
      ]
     },
     "execution_count": 15,
     "metadata": {},
     "output_type": "execute_result"
    }
   ],
   "source": [
    "# -------------------------------------------------- 1D ------------------------------------------------------------\n",
    "arr=np.array([5,7,3,2,8,1])\n",
    "arr.argmin()                 # 5   # Index of the mimimum element\n",
    "arr.argmax()                 # 4   # Index of the maximum element\n",
    "# -------------------------------------------------- 2D ------------------------------------------------------------\n",
    "arr=np.array([[1,2,1],\n",
    "              [4,5,6],\n",
    "              [7,0,9]])\n",
    "\n",
    "arr.argmin()         #  7         Index of the mimimum element considering flatten array\n",
    "arr.argmin(axis=0)   # [0, 2, 0]  Index of the mimimum element in each column\n",
    "arr.argmin(axis=1)   # [0, 0, 1]  Index of the maximum element in each row\n",
    "\n",
    "arr.argmax()         # 8          Index of the maximum element considering flatten array\n",
    "arr.argmax(axis=0)   # [2, 1, 2]  Index of the maximum element in each column\n",
    "arr.argmax(axis=1)   # [1, 2, 2]  Index of the maximum element in each row"
   ]
  },
  {
   "cell_type": "markdown",
   "id": "99a9f8a2",
   "metadata": {},
   "source": [
    "\\\n",
    "\\\n",
    "\\\n",
    "\\\n",
    "\\\n",
    "\\\n",
    "\\\n",
    "\\\n",
    "\\\n",
    "\\\n",
    "\\\n",
    "\\\n",
    "\\\n",
    "\\\n",
    "\\\n",
    "\\\n",
    "\\\n",
    "\\\n",
    "\\\n",
    "\\\n",
    "\\\n",
    "\\\n",
    "\\\n",
    "\\\n",
    "\\\n",
    "\\\n",
    "\\\n",
    "\\\n",
    "\\\n",
    "\\\n",
    "\\\n",
    "\\\n",
    "\\\n",
    "\\\n",
    "\\\n",
    "\\\n",
    "\\\n",
    "\\\n",
    "\\\n",
    "\\\n",
    "\\\n",
    "\\\n",
    "\\\n",
    "\\\n",
    "\\\n",
    "\\\n",
    "\\\n",
    "\\\n",
    "\\\n",
    "\\\n",
    "\\\n",
    "\\\n",
    "\\\n",
    "\\\n",
    "\\\n",
    "\\\n",
    "\\\n",
    "\\\n",
    "\\"
   ]
  },
  {
   "cell_type": "markdown",
   "id": "6f46db29",
   "metadata": {},
   "source": [
    "<div style=\"text-align: center;\">\n",
    "    <h1><span style='color:red'>NUMPY</span> </u> </h1>\n",
    "</div>"
   ]
  },
  {
   "cell_type": "markdown",
   "id": "9de03861",
   "metadata": {},
   "source": [
    "<div style=\"text-align: center;\">\n",
    "    <h1>Numpy Methods </h1>\n",
    "</div>"
   ]
  },
  {
   "cell_type": "markdown",
   "id": "effdf3f4",
   "metadata": {},
   "source": [
    "<div style=\"text-align: center;\">\n",
    "    <h2><span style='color:blue'>Chapter 1: Uploading Methods </span> </u> </h2>\n",
    "</div>"
   ]
  },
  {
   "cell_type": "code",
   "execution_count": 10,
   "id": "5aa937e4",
   "metadata": {},
   "outputs": [
    {
     "data": {
      "text/plain": [
       "array([ 7, 10,  5, ...,  5,  9, 10])"
      ]
     },
     "execution_count": 10,
     "metadata": {},
     "output_type": "execute_result"
    }
   ],
   "source": [
    "nps=np.loadtxt(f\"E:\\Dropbox\\Study\\PythonNotebooks\\Main Notes\\Datasets\\Airbnbnps.txt\",dtype='int')\n",
    "nps"
   ]
  },
  {
   "cell_type": "markdown",
   "id": "2d233a00",
   "metadata": {},
   "source": [
    "<div style=\"text-align: center;\">\n",
    "    <h2><span style='color:blue'>Chapter 2: Mathamatical Methods </span> </u> </h2>\n",
    "</div>"
   ]
  },
  {
   "cell_type": "code",
   "execution_count": 63,
   "id": "44a68531",
   "metadata": {},
   "outputs": [],
   "source": [
    "arr = np.array([[5, 2, 9],\n",
    "                [1, 7, 6],\n",
    "                [3, 8, 4]])   "
   ]
  },
  {
   "cell_type": "code",
   "execution_count": 61,
   "id": "3e6cdd69",
   "metadata": {
    "scrolled": true
   },
   "outputs": [
    {
     "data": {
      "text/plain": [
       "array([[[0.84147098, 0.90929743, 0.14112001]]])"
      ]
     },
     "execution_count": 61,
     "metadata": {},
     "output_type": "execute_result"
    }
   ],
   "source": [
    "# mathamatical functions\n",
    "np.round(arr,1)  \n",
    "np.abs(arr)\n",
    "np.sqrt(arr)\n",
    "np.log(arr)\n",
    "np.log10(arr)\n",
    "np.exp(arr) \n",
    "np.sin(arr) "
   ]
  },
  {
   "cell_type": "markdown",
   "id": "c8c7c06d",
   "metadata": {},
   "source": [
    "<div style=\"text-align: center;\">\n",
    "    <h2><span style='color:blue'>Chapter 3: Aggrigation/Statastical Methods </span> </u> </h2>\n",
    "</div>"
   ]
  },
  {
   "cell_type": "code",
   "execution_count": 198,
   "id": "12ceb753",
   "metadata": {},
   "outputs": [
    {
     "data": {
      "text/plain": [
       "1"
      ]
     },
     "execution_count": 198,
     "metadata": {},
     "output_type": "execute_result"
    }
   ],
   "source": [
    "arr = np.array([[5, 2, 9],\n",
    "                [1, 7, 6],\n",
    "                [3, 8, 4]])   \n",
    " \n",
    "np.sum(arr)           # 45                # sum of All elements            \n",
    "np.sum(arr,0)         # [ 9, 17, 19]      # sum of Colums elements \n",
    "np.sum(arr,1)         # [16, 14, 15]      # sum of Rows elements \n",
    "\n",
    "np.mean(arr) \n",
    "np.median(arr)\n",
    "np.std(arr)\n",
    "np.max(arr) \n",
    "np.min(arr)"
   ]
  },
  {
   "cell_type": "markdown",
   "id": "c632fed0",
   "metadata": {},
   "source": [
    "<div style=\"text-align: center;\">\n",
    "    <h2><span style='color:blue'>Chapter 4: Boolean Methods </span> </u> </h2>\n",
    "</div>"
   ]
  },
  {
   "cell_type": "code",
   "execution_count": 101,
   "id": "afc8dd26",
   "metadata": {},
   "outputs": [
    {
     "data": {
      "text/plain": [
       "True"
      ]
     },
     "execution_count": 101,
     "metadata": {},
     "output_type": "execute_result"
    }
   ],
   "source": [
    "np.array_equal(arr1,arr2)   |  (arr1==arr2).all()\n",
    "np.all(arr1)                |   arr1.all()\n",
    "np.any(arr1)                |   arr1.any()\n",
    "np.logical_or(arr1,arr2)    |   arr1 | arr2\n",
    "np.logical_and(arr1,arr2)   |   arr1 & arr2\n",
    "np.shares_memory(arr1,arr2)"
   ]
  },
  {
   "cell_type": "markdown",
   "id": "de510250",
   "metadata": {},
   "source": [
    "<div style=\"text-align: center;\">\n",
    "    <h2><span style='color:blue'>Chapter 5: Set Methods (Returns 1D) </span> </u> </h2>\n",
    "</div>"
   ]
  },
  {
   "cell_type": "code",
   "execution_count": 125,
   "id": "251af49c",
   "metadata": {},
   "outputs": [
    {
     "data": {
      "text/plain": [
       "array([1, 2, 4, 5, 6, 7, 9])"
      ]
     },
     "execution_count": 125,
     "metadata": {},
     "output_type": "execute_result"
    }
   ],
   "source": [
    "# intersect1d\n",
    "# ---------------------------------------------1D-------------------------------------------------------------------\n",
    "arr1 = np.array([2, 4, 6, 8, 10])\n",
    "arr2 = np.array([4, 8, 12, 16])\n",
    "np.intersect1d(arr1, arr2)        # Output: [4 8]\n",
    "\n",
    "# ---------------------------------------------2D-------------------------------------------------------------------\n",
    "arr1 = np.array([[5, 2, 9],\n",
    "                 [1, 7, 6],\n",
    "                 [3, 8, 4]])  \n",
    "\n",
    "arr2 = np.array([[1,2,1],\n",
    "                 [4,5,6],\n",
    "                 [7,0,9]])\n",
    "\n",
    "np.intersect1d(arr1, arr2)"
   ]
  },
  {
   "cell_type": "code",
   "execution_count": 137,
   "id": "5dbb3eb3",
   "metadata": {},
   "outputs": [
    {
     "data": {
      "text/plain": [
       "array([3, 8])"
      ]
     },
     "execution_count": 137,
     "metadata": {},
     "output_type": "execute_result"
    }
   ],
   "source": [
    "# setdiff1d\n",
    "# ---------------------------------------------1D-------------------------------------------------------------------\n",
    "arr1 = np.array([2, 4, 6, 8, 10])\n",
    "arr2 = np.array([4, 8, 12, 16])\n",
    "np.setdiff1d(arr1, arr2)           # Output: [2 6 10]\n",
    "\n",
    "# ---------------------------------------------2D-------------------------------------------------------------------\n",
    "arr1 = np.array([[5, 2, 9],\n",
    "                 [1, 7, 6],\n",
    "                 [3, 8, 4]])  \n",
    "\n",
    "arr2 = np.array([[1,2,1],\n",
    "                 [4,5,6],\n",
    "                 [7,0,9]])\n",
    "\n",
    "np.setdiff1d(arr1, arr2)"
   ]
  },
  {
   "cell_type": "markdown",
   "id": "5caf9f4d",
   "metadata": {},
   "source": [
    "<div style=\"text-align: center;\">\n",
    "    <h2><span style='color:blue'>Chapter 6: Rotating/Fliping Methods </span> </u> </h2>\n",
    "</div>"
   ]
  },
  {
   "cell_type": "code",
   "execution_count": 61,
   "id": "8679fb65",
   "metadata": {
    "scrolled": true
   },
   "outputs": [
    {
     "data": {
      "text/plain": [
       "array([[9, 0, 7],\n",
       "       [6, 5, 4],\n",
       "       [1, 2, 1]])"
      ]
     },
     "execution_count": 61,
     "metadata": {},
     "output_type": "execute_result"
    }
   ],
   "source": [
    "# flip()\n",
    "arr = np.array([[1,2,1],\n",
    "                [4,5,6],\n",
    "                [7,0,9]])\n",
    "np.flip(arr,0) |  arr[::,::-1]                               # flip Horizintaly\n",
    "np.flip(arr,1) |  arr[::-1,::]                               # flip Vertically\n",
    "np.flip(arr)   |  arr[::-1,::-1]   |  np.rotate(arr,2)       # rotate by 180"
   ]
  },
  {
   "cell_type": "code",
   "execution_count": 57,
   "id": "6f27c2cb",
   "metadata": {},
   "outputs": [
    {
     "data": {
      "text/plain": [
       "array([[1, 6, 9],\n",
       "       [2, 5, 0],\n",
       "       [1, 4, 7]])"
      ]
     },
     "execution_count": 57,
     "metadata": {},
     "output_type": "execute_result"
    }
   ],
   "source": [
    "# ---------------------------------------------2D-------------------------------------------------------------------\n",
    "# rot90\n",
    "arr = np.array([[1,2,1],\n",
    "                [4,5,6],\n",
    "                [7,0,9]])\n",
    "np.rot90(arr,-1)  # Clockwise by 1 step\n",
    "np.rot90(arr,1)   # AntiClockwise by 1 step"
   ]
  },
  {
   "cell_type": "markdown",
   "id": "9105595b",
   "metadata": {},
   "source": [
    "<div style=\"text-align: center;\">\n",
    "    <h2><span style='color:blue'>Chapter 7: Function Vectorisation </span> </u> </h2>\n",
    "</div>"
   ]
  },
  {
   "cell_type": "code",
   "execution_count": 14,
   "id": "f5d8887b",
   "metadata": {
    "scrolled": true
   },
   "outputs": [
    {
     "data": {
      "text/plain": [
       "array([[4, 3, 8],\n",
       "       [0, 6, 7],\n",
       "       [2, 9, 5]])"
      ]
     },
     "execution_count": 14,
     "metadata": {},
     "output_type": "execute_result"
    }
   ],
   "source": [
    "def xyz(x):\n",
    "    if x%2==0: x+=1\n",
    "    else:x-=1\n",
    "    return x\n",
    "\n",
    "arr = np.array([[5, 2, 9],\n",
    "                [1, 7, 6],\n",
    "                [3, 8, 4]])  \n",
    "\n",
    "xyz_v=np.vectorize(xyz)\n",
    "\n",
    "# xyz(arr)        # Error\n",
    "xyz_v(arr)"
   ]
  },
  {
   "cell_type": "markdown",
   "id": "95b91bf7",
   "metadata": {},
   "source": [
    "<div style=\"text-align: center;\">\n",
    "    <h2><span style='color:blue'>Chapter 8: Sorting & Shuffling Methods </span> </u> </h2>\n",
    "</div>"
   ]
  },
  {
   "cell_type": "code",
   "execution_count": 175,
   "id": "acbeb639",
   "metadata": {},
   "outputs": [
    {
     "name": "stdout",
     "output_type": "stream",
     "text": [
      "[ 7 18 22 25 32 41 57 73 87 89]\n",
      "[89 87 73 57 41 32 25 22 18  7]\n",
      "[3 4 5 2 1]\n"
     ]
    }
   ],
   "source": [
    "# ------------------------------------------------------ 1D ---------------------------------------------------------\n",
    "# Sorting 1D Array\n",
    "arr=np.random.randint(0,100,10)\n",
    "arr.sort()\n",
    "print(arr)       | arr[arr.argsort()]              # Acsending\n",
    "print(arr[::-1]) | arr[arr.argsort()[::-1]]        # Desending\n",
    "\n",
    "# shuffling 1D Array\n",
    "arr=np.array([1,2,3,4,5])\n",
    "np.random.shuffle(arr)\n",
    "print(arr)"
   ]
  },
  {
   "cell_type": "code",
   "execution_count": 176,
   "id": "10371173",
   "metadata": {
    "scrolled": true
   },
   "outputs": [
    {
     "name": "stdout",
     "output_type": "stream",
     "text": [
      "[[1 2 1]\n",
      " [7 0 9]\n",
      " [4 5 6]]\n"
     ]
    }
   ],
   "source": [
    "# --------------------------------------------------------- 2D -------------------------------------------------------\n",
    "#Sorting an 2D array \n",
    "arr = np.array([[5, 2, 9],\n",
    "                [1, 7, 6],\n",
    "                [3, 8, 4]])   \n",
    "\n",
    "# Rows\n",
    "rows_asc = np.sort(arr)                     # Ascending\n",
    "rows_desc = np.sort(arr)[:,::-1]            # Decending\n",
    "\n",
    "# Column\n",
    "cols_asc = np.sort(arr, axis=0)             # Ascending\n",
    "cols_desc = np.sort(arr, axis=0)[::-1, :]   # Decending\n",
    "\n",
    "\n",
    "# Shuffling of 2D Array\n",
    "arr=np.array([[1,2,1],\n",
    "              [4,5,6],\n",
    "              [7,0,9]])\n",
    "np.random.shuffle(arr)\n",
    "print(arr)"
   ]
  },
  {
   "cell_type": "markdown",
   "id": "3647f0e8",
   "metadata": {},
   "source": [
    "<div style=\"text-align: center;\">\n",
    "    <h2><span style='color:blue'>Chapter 9: Sort Indexing & Searching </span> </u> </h2>\n",
    "</div>"
   ]
  },
  {
   "cell_type": "code",
   "execution_count": 38,
   "id": "bdffb4fd",
   "metadata": {},
   "outputs": [
    {
     "data": {
      "text/plain": [
       "array([[2, 1, 2],\n",
       "       [1, 0, 1],\n",
       "       [0, 2, 0]], dtype=int64)"
      ]
     },
     "execution_count": 38,
     "metadata": {},
     "output_type": "execute_result"
    }
   ],
   "source": [
    "# -------------------------------------------------- 1D ------------------------------------------------------------\n",
    "arr=np.array([5,7,3,2,8,1])\n",
    "np.argsort(arr)                 # [5, 3, 2, 0, 1, 4]  # Indexing of Ascending sorting\n",
    "np.argsort(arr)[::-1]           # [4, 1, 0, 2, 3, 5]  # Index of Descending Sorting\n",
    "\n",
    "# -------------------------------------------------- 2D ------------------------------------------------------------\n",
    "arr=np.array([[1,2,1],\n",
    "              [4,5,6],\n",
    "              [7,0,9]])\n",
    "\n",
    "# Rowise\n",
    "np.argsort(arr)          # row wise sorting indices Accending\n",
    "np.argsort(arr) [::-1]   # row wise sorting indices Descending\n",
    "\n",
    "# Columnwise\n",
    "np.argsort(arr,axis=0)         # Column wise sorting indices Accending\n",
    "np.argsort(arr,axis=0)[::-1]   # Column wise sorting indices Descending"
   ]
  },
  {
   "cell_type": "code",
   "execution_count": 68,
   "id": "b0b96bb2",
   "metadata": {},
   "outputs": [
    {
     "data": {
      "text/plain": [
       "array([1, 2, 2], dtype=int64)"
      ]
     },
     "execution_count": 68,
     "metadata": {},
     "output_type": "execute_result"
    }
   ],
   "source": [
    "arr=np.array([[1,2,1],\n",
    "              [4,5,6],\n",
    "              [7,0,9]])\n",
    "\n",
    "np.argmin(arr)          #  7         Index of the mimimum element\n",
    "np.argmin(arr,axis=0)   # [0, 2, 0]  Index of the mimimum element in each column\n",
    "np.argmin(arr,axis=1)   # [0, 0, 1]  Index of the maximum element in each row\n",
    "\n",
    "np.argmax(arr)          # 8          Index of the maximum element\n",
    "np.argmax(arr,axis=0)   # [2, 1, 2]  Index of the maximum element in each column\n",
    "np.argmax(arr,axis=1)   # [1, 2, 2]  Index of the maximum element in each row"
   ]
  },
  {
   "cell_type": "code",
   "execution_count": 12,
   "id": "0fc30ca9",
   "metadata": {
    "scrolled": true
   },
   "outputs": [
    {
     "data": {
      "text/plain": [
       "[(0, 2), (1, 1), (1, 2), (2, 1)]"
      ]
     },
     "execution_count": 12,
     "metadata": {},
     "output_type": "execute_result"
    }
   ],
   "source": [
    "# where : returns the index of the satified condition elements\n",
    "# -------------------------------------- 1D -------------------------------------------------\n",
    "arr=np.array([1,2,3,4,5])\n",
    "np.where(arr>2)\n",
    "\n",
    "# -------------------------------------- 2D --------------------------------------------------\n",
    "arr = np.array([[5, 2, 9],\n",
    "                [1, 7, 6],\n",
    "                [3, 8, 4]])  \n",
    "x=np.where(arr>5)\n",
    "\n",
    "\n",
    "[[x[0][i],x[1][i]] for i in range(len(x[0]))]\n",
    "\n",
    "np.stack([x[0],x[1]],axis=1)\n",
    "\n",
    "import pandas as pd\n",
    "pd.Series(x[0],x[1])\n",
    "\n",
    "list(zip(x[0],x[1]))"
   ]
  },
  {
   "cell_type": "markdown",
   "id": "357509bf",
   "metadata": {},
   "source": [
    "<div style=\"text-align: center;\">\n",
    "    <h4><span style='color:blue'>| fancy_indexing Vs np.where() |</span> </u> </h4>\n",
    "</div>"
   ]
  },
  {
   "cell_type": "code",
   "execution_count": 12,
   "id": "d5e5c9f6",
   "metadata": {
    "scrolled": true
   },
   "outputs": [
    {
     "data": {
      "text/plain": [
       "array([[0, 0, 1],\n",
       "       [0, 1, 1],\n",
       "       [0, 1, 0]])"
      ]
     },
     "execution_count": 12,
     "metadata": {},
     "output_type": "execute_result"
    }
   ],
   "source": [
    "arr = np.array([[5, 2, 9],\n",
    "                [1, 7, 6],\n",
    "                [3, 8, 4]])      \n",
    "arr>5                        #--> Boolian\n",
    "arr[arr>5]\n",
    "arr[arr>5]=1\n",
    "arr\n",
    "\n",
    "\n",
    "arr = np.array([[5, 2, 9],\n",
    "                [1, 7, 6],\n",
    "                [3, 8, 4]])  \n",
    "np.where(arr>5)              #--> Indexes\n",
    "arr[np.where(arr>5)]\n",
    "np.where(arr>5,1,0)          # np.where(condition,True,False)"
   ]
  },
  {
   "cell_type": "markdown",
   "id": "609a30b5",
   "metadata": {},
   "source": [
    "***"
   ]
  },
  {
   "cell_type": "markdown",
   "id": "ef89b38d",
   "metadata": {},
   "source": [
    "<div style=\"text-align: center;\">\n",
    "    <h2><span style='color:blue'>Chapter 10: Dublicating & Unique Methods</span> </u> </h2>\n",
    "</div>"
   ]
  },
  {
   "cell_type": "markdown",
   "id": "2669c681",
   "metadata": {},
   "source": [
    "#### Dublicating"
   ]
  },
  {
   "cell_type": "code",
   "execution_count": 150,
   "id": "351a325d",
   "metadata": {},
   "outputs": [
    {
     "data": {
      "text/plain": [
       "array([[10, 11, 12, 10, 11, 12],\n",
       "       [13, 14, 15, 13, 14, 15],\n",
       "       [10, 11, 12, 10, 11, 12],\n",
       "       [13, 14, 15, 13, 14, 15],\n",
       "       [10, 11, 12, 10, 11, 12],\n",
       "       [13, 14, 15, 13, 14, 15]])"
      ]
     },
     "execution_count": 150,
     "metadata": {},
     "output_type": "execute_result"
    }
   ],
   "source": [
    "# tile \n",
    "# ---------------------------------------------1D-------------------------------------------------------------------\n",
    "arr=np.array([0,10,20,30])\n",
    "np.tile(arr,3)                  # [ 0, 10, 20, 30,  0, 10, 20, 30,  0, 10, 20, 30]\n",
    "np.tile(arr,(3,2))              # (ndim increase by 1)\n",
    "# Output:\n",
    "# [[ 0, 10, 20, 30,  0, 10, 20, 30],\n",
    "#  [ 0, 10, 20, 30,  0, 10, 20, 30],\n",
    "#  [ 0, 10, 20, 30,  0, 10, 20, 30]]\n",
    "\n",
    "# ---------------------------------------------2D-------------------------------------------------------------------\n",
    "arr=np.array([[10,11,12],\n",
    "               [13,14,15]]) \n",
    "np.tile(arr,2)\n",
    "# Output:\n",
    "# [[10, 11, 12, 10, 11, 12],\n",
    "#  [13, 14, 15, 13, 14, 15]]\n",
    "np.tile(arr,(3,2))"
   ]
  },
  {
   "cell_type": "code",
   "execution_count": 145,
   "id": "d2971e1f",
   "metadata": {
    "scrolled": false
   },
   "outputs": [
    {
     "data": {
      "text/plain": [
       "array([[10, 11, 12],\n",
       "       [10, 11, 12],\n",
       "       [13, 14, 15],\n",
       "       [13, 14, 15]])"
      ]
     },
     "execution_count": 145,
     "metadata": {},
     "output_type": "execute_result"
    }
   ],
   "source": [
    "# repeat\n",
    "# ---------------------------------------------1D-------------------------------------------------------------------\n",
    "# Example 1: Repeat individual elements\n",
    "arr1 = np.array([1, 2, 3])\n",
    "np.repeat(arr1, 3)                      # [1 1 1 2 2 2 3 3 3]\n",
    "\n",
    "# Example 2: Repeat elements with different counts\n",
    "arr2 = np.array([10, 20, 30])\n",
    "np.repeat(arr2, np.array([2, 3, 1]))    # [10 10 20 20 20 30]\n",
    "\n",
    "# Example 3: Repeat along a specific axis\n",
    "arr3 = np.array([[1, 2], [3, 4]])\n",
    "np.repeat(arr3, 2, axis=1)\n",
    "# Output:\n",
    "# [[1 1 2 2]\n",
    "#  [3 3 4 4]]\n",
    "np.repeat(arr3, 2, axis=0)\n",
    "# Output:\n",
    "# [[1, 2],\n",
    "#  [1, 2],\n",
    "#  [3, 4],\n",
    "#  [3, 4]]\n",
    "\n",
    "# ---------------------------------------------2D-------------------------------------------------------------------\n",
    "arr=np.array([[10,11,12],\n",
    "               [13,14,15]]) \n",
    "np.repeat(arr, 3)              # [10, 10, 10, 11, 11, 11, 12, 12, 12, 13, 13, 13, 14, 14, 14, 15, 15, 15]\n",
    "np.repeat(arr, 2, axis=1)\n",
    "# Output:\n",
    "# [[10, 10, 11, 11, 12, 12],\n",
    "#  [13, 13, 14, 14, 15, 15]]\n",
    "np.repeat(arr, 2, axis=0)"
   ]
  },
  {
   "cell_type": "markdown",
   "id": "d32f0b6c",
   "metadata": {},
   "source": [
    "#### Unique"
   ]
  },
  {
   "cell_type": "code",
   "execution_count": 10,
   "id": "1f7cc9b9",
   "metadata": {
    "scrolled": true
   },
   "outputs": [
    {
     "data": {
      "text/plain": [
       "{0: 1, 1: 2, 2: 1, 4: 1, 5: 1, 6: 1, 7: 1, 9: 1}"
      ]
     },
     "execution_count": 10,
     "metadata": {},
     "output_type": "execute_result"
    }
   ],
   "source": [
    "arr = np.array([[1,2,1],\n",
    "                [4,5,6],\n",
    "                [7,0,9]])\n",
    "x=np.unique(arr,return_counts=True)\n",
    "\n",
    "\n",
    "{x[0][i]:x[1][i] for i in range(len(x[0]))}\n",
    "\n",
    "np.stack([x[0],x[1]],axis=1)\n",
    "\n",
    "import pandas as pd\n",
    "pd.Series(x[0],x[1])\n",
    "\n",
    "dict(zip(x[0],x[1]))"
   ]
  },
  {
   "cell_type": "markdown",
   "id": "87db3ff4",
   "metadata": {},
   "source": [
    "<div style=\"text-align: center;\">\n",
    "    <h2><span style='color:blue'>Chapter 11: Spliting an array</span> </u> </h2>\n",
    "</div>"
   ]
  },
  {
   "cell_type": "code",
   "execution_count": 30,
   "id": "a03657e3",
   "metadata": {},
   "outputs": [
    {
     "data": {
      "text/plain": [
       "[array([[33, 18,  4, 46]]),\n",
       " array([[44, 38, 41,  0]]),\n",
       " array([[38, 20,  7, 25],\n",
       "        [20, 22, 32,  3]])]"
      ]
     },
     "execution_count": 30,
     "metadata": {},
     "output_type": "execute_result"
    }
   ],
   "source": [
    "# ------------------------------------------------------- 1D ---------------------------------------------------------\n",
    "arr=np.array([11,12,13,14,15,19])     # no of element should be divisible by no of split\n",
    "np.split(arr,3)  #--> list of arrays  # [array([11, 12]), array([13, 14]), array([15, 19])]\n",
    "np.split(arr,[2,5])                   # [array([11, 12]), array([13, 14, 15]), array([19])]\n",
    "\n",
    "# ------------------------------------------------------- 2D ---------------------------------------------------------\n",
    "arr=np.array([[33, 18,  4, 46],\n",
    "              [44, 38, 41,  0],\n",
    "              [38, 20,  7, 25],\n",
    "              [20, 22, 32,  3]])\n",
    "\n",
    "# Horizontal Split\n",
    "np.hsplit(arr,4)\n",
    "np.hsplit(arr,[1,2])\n",
    "\n",
    "# Vertical Split\n",
    "np.vsplit(arr,4)\n",
    "np.vsplit(arr,[1,2])"
   ]
  },
  {
   "cell_type": "markdown",
   "id": "a8dd6a2d",
   "metadata": {},
   "source": [
    "<div style=\"text-align: center;\">\n",
    "    <h2><span style='color:blue'>Chapter 12: Joining Methods (Append | Concatinate | Stack)</span> </u> </h2>\n",
    "</div>"
   ]
  },
  {
   "cell_type": "code",
   "execution_count": 38,
   "id": "b725ae19",
   "metadata": {},
   "outputs": [
    {
     "data": {
      "text/plain": [
       "array([[ 1,  2,  3,  4,  5],\n",
       "       [11, 12, 13, 14, 15]])"
      ]
     },
     "execution_count": 38,
     "metadata": {},
     "output_type": "execute_result"
    }
   ],
   "source": [
    "# ----------------------------------------1D---------------------------------------------------------------------\n",
    "arr1=np.array([1,2,3,4,5])\n",
    "arr2=np.array([11,12,13,14,15])\n",
    "\n",
    "# [ 1,  2,  3,  4,  5, 11, 12, 13, 14, 15]\n",
    "np.append(arr1,arr2)           # Append    \n",
    "np.concatenate([arr1,arr2])    # Concat\n",
    "np.hstack([arr1,arr2])         # hstack    \n",
    "\n",
    "# ndim increses by 1\n",
    "#   [[ 1,  2,  3,  4,  5],\n",
    "#    [11, 12, 13, 14, 15]]\n",
    "np.vstack([arr1,arr2])        # vstack | stack"
   ]
  },
  {
   "cell_type": "code",
   "execution_count": 70,
   "id": "b7ee5001",
   "metadata": {},
   "outputs": [
    {
     "data": {
      "text/plain": [
       "array([[5, 2, 9],\n",
       "       [1, 7, 6],\n",
       "       [3, 8, 4],\n",
       "       [1, 2, 1],\n",
       "       [4, 5, 6],\n",
       "       [7, 0, 9]])"
      ]
     },
     "execution_count": 70,
     "metadata": {},
     "output_type": "execute_result"
    }
   ],
   "source": [
    "# ---------------------------------------------2D-------------------------------------------------------------------\n",
    "arr1 = np.array([[5, 2, 9],\n",
    "                 [1, 7, 6],\n",
    "                 [3, 8, 4]])  \n",
    "\n",
    "arr2 = np.array([[1,2,1],\n",
    "                 [4,5,6],\n",
    "                 [7,0,9]])\n",
    "\n",
    "# no of column should be same                # [ [5, 2, 9],\n",
    "np.append(arr1,arr2,axis=0)                  #   [1, 7, 6],\n",
    "np.concatenate([arr1,arr2],axis=0)           #   [3, 8, 4],\n",
    "np.vstack([arr1,arr2])                       #   [1, 2, 1],\n",
    "                                             #   [4, 5, 6],\n",
    "                                             #   [7, 0, 9] ]\n",
    "        \n",
    "# no of rows should be same\n",
    "np.append(arr1,arr2,axis=1)                # [ [5, 2, 9, 1, 2, 1],\n",
    "np.concatenate([arr1,arr2],axis=1)         #   [1, 7, 6, 4, 5, 6],\n",
    "np.hstack([arr1,arr2])                     #   [3, 8, 4, 7, 0, 9]]"
   ]
  },
  {
   "cell_type": "code",
   "execution_count": 62,
   "id": "e57de79f",
   "metadata": {},
   "outputs": [
    {
     "data": {
      "text/plain": [
       "array([ 0,  1,  2,  3,  4,  5,  6,  7,  8, 10, 11, 12, 13, 14, 15])"
      ]
     },
     "execution_count": 62,
     "metadata": {},
     "output_type": "execute_result"
    }
   ],
   "source": [
    "# append : Deep copy function\n",
    "# axis = None (Flatening of 2 Array and concatinate)\n",
    "arr1=np.array([[0,1,2],\n",
    "               [3,4,5],\n",
    "               [6,7,8]])       \n",
    "        \n",
    "arr2=np.array([[10,11,12],\n",
    "               [13,14,15]])  \n",
    "\n",
    "np.append(arr1,arr2)    # [ 0  1  2  3  4  5  6  7  8 10 11 12 13 14 15]"
   ]
  },
  {
   "cell_type": "code",
   "execution_count": 39,
   "id": "8be81dc5",
   "metadata": {
    "scrolled": true
   },
   "outputs": [
    {
     "data": {
      "text/plain": [
       "array([[[5, 2, 9],\n",
       "        [1, 2, 1]],\n",
       "\n",
       "       [[1, 7, 6],\n",
       "        [4, 5, 6]],\n",
       "\n",
       "       [[3, 8, 4],\n",
       "        [7, 0, 9]]])"
      ]
     },
     "execution_count": 39,
     "metadata": {},
     "output_type": "execute_result"
    }
   ],
   "source": [
    "# stack\n",
    "# shape of arrays should be equal\n",
    "# resultant ndim increase by 1\n",
    "\n",
    "# ----------------------------------------1D---------------------------------------------------------------------\n",
    "arr1=np.array([1,2,3,4,5])\n",
    "arr2=np.array([11,12,13,14,15])\n",
    "np.stack([arr1,arr2])         # similar to vstack\n",
    "np.stack([arr1,arr2],axis=1)  # geting indices from 2 array\n",
    "\n",
    "# ----------------------------------------2D---------------------------------------------------------------------\n",
    "arr1 = np.array([[5, 2, 9],\n",
    "                 [1, 7, 6],\n",
    "                 [3, 8, 4]])  \n",
    "\n",
    "arr2 = np.array([[1,2,1],\n",
    "                 [4,5,6],\n",
    "                 [7,0,9]])\n",
    "\n",
    "arr=np.stack([arr1,arr2]) \n",
    "arr=np.stack([arr1,arr2],axis=1)\n",
    "arr"
   ]
  },
  {
   "cell_type": "code",
   "execution_count": 3,
   "id": "49f96870",
   "metadata": {
    "scrolled": false
   },
   "outputs": [
    {
     "data": {
      "text/plain": [
       "array([[0, 0, 0, 0, 0],\n",
       "       [0, 5, 2, 9, 0],\n",
       "       [0, 1, 7, 6, 0],\n",
       "       [0, 3, 8, 4, 0],\n",
       "       [0, 0, 0, 0, 0]])"
      ]
     },
     "execution_count": 3,
     "metadata": {},
     "output_type": "execute_result"
    }
   ],
   "source": [
    "# pad\n",
    "arr1 = np.array([[5, 2, 9],\n",
    "                 [1, 7, 6],\n",
    "                 [3, 8, 4]])  \n",
    "np.pad(arr1,1)"
   ]
  },
  {
   "cell_type": "markdown",
   "id": "8e0be1be",
   "metadata": {},
   "source": [
    "<div style=\"text-align: center;\">\n",
    "    <h2><span style='color:blue'>Chapter 13: Miscellaneous Method </span> </u> </h2>\n",
    "</div>"
   ]
  },
  {
   "cell_type": "code",
   "execution_count": 8,
   "id": "fed70153",
   "metadata": {
    "scrolled": true
   },
   "outputs": [
    {
     "data": {
      "text/plain": [
       "array([   1.,    2.,   -1.,    4.,  999., -999.])"
      ]
     },
     "execution_count": 8,
     "metadata": {},
     "output_type": "execute_result"
    }
   ],
   "source": [
    "#np.nan_to_num()\n",
    "arr = np.array([1, 2, np.nan, 4, np.inf, -np.inf])\n",
    "arr\n",
    "np.nan_to_num(arr)\n",
    "# replace \n",
    "# np.nan with 0.0\n",
    "# np.inf with a very large number (typically system-dependent behavior)\n",
    "# -np.inf with a very small number\n",
    "np.nan_to_num(arr, \n",
    "              nan=-1, \n",
    "              posinf=999, \n",
    "              neginf=-999)"
   ]
  },
  {
   "cell_type": "markdown",
   "id": "356d7f28",
   "metadata": {},
   "source": [
    "<div style=\"text-align: center;\">\n",
    "    <h2><span style='color:blue'>Chapter 14: Linear Algebra </span> </u> </h2>\n",
    "</div>"
   ]
  },
  {
   "cell_type": "code",
   "execution_count": 24,
   "id": "e2f79364",
   "metadata": {},
   "outputs": [],
   "source": [
    "# Create 3*3 matrixs \"mat\"\n",
    "mat=np.matrix(\"1,9,3;1,7,8;3,5,2\")\n",
    "mat2=np.matrix(\"4,8,8;6,9,3;5,9,2\")\n",
    "d=np.matrix('1,4,2').T"
   ]
  },
  {
   "cell_type": "code",
   "execution_count": 26,
   "id": "ef8e2410",
   "metadata": {},
   "outputs": [
    {
     "data": {
      "text/plain": [
       "matrix([[ 0.51612903],\n",
       "        [-0.12903226],\n",
       "        [ 0.5483871 ]])"
      ]
     },
     "execution_count": 26,
     "metadata": {},
     "output_type": "execute_result"
    }
   ],
   "source": [
    "mat.T              # Transpose of mat\n",
    "np.diag(mat)       # [1, 7, 2]   # Print Diagonal elements\n",
    "np.trace(mat)      # 10          # Trace of mat\n",
    "\n",
    "\n",
    "np.linalg.det(mat)           # 124         # Determinent of mat\n",
    "np.linalg.matrix_rank(mat)   #3            # Rank of the Matrix\n",
    "np.linalg.inv(mat)                         # Inverse of mat\n",
    "np.linalg.solve(mat,d)                     # solving 3 variable equation\n",
    "\n",
    "eigvalues,eigvector = np.linalg.eig(mat) # Eigen value, Eigen Vectors mat"
   ]
  },
  {
   "cell_type": "code",
   "execution_count": 18,
   "id": "1a0c21d5",
   "metadata": {
    "scrolled": true
   },
   "outputs": [
    {
     "data": {
      "text/plain": [
       "matrix([[ 73, 116,  41],\n",
       "        [ 86, 143,  45],\n",
       "        [ 52,  87,  43]])"
      ]
     },
     "execution_count": 18,
     "metadata": {},
     "output_type": "execute_result"
    }
   ],
   "source": [
    "mat*mat2        # Element wise multiplication\n",
    "mat@mat2        # Matrixs Multiplication"
   ]
  }
 ],
 "metadata": {
  "kernelspec": {
   "display_name": "Python 3 (ipykernel)",
   "language": "python",
   "name": "python3"
  },
  "language_info": {
   "codemirror_mode": {
    "name": "ipython",
    "version": 3
   },
   "file_extension": ".py",
   "mimetype": "text/x-python",
   "name": "python",
   "nbconvert_exporter": "python",
   "pygments_lexer": "ipython3",
   "version": "3.9.12"
  }
 },
 "nbformat": 4,
 "nbformat_minor": 5
}
