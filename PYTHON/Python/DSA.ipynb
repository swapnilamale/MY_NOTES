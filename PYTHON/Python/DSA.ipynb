{
 "cells": [
  {
   "cell_type": "markdown",
   "id": "0011135e",
   "metadata": {},
   "source": []
  },
  {
   "cell_type": "markdown",
   "id": "9bfb072f",
   "metadata": {},
   "source": [
    "# Binary & Liniar Search (Finding Target)\n",
    "- Linear Search : Go through each element and check condition\n",
    "- Binary search : Go to mid & select direction according to required target in sorted span just like in Word_Dictionary\n",
    "- Binary Search can only be done with while loop or recursive function, Binary Search is not possible with while loop"
   ]
  },
  {
   "cell_type": "markdown",
   "id": "1b61b5ac",
   "metadata": {},
   "source": [
    "### Questions"
   ]
  },
  {
   "cell_type": "markdown",
   "id": "fead0e68",
   "metadata": {},
   "source": [
    "find index of the given number in the arry and return -1 if number is not present"
   ]
  },
  {
   "cell_type": "code",
   "execution_count": 1,
   "id": "029af98b",
   "metadata": {},
   "outputs": [
    {
     "name": "stdout",
     "output_type": "stream",
     "text": [
      "1\n",
      "1\n"
     ]
    }
   ],
   "source": [
    "#Linear Search\n",
    "def LinearSearch(arr,target):\n",
    "    for i in range(len(arr)):\n",
    "        if arr[i]==target:return i\n",
    "    return -1\n",
    "\n",
    "#Binary Search\n",
    "def BinarySearch(arr,target):\n",
    "    span=range(len(arr))\n",
    "    target=target\n",
    "    start,*_,end=span\n",
    "    while(start<=end):\n",
    "        mid=(start+end)//2\n",
    "        if arr[mid]==target:return mid\n",
    "        elif arr[mid]<target:start=mid+1\n",
    "        else:end=mid-1\n",
    "    return -1\n",
    "\n",
    "arr=[1,2,3,4,5,6,7,8,9,10,11,12,13,16]\n",
    "target=2\n",
    "\n",
    "print(LinearSearch(arr,target))\n",
    "print(BinarySearch(arr,target))"
   ]
  },
  {
   "cell_type": "markdown",
   "id": "34581e89",
   "metadata": {},
   "source": [
    "Given a Perfect Square number, find the square root of the number"
   ]
  },
  {
   "cell_type": "code",
   "execution_count": 5,
   "id": "476937bb",
   "metadata": {},
   "outputs": [
    {
     "name": "stdout",
     "output_type": "stream",
     "text": [
      "10\n"
     ]
    }
   ],
   "source": [
    "def SquareRoot(n):\n",
    "    span=range(n+1)\n",
    "    target=n\n",
    "    start,*_,end=span\n",
    "    while start<=end:\n",
    "        mid=(start+end)//2\n",
    "        if mid*mid is n:return mid\n",
    "        elif mid*mid<n: start=mid+1\n",
    "        else:end=mid-1\n",
    "    return -1\n",
    "\n",
    "print(SquareRoot(100))"
   ]
  },
  {
   "cell_type": "markdown",
   "id": "c1bfbe87",
   "metadata": {},
   "source": [
    "# Sorting (Swaping)"
   ]
  },
  {
   "cell_type": "markdown",
   "id": "1587347e",
   "metadata": {},
   "source": [
    "### [Insertion Sort](https://youtu.be/R_wDA-PmGE4)"
   ]
  },
  {
   "cell_type": "markdown",
   "id": "4beb27d6",
   "metadata": {},
   "source": [
    "```\n",
    "                    5 | 2 3 1 4\n",
    "       (j) Sorted <-- | --> Unsorted (i=range(1,range(arr)) )\n",
    "```"
   ]
  },
  {
   "cell_type": "code",
   "execution_count": 4,
   "id": "9cdaabf6",
   "metadata": {},
   "outputs": [
    {
     "name": "stdout",
     "output_type": "stream",
     "text": [
      "[1, 2, 3, 6, 8, 12, 18]\n"
     ]
    }
   ],
   "source": [
    "def InsertionSort(arr):\n",
    "    for i in range(1,len(arr)):\n",
    "        j=i\n",
    "        while arr[j-1]>arr[j] and j>0:\n",
    "            arr[j-1],arr[j]=arr[j],arr[j-1]\n",
    "            j-=1       \n",
    "    return arr\n",
    "    \n",
    "arr=[1,8,2,6,12,3,18]\n",
    "print(InsertionSort(arr))"
   ]
  },
  {
   "cell_type": "markdown",
   "id": "378637a0",
   "metadata": {},
   "source": [
    "### [Selection Sort](https://youtu.be/5KjapFQNxUo) \n",
    "- Find the min value from the array and Swaipe\n",
    "- Setting min value at first position , second min value at second position and so on..."
   ]
  },
  {
   "cell_type": "markdown",
   "id": "6232cf6c",
   "metadata": {},
   "source": [
    "```\n",
    "   [5, 2, 3, 1, 4]\n",
    "    i----------->        i=range(len(arr)-1)\n",
    "       i-------->        j=range(i+1,len(arr))\n",
    "          i----->        arr[j] < arr[minpos] ----> Swipe\n",
    "              i->  \n",
    "```"
   ]
  },
  {
   "cell_type": "code",
   "execution_count": 9,
   "id": "adf2180f",
   "metadata": {},
   "outputs": [
    {
     "name": "stdout",
     "output_type": "stream",
     "text": [
      "[1, 2, 3, 6, 8, 12, 18]\n"
     ]
    }
   ],
   "source": [
    "def SelectionSort(arr):\n",
    "    for i in range(len(arr)-1):\n",
    "        min_element_index=i\n",
    "        for j in range(i+1,len(arr)):\n",
    "            if arr[j]<arr[min_element_index]:min_element_index=j\n",
    "        if i != min_element_index:arr[i],arr[min_element_index]=arr[min_element_index],arr[i]\n",
    "    return arr\n",
    "    \n",
    "arr=[1,8,2,6,12,3,18]\n",
    "print(SelectionSort(arr))"
   ]
  },
  {
   "cell_type": "markdown",
   "id": "f90184e7",
   "metadata": {},
   "source": [
    "### [Bubble Sort](https://youtu.be/Vca808JTbI8)  [or](https://youtu.be/re9ytVtt5zg)\n",
    "- Go through each element with its subsequent consicative element, and swap according to condition \n",
    "- Setting max at last position,then second max at second last position and so on ..."
   ]
  },
  {
   "cell_type": "markdown",
   "id": "3d30294a",
   "metadata": {},
   "source": [
    "```\n",
    "   [5, 2, 3, 1, 4]\n",
    "    j-------->        i=range(len(arr)-1,0,-1) | i=range(len(arr)-1)\n",
    "    j---->            j=range(i)               | j=range(len(arr)-1-i)\n",
    "    j-->              arr[j] > arr[j+1] ---> Swipe\n",
    "    i->  \n",
    "```"
   ]
  },
  {
   "cell_type": "code",
   "execution_count": 2,
   "id": "f065937c",
   "metadata": {},
   "outputs": [
    {
     "name": "stdout",
     "output_type": "stream",
     "text": [
      "[1, 2, 3, 6, 8, 12, 18]\n"
     ]
    }
   ],
   "source": [
    "def BubbleSort(arr):\n",
    "    for i in range(len(arr)-1,0,-1):  \n",
    "        swapp = False\n",
    "        for j in range(i):            \n",
    "            if arr[j]>arr[j+1]:\n",
    "                arr[j],arr[j+1]=arr[j+1],arr[j]\n",
    "                swapp = True      \n",
    "        if swapp is False:return arr\n",
    "    return arr\n",
    "\n",
    "arr=[1,8,2,6,12,3,18]\n",
    "print(BubbleSort(arr))"
   ]
  },
  {
   "cell_type": "code",
   "execution_count": 3,
   "id": "ce4f296f",
   "metadata": {},
   "outputs": [
    {
     "name": "stdout",
     "output_type": "stream",
     "text": [
      "[1, 2, 3, 6, 8, 12, 18]\n"
     ]
    }
   ],
   "source": [
    "def BubbleSort(arr):\n",
    "    for pas in range(len(arr)-1):\n",
    "        swap=False\n",
    "        for bubble in range(len(arr)-1-pas):\n",
    "            if arr[bubble]>arr[bubble+1]:\n",
    "                arr[bubble],arr[bubble+1]=arr[bubble+1],arr[bubble]\n",
    "                swap=True\n",
    "        if swap is False:return arr\n",
    "    return arr\n",
    "\n",
    "arr=[1,8,2,6,12,3,18]\n",
    "print(BubbleSort(arr))"
   ]
  },
  {
   "cell_type": "markdown",
   "id": "0d8ea722",
   "metadata": {},
   "source": [
    "### Merge Sort"
   ]
  },
  {
   "cell_type": "code",
   "execution_count": 16,
   "id": "e43185dd",
   "metadata": {},
   "outputs": [
    {
     "name": "stdout",
     "output_type": "stream",
     "text": [
      "[1, 2, 3, 4, 5, 6, 7]\n"
     ]
    }
   ],
   "source": [
    "def merge_sort(arr):\n",
    "    n=len(arr)\n",
    "    \n",
    "    if n<=1:return arr\n",
    "    \n",
    "    left=merge_sort(arr[:n//2])\n",
    "    right=merge_sort(arr[n//2:])\n",
    "    \n",
    "    i=0;l=len(left)\n",
    "    j=0;r=len(right)\n",
    "    res=[]\n",
    "    while i<l and j<r:\n",
    "        if left[i]<right[j]:\n",
    "            res.append(left[i])\n",
    "            i+=1\n",
    "        else:\n",
    "            res.append(right[j])\n",
    "            j+=1   \n",
    "    if i<l:res+=left[i:]\n",
    "    else:res+=right[j:]\n",
    "    return res\n",
    "\n",
    "arr=[2,6,5,1,7,4,3]\n",
    "print(merge_sort(arr))"
   ]
  }
 ],
 "metadata": {
  "kernelspec": {
   "display_name": "Python 3 (ipykernel)",
   "language": "python",
   "name": "python3"
  },
  "language_info": {
   "codemirror_mode": {
    "name": "ipython",
    "version": 3
   },
   "file_extension": ".py",
   "mimetype": "text/x-python",
   "name": "python",
   "nbconvert_exporter": "python",
   "pygments_lexer": "ipython3",
   "version": "3.9.12"
  }
 },
 "nbformat": 4,
 "nbformat_minor": 5
}
