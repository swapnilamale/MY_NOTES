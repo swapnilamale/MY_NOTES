{
 "cells": [
  {
   "cell_type": "markdown",
   "id": "0515349c",
   "metadata": {},
   "source": [
    "```\n",
    "import os\n",
    "############## os Module ################\n",
    "os.makedirs(dir)\n",
    "os.mkdir(dir)\n",
    "os.rename(dir1,dir2)\n",
    "os.listdir(dir)\n",
    "\n",
    "os.getcwd()\n",
    "os.chdir(dir)\n",
    "\n",
    "os.path.join(dir1,dir2)\n",
    "os.path.exists(dir)\n",
    "os.path.basename(dir)\n",
    "os.path.dirname(dir)\n",
    "os.path.isdir(dir)\n",
    "os.path.isfile(dir)\n",
    "os.path.split(dir)\n",
    "os.path.splitext(dir)\n",
    "\n",
    "for path,folder_list,file_list in os.walk(dir)\n",
    "```"
   ]
  },
  {
   "cell_type": "code",
   "execution_count": null,
   "id": "923a484c",
   "metadata": {},
   "outputs": [],
   "source": []
  }
 ],
 "metadata": {
  "kernelspec": {
   "display_name": "Python 3 (ipykernel)",
   "language": "python",
   "name": "python3"
  },
  "language_info": {
   "codemirror_mode": {
    "name": "ipython",
    "version": 3
   },
   "file_extension": ".py",
   "mimetype": "text/x-python",
   "name": "python",
   "nbconvert_exporter": "python",
   "pygments_lexer": "ipython3",
   "version": "3.9.12"
  }
 },
 "nbformat": 4,
 "nbformat_minor": 5
}
