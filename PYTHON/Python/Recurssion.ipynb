{
 "cells": [
  {
   "cell_type": "code",
   "execution_count": 10,
   "id": "6426a11f",
   "metadata": {},
   "outputs": [
    {
     "name": "stdout",
     "output_type": "stream",
     "text": [
      "5050\n"
     ]
    }
   ],
   "source": [
    "#Sum of first n natural number:\n",
    "def nsum(n):\n",
    "    if n == 1:return 1    # Stop Condition\n",
    "    return n+nsum(n-1)    # Recurence Relation\n",
    "\n",
    "print(nsum(100))"
   ]
  },
  {
   "cell_type": "code",
   "execution_count": 13,
   "id": "ae646066",
   "metadata": {},
   "outputs": [
    {
     "name": "stdout",
     "output_type": "stream",
     "text": [
      "1\n"
     ]
    }
   ],
   "source": [
    "# Factorial\n",
    "def fact(n):\n",
    "    if n == 0:return 1\n",
    "    return n*fact(n-1)\n",
    "\n",
    "print(fact(0))"
   ]
  },
  {
   "cell_type": "code",
   "execution_count": 16,
   "id": "4160c5f7",
   "metadata": {},
   "outputs": [
    {
     "name": "stdout",
     "output_type": "stream",
     "text": [
      "1\n"
     ]
    }
   ],
   "source": [
    "# Fibbonaci\n",
    "def fibo(n):\n",
    "    if n==0 or n==1:return n\n",
    "    return fibo(n-1)+fibo(n-2)\n",
    "\n",
    "print(fibo(2))"
   ]
  },
  {
   "cell_type": "code",
   "execution_count": 28,
   "id": "05e7dca1",
   "metadata": {},
   "outputs": [
    {
     "name": "stdout",
     "output_type": "stream",
     "text": [
      "8\n",
      "256\n"
     ]
    }
   ],
   "source": [
    "# Power\n",
    "def power(x,n):                                   # O(n)\n",
    "    if n==0:return 1\n",
    "    return x*power(x,n-1)\n",
    "print(power(2,3))\n",
    "\n",
    "\n",
    "def pow(x,n):                                    # O(logn)\n",
    "    if n==0 :return 1\n",
    "    \n",
    "    theta=pow(x,n//2)\n",
    "    if not(n%2):return theta*theta\n",
    "    else:return x*theta*theta\n",
    "    \n",
    "print(pow(2,8))"
   ]
  },
  {
   "cell_type": "code",
   "execution_count": 19,
   "id": "be58a34b",
   "metadata": {},
   "outputs": [
    {
     "name": "stdout",
     "output_type": "stream",
     "text": [
      "15\n"
     ]
    }
   ],
   "source": [
    "# Sum of numbers in number\n",
    "def add(n):\n",
    "    if n%10==0:return 0\n",
    "    return (n%10)+add(n//10)\n",
    "print(add(12345))"
   ]
  },
  {
   "cell_type": "code",
   "execution_count": null,
   "id": "3716ac2e",
   "metadata": {},
   "outputs": [],
   "source": []
  }
 ],
 "metadata": {
  "kernelspec": {
   "display_name": "Python 3 (ipykernel)",
   "language": "python",
   "name": "python3"
  },
  "language_info": {
   "codemirror_mode": {
    "name": "ipython",
    "version": 3
   },
   "file_extension": ".py",
   "mimetype": "text/x-python",
   "name": "python",
   "nbconvert_exporter": "python",
   "pygments_lexer": "ipython3",
   "version": "3.9.12"
  }
 },
 "nbformat": 4,
 "nbformat_minor": 5
}
