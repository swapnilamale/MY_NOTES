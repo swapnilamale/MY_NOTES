{
 "cells": [
  {
   "cell_type": "code",
   "execution_count": null,
   "id": "8d24a96f",
   "metadata": {},
   "outputs": [],
   "source": [
    "★☆"
   ]
  },
  {
   "cell_type": "markdown",
   "id": "7fdb967c",
   "metadata": {},
   "source": [
    "# Class"
   ]
  },
  {
   "cell_type": "markdown",
   "id": "47df0ff0",
   "metadata": {},
   "source": [
    "```\n",
    "|| Class ||\n",
    "Class          :  Attributes : Data Attributes \n",
    "                             : Function Attributes\n",
    "               :  Methods    : Function Attriubutes with first argument as 'self'\n",
    "               :  constructor: Method with a name __init__\n",
    "\n",
    "\n",
    "\n",
    "|| Class predefine Atributes ||\n",
    "__module__\n",
    "__name__\n",
    "type(Class)   or  __class__   # Give the Parent Class\n",
    "__dict__                      # Gives \"State\" of the class which is immutable\n",
    "                              # list(Class.__dict__.keys()) --> getting list of Class Attributes \n",
    "```"
   ]
  },
  {
   "cell_type": "markdown",
   "id": "a2cdc544",
   "metadata": {},
   "source": [
    "Defining Class"
   ]
  },
  {
   "cell_type": "code",
   "execution_count": 6,
   "id": "79158f12",
   "metadata": {},
   "outputs": [
    {
     "data": {
      "text/plain": [
       "mappingproxy({'__module__': '__main__',\n",
       "              '__dict__': <attribute '__dict__' of 'Person' objects>,\n",
       "              '__weakref__': <attribute '__weakref__' of 'Person' objects>,\n",
       "              '__doc__': None})"
      ]
     },
     "metadata": {},
     "output_type": "display_data"
    }
   ],
   "source": [
    "class Person:     # Class Name should always be in \"PaskalCasing\"\n",
    "    pass\n",
    "\n",
    "\n",
    "id(Person)        # 1884959468064\n",
    "hex(id(Person))   # '0x1b6e056ea20'\n",
    "\n",
    "Person.__module__ # '__main__'\n",
    "Person.__name__   # 'Person'\n",
    "Person            #  __main__.Person    (__module__,__name__)\n",
    "\n",
    "type(Person)      #  type\n",
    "\n",
    "display(Person.__dict__)   # State of the Class"
   ]
  },
  {
   "cell_type": "code",
   "execution_count": 7,
   "id": "43ef9b5d",
   "metadata": {
    "scrolled": true
   },
   "outputs": [
    {
     "data": {
      "text/plain": [
       "mappingproxy({'__module__': '__main__',\n",
       "              '__dict__': <attribute '__dict__' of 'Person' objects>,\n",
       "              '__weakref__': <attribute '__weakref__' of 'Person' objects>,\n",
       "              '__doc__': None})"
      ]
     },
     "metadata": {},
     "output_type": "display_data"
    },
    {
     "data": {
      "text/plain": [
       "['__module__', '__dict__', '__weakref__', '__doc__']"
      ]
     },
     "execution_count": 7,
     "metadata": {},
     "output_type": "execute_result"
    }
   ],
   "source": [
    "# State of Class :  mappingproxy\n",
    "display(Person.__dict__)        # mappingproxy : Gives \"State\" of the class which is immutable\n",
    "\n",
    "#  getting list of Class Attributes \n",
    "list(Person.__dict__.keys())    #['__module__', '__dict__', '__weakref__', '__doc__']"
   ]
  },
  {
   "cell_type": "markdown",
   "id": "38aec4f2",
   "metadata": {},
   "source": [
    "Defining Attributes of the Class ( Data Attributes / Functional Attributes )"
   ]
  },
  {
   "cell_type": "code",
   "execution_count": 8,
   "id": "08844b0d",
   "metadata": {},
   "outputs": [
    {
     "data": {
      "text/plain": [
       "mappingproxy({'__module__': '__main__',\n",
       "              'species': 'Sepians',\n",
       "              'walk': <function __main__.Person.walk()>,\n",
       "              '__dict__': <attribute '__dict__' of 'Person' objects>,\n",
       "              '__weakref__': <attribute '__weakref__' of 'Person' objects>,\n",
       "              '__doc__': None,\n",
       "              'eat_type': 'Omnivorous',\n",
       "              'talk': <function __main__.<lambda>(*arg)>})"
      ]
     },
     "execution_count": 8,
     "metadata": {},
     "output_type": "execute_result"
    }
   ],
   "source": [
    "class Person:\n",
    "    species = 'Sepians'                                       # Defining Data Attribute inside the class\n",
    "    \n",
    "    def walk():                                               # Defining Function Attribute as Function inside class\n",
    "        print(f\"Hello {Person.species} , Walk\")\n",
    "\n",
    "        \n",
    "Person.eat_type = 'Omnivorous'                                # Defining Data Attribute Outside the class\n",
    "\n",
    "Person.talk = lambda *arg : f'Hello {Person.species}, Talk'   # Defining Function Attributes outside of the class\n",
    "\n",
    "Person.__dict__    # State of the Class Person"
   ]
  },
  {
   "cell_type": "code",
   "execution_count": 9,
   "id": "40a95b5e",
   "metadata": {},
   "outputs": [
    {
     "name": "stdout",
     "output_type": "stream",
     "text": [
      "Sepians\n",
      "Omnivorous\n",
      "Homo-Sepians\n"
     ]
    }
   ],
   "source": [
    "# Retriving Data Attributes\n",
    "print(Person.species)         # Sepians          :--> getattr(Person,'species','Default if Attribute not Present')\n",
    "print(Person.eat_type)        # Omnivorous\n",
    "\n",
    "# Modifing Data Attribute\n",
    "Person.species = \"Homo-Sepians\"\n",
    "print(Person.species)         # Homo-Sepians     :--> setattr(Person,'species','Homo-Sepians ')\n",
    "\n",
    "# Deleting Data Attributes\n",
    "del Person.eat_type           #                  :--> delattr(Person,type)"
   ]
  },
  {
   "cell_type": "code",
   "execution_count": 5,
   "id": "ba3a2945",
   "metadata": {},
   "outputs": [],
   "source": [
    "# Calling Function Attributes\n",
    "Person.talk()\n",
    "\n",
    "# Modifing Function Attributes\n",
    "Person.talk = lambda *arg : f'Hello {Person.species}, TTaallkk' \n",
    "Person.talk()            # 'Hello Homo-Sepians, TTaallkk'\n",
    "\n",
    "# Deleting Function Attributes\n",
    "del Person.talk"
   ]
  },
  {
   "cell_type": "markdown",
   "id": "b9f84671",
   "metadata": {},
   "source": [
    "# Object"
   ]
  },
  {
   "cell_type": "markdown",
   "id": "d25345d0",
   "metadata": {},
   "source": [
    "```\n",
    "Object / Instance : Attributes\n",
    "                  : Methods\n",
    "    \n",
    "Ojects predefine Atributes\n",
    "type(object) or __class__ \n",
    "__dict__                     # Gives thes \"State\" of the Instace which is mutable\n",
    "\n",
    "for both (Object / Class)\n",
    "isinstance(object,class)\n",
    "```"
   ]
  },
  {
   "cell_type": "markdown",
   "id": "d11b4f78",
   "metadata": {},
   "source": [
    "Defining Object"
   ]
  },
  {
   "cell_type": "code",
   "execution_count": 1,
   "id": "7491d96e",
   "metadata": {},
   "outputs": [
    {
     "data": {
      "text/plain": [
       "True"
      ]
     },
     "execution_count": 1,
     "metadata": {},
     "output_type": "execute_result"
    }
   ],
   "source": [
    "class Person:       # Class Name should always be in \"PaskalCasing\"\n",
    "    pass\n",
    "\n",
    "# Creating Object of the class : Object of the perticular class can be created by calling that that class\n",
    "# Note : Python internally makes class callabe-()\n",
    "swapnil= Person()   # Creating an object of the class\n",
    "                    # Note classes are callable-() which leads to Object of that class\n",
    "    \n",
    "isinstance(swapnil,Person)               # True"
   ]
  },
  {
   "cell_type": "code",
   "execution_count": 2,
   "id": "be2e7278",
   "metadata": {},
   "outputs": [
    {
     "data": {
      "text/plain": [
       "{}"
      ]
     },
     "execution_count": 2,
     "metadata": {},
     "output_type": "execute_result"
    }
   ],
   "source": [
    "swapnil.__module__           # '__main__'\n",
    "swapnil.__class__.__name__   # 'Person'\n",
    "type(swapnil)                #  __main__.Person <-- Person\n",
    "hex(id(Person))              # '0x1b6e056ea20'\n",
    "swapnil                      # <__main__.Person at 0x1feb36693a0>\n",
    "id(Person)                   # 1884959468064\n",
    "swapnil.__dict__             # State of Object {}"
   ]
  },
  {
   "cell_type": "code",
   "execution_count": 3,
   "id": "61831ce7",
   "metadata": {
    "scrolled": true
   },
   "outputs": [
    {
     "data": {
      "text/plain": [
       "{}"
      ]
     },
     "metadata": {},
     "output_type": "display_data"
    },
    {
     "data": {
      "text/plain": [
       "[]"
      ]
     },
     "metadata": {},
     "output_type": "display_data"
    },
    {
     "data": {
      "text/plain": [
       "dict"
      ]
     },
     "execution_count": 3,
     "metadata": {},
     "output_type": "execute_result"
    }
   ],
   "source": [
    "# State of Object :  dict\n",
    "display(swapnil.__dict__)        # {} dict : Gives \"State\" of the Object which is mutable\n",
    "\n",
    "#  getting list of Class Attributes \n",
    "display(list(swapnil.__dict__.keys()))    # []\n",
    "\n",
    "## Note State of the Class is Immutatble having type-mappingproxy  \n",
    "#       State of the Object is Mutable having type-dict\n",
    "type(Person.__dict__)        # mappingproxy  --> Immutable\n",
    "type(swapnil.__dict__)       # dict          --> Mutable"
   ]
  },
  {
   "cell_type": "markdown",
   "id": "4d6ef8b3",
   "metadata": {},
   "source": [
    "### Function vs Methods \n",
    "How bound methods works in background \\\n",
    "Need of use of self Argument : because the basic behaviour of bound methods "
   ]
  },
  {
   "cell_type": "code",
   "execution_count": 4,
   "id": "ed97d755",
   "metadata": {},
   "outputs": [
    {
     "data": {
      "text/plain": [
       "'\\nMethods are basically the function bounded to Object, i.e in methods you have access of object state (obj.__dict__)\\n'"
      ]
     },
     "execution_count": 4,
     "metadata": {},
     "output_type": "execute_result"
    }
   ],
   "source": [
    "class Person:\n",
    "    species = 'Sepians'\n",
    "    \n",
    "    def walk():\n",
    "        print(f'Persons are {Person.species}')\n",
    "\n",
    "swapnil = Person()\n",
    "\n",
    "# Note : Defination of \"walk\" changes and its dynamic, it depends on the whether it is called by class or object\n",
    "type(swapnil.walk) is type(Person.walk)       # False\n",
    "\n",
    "# Observation\n",
    "Person.walk                # <function __main__.Person.walk()>                                            --> Function\n",
    "swapnil.walk               # <bound method Person.walk of <__main__.Person object at 0x000001C8F7E6FE20>> --> Method\n",
    "type(swapnil.walk)         # method   : When Callable attribute is associated with Object it act as bound method\n",
    "type(Person.walk)          # function : When Callable attribute is associated with Class  it act as function\n",
    "\n",
    "\n",
    "'''\n",
    "Methods are basically the function bounded to Object, i.e in methods you have access of object state (obj.__dict__)\n",
    "'''"
   ]
  },
  {
   "cell_type": "code",
   "execution_count": 6,
   "id": "ba774e5f",
   "metadata": {},
   "outputs": [
    {
     "name": "stdout",
     "output_type": "stream",
     "text": [
      "Persons are Sepians\n",
      "Argument present in the walk: ()\n",
      "Argument present in the walk: (<__main__.Person object at 0x00000220571A3A30>,)\n"
     ]
    }
   ],
   "source": [
    "Person.walk()              # Persons are Sepians\n",
    "swapnil.walk()             # TypeError :  walk() takes 0 positional arguments but 1 was given \n",
    "# What is this extra Argument python is saying when its a mehtod i.e called with object\n",
    "\n",
    "\n",
    "# How bound method work in background by python\n",
    "# swapnil.walk(*arg) ---> Person.walk(swapnil,*arg)   # Note : One Argument is missing which we will denote it by self\n",
    "\n",
    "\n",
    "class Person:\n",
    "    species = 'Sepians'\n",
    "    \n",
    "    def walk(*arg):           # walk can take any no of arguments\n",
    "        print(f'Argument present in the walk: {arg}')\n",
    "        \n",
    "swapnil = Person()\n",
    "Person.walk()        # Argument present in the walk: ()\n",
    "swapnil.walk()       # Argument present in the walk: (<__main__.Person object at 0x000001C8F9038BE0>,) \n",
    "                     # Object itself first passed as an argument as FIRST Argument in background by python"
   ]
  },
  {
   "cell_type": "code",
   "execution_count": 17,
   "id": "38abff14",
   "metadata": {},
   "outputs": [],
   "source": [
    "# Illustration\n",
    "class Person:\n",
    "    def intro(self,arg):\n",
    "        print(f'Object is{self} & second argument is  {arg}')\n",
    "        \n",
    "swapnil = Person()\n",
    "\n",
    "# 2 syntax of accsing object methods\n",
    "Person.intro(swapnil,27)    # Object is<__main__.Person object at 0x000001A41F514160> and second argument is  27\n",
    "swapnil.intro(27)           # Object is<__main__.Person object at 0x000001A4207DCF70> & second argument is  27"
   ]
  },
  {
   "cell_type": "markdown",
   "id": "3ab6f17a",
   "metadata": {},
   "source": [
    "### Defining Object Attributes & Methods"
   ]
  },
  {
   "cell_type": "code",
   "execution_count": 7,
   "id": "c6415396",
   "metadata": {},
   "outputs": [
    {
     "data": {
      "text/plain": [
       "{'name': 'Swapnil',\n",
       " 'age': '27',\n",
       " 'gender': 'Male',\n",
       " 'fav_subject': 'Maths',\n",
       " 'say_hello': <function __main__.<lambda>()>,\n",
       " 'bmi': <bound method bmi of <__main__.Person object at 0x0000022056128F10>>}"
      ]
     },
     "execution_count": 7,
     "metadata": {},
     "output_type": "execute_result"
    }
   ],
   "source": [
    "class Person:       \n",
    "    def __init__(self,name='Arbitory',age='-1',gender='Unknown'):               # Defining Object Attribute inside the class\n",
    "        self.name = name\n",
    "        self.age = age\n",
    "        self.gender = gender\n",
    "        \n",
    "    def height(self,ht):\n",
    "        print(f\"Hello My name is {self.name} and my Height is {ht}\")            # Defining Methods inside the Class\n",
    "        \n",
    "\n",
    "    \n",
    "swapnil =  Person('Swapnil','27','Male')        # Creating the Object of class Person\n",
    "\n",
    "\n",
    "swapnil.fav_subject = 'Maths'                                                    # Defining Object Attribute Outside the class\n",
    "swapnil.say_hello = lambda: \"Hello!\"  # Note its a attribute of type function Not Method\n",
    "\n",
    "Person.weight = lambda self,wt: f\"Hello My name is {self.name} & my weight is {wt}\"  # Defining Methods Outside the Class\n",
    "def bmi(self,bm):\n",
    "    print(f'Object is {self} & BMI is {bm}')\n",
    "from types import MethodType\n",
    "swapnil.bmi = MethodType(bmi, swapnil)         # Bind the method to the instance\n",
    "\n",
    "\n",
    "\n",
    "swapnil.__dict__     "
   ]
  },
  {
   "cell_type": "code",
   "execution_count": 2,
   "id": "0277549f",
   "metadata": {},
   "outputs": [
    {
     "name": "stdout",
     "output_type": "stream",
     "text": [
      "Swapnil\n",
      "27\n",
      "28\n"
     ]
    }
   ],
   "source": [
    "# Retriving Data Attributes of Object\n",
    "print(swapnil.name)       # Sepians         :--> getattr(swapnil,'name','Default if Attribute not Present')\n",
    "print(swapnil.age)        # 27\n",
    "print(swapnil.say_hello())# 'Hello!'\n",
    "\n",
    "# Modifing Data Attribute\n",
    "swapnil.age = 28\n",
    "print(swapnil.age)        # 28              :--> setattr(swapnil,'age',28)\n",
    "\n",
    "# Deleting Data Attributes\n",
    "del swapnil.age           #                 :--> delattr(swapnil,'age')"
   ]
  },
  {
   "cell_type": "code",
   "execution_count": 8,
   "id": "ea5c50f6",
   "metadata": {},
   "outputs": [
    {
     "name": "stdout",
     "output_type": "stream",
     "text": [
      "Hello My name is Swapnil and my Height is 6.2\n",
      "Object is <__main__.Person object at 0x0000022056128F10> & BMI is 4.6\n"
     ]
    }
   ],
   "source": [
    "# Calling Class Method\n",
    "swapnil.height(6.2)\n",
    "swapnil.weight(80)\n",
    "swapnil.bmi(4.6)\n",
    "\n",
    "# Modifing Function Attributes\n",
    "Person.weight = lambda self,*arg : f\"Hello My name is {self.name} & with addition argument {arg}\"\n",
    "swapnil.weight(80)\n",
    "\n",
    "# Deleting Class Methods\n",
    "del Person.weight"
   ]
  },
  {
   "cell_type": "code",
   "execution_count": 9,
   "id": "0041a8a6",
   "metadata": {},
   "outputs": [
    {
     "data": {
      "text/plain": [
       "'Sepians'"
      ]
     },
     "execution_count": 9,
     "metadata": {},
     "output_type": "execute_result"
    }
   ],
   "source": [
    "# Inheritance between Class and Object\n",
    "# Object are something which are derived from the class, hence Object act like Child of Class State\n",
    "\n",
    "class Person:\n",
    "    species = \"Sepians\"  \n",
    "Person.__dict__       # {'language':'Python'}\n",
    "\n",
    "swapnil = Person()\n",
    "swapnil.__dict__     # {}\n",
    "\n",
    "swapnil.species     # 'Python'"
   ]
  },
  {
   "cell_type": "markdown",
   "id": "69a88938",
   "metadata": {},
   "source": [
    "### Properties in classes\n",
    "```\n",
    "There is difference between Attributes and Property of the Object\n",
    "if we want to apply some Guardrails while modifing the attribute we need to define it as Property\n",
    "\n",
    "```"
   ]
  },
  {
   "cell_type": "code",
   "execution_count": 1,
   "id": "ebc4f7fb",
   "metadata": {},
   "outputs": [],
   "source": [
    "class Person:\n",
    "    # First step : instead of defining name attribute directly define private attribute as _name\n",
    "    def __init__(self,name):\n",
    "        self._name = name        \n",
    "    \n",
    "    # Second Step : define getter,setter,deleter \n",
    "    def get_name(self):\n",
    "        return self._name\n",
    "    def del_name(self): \n",
    "        del self._name\n",
    "    def set_name(self,value):\n",
    "        if type(value)== str and len(value.strip())>0:      # Seeting up guardrails while updating Attribute\n",
    "            self._name = value\n",
    "        else:\n",
    "            raise ValueError('Name must be Non-Empty String')\n",
    "    \n",
    "    # Third step: define name as property\n",
    "    name = property(fget=get_name,fset=set_name,fdel=del_name,doc='This is the name Property ')"
   ]
  },
  {
   "cell_type": "code",
   "execution_count": 2,
   "id": "965f85fa",
   "metadata": {
    "scrolled": true
   },
   "outputs": [
    {
     "name": "stdout",
     "output_type": "stream",
     "text": [
      "Help on property:\n",
      "\n",
      "    This is the name Property\n",
      "\n"
     ]
    }
   ],
   "source": [
    "# doc\n",
    "help(Person.name)     #  This is the name Property"
   ]
  },
  {
   "cell_type": "code",
   "execution_count": 3,
   "id": "2cc48b32",
   "metadata": {
    "scrolled": true
   },
   "outputs": [
    {
     "data": {
      "text/plain": [
       "{'_name': 'Swapnil'}"
      ]
     },
     "execution_count": 3,
     "metadata": {},
     "output_type": "execute_result"
    }
   ],
   "source": [
    "# Defing Object\n",
    "swapnil = Person('Swapnil')\n",
    "swapnil.__dict__"
   ]
  },
  {
   "cell_type": "code",
   "execution_count": 4,
   "id": "d4bf6194",
   "metadata": {},
   "outputs": [
    {
     "data": {
      "text/plain": [
       "'Swapnil'"
      ]
     },
     "execution_count": 4,
     "metadata": {},
     "output_type": "execute_result"
    }
   ],
   "source": [
    "# Getting\n",
    "swapnil.name        # 'Swapnil'\n",
    "\n",
    "# Setting: Udatating Attribute with some guardrails\n",
    "swapnil.name= 68    # ValueError: Name must be Non-Empty String\n",
    "swapnil.name = ''   # ValueError: Name must be Non-Empty String\n",
    "\n",
    "swapnil.name = 'Sahil'\n",
    "swapnil.__dict__    # {'_name': 'Sahil'}\n",
    "\n",
    "# Deleting \n",
    "del swapnil.name\n",
    "swapnil.__dict__   # {}"
   ]
  }
 ],
 "metadata": {
  "kernelspec": {
   "display_name": "Python 3 (ipykernel)",
   "language": "python",
   "name": "python3"
  },
  "language_info": {
   "codemirror_mode": {
    "name": "ipython",
    "version": 3
   },
   "file_extension": ".py",
   "mimetype": "text/x-python",
   "name": "python",
   "nbconvert_exporter": "python",
   "pygments_lexer": "ipython3",
   "version": "3.9.12"
  }
 },
 "nbformat": 4,
 "nbformat_minor": 5
}
