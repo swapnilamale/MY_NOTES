{
 "cells": [
  {
   "cell_type": "markdown",
   "id": "8d3fb998",
   "metadata": {},
   "source": [
    "```\n",
    "Section 1 - Introduction\n",
    "What are Data Structures?\n",
    "What is an algorithm?\n",
    "Why are Data Structures and Algorithms important?\n",
    "Types of Data Structures\n",
    "Types of Algorithms\n",
    "```"
   ]
  }
 ],
 "metadata": {
  "kernelspec": {
   "display_name": "Python 3 (ipykernel)",
   "language": "python",
   "name": "python3"
  },
  "language_info": {
   "codemirror_mode": {
    "name": "ipython",
    "version": 3
   },
   "file_extension": ".py",
   "mimetype": "text/x-python",
   "name": "python",
   "nbconvert_exporter": "python",
   "pygments_lexer": "ipython3",
   "version": "3.9.12"
  }
 },
 "nbformat": 4,
 "nbformat_minor": 5
}
