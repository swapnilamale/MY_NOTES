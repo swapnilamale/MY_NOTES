{
 "cells": [
  {
   "cell_type": "markdown",
   "id": "6a318c51-943e-4037-9f70-be48cdf63430",
   "metadata": {},
   "source": [
    "```\n",
    "Image\n",
    "Container\n",
    "\n",
    "\n",
    "BUILD - SHIP - RUN\n",
    "```"
   ]
  },
  {
   "cell_type": "markdown",
   "id": "514a4055-15ce-4e00-8ed5-5ef7ddc6b373",
   "metadata": {},
   "source": [
    "```\n",
    "Three Major ways to run container\n",
    "\n",
    "- Local (Docker Desktop,Rancher Desktop)\n",
    "- Server (Docker Engine,K8s)\n",
    "- Cloud (Cloud Run , Fargate)\n",
    "```"
   ]
  },
  {
   "cell_type": "markdown",
   "id": "b458f35a-3528-4685-a9db-fd025f778068",
   "metadata": {
    "jp-MarkdownHeadingCollapsed": true
   },
   "source": [
    "```\n",
    "Dockerfile  <-- OCI image standard\n",
    "\n",
    "\n",
    "FROM <base_image>\n",
    "RUN pip install numpy\n",
    "\n",
    "WORKDIR /desktop\n",
    "\n",
    "COPY ..\n",
    "CMD python app.py\n",
    "```"
   ]
  },
  {
   "cell_type": "markdown",
   "id": "5ed747ff-dc7d-431c-a99f-66dc40e1bc4f",
   "metadata": {},
   "source": [
    "```\n",
    "|| COMMANDS ||\n",
    "\n",
    "docker          : docker commands\n",
    "docker version | docker -v\n",
    "docker info\n",
    "\n",
    "docker ps   : list of processes running in the docker\n",
    "\n",
    "docker container --help\n",
    "\n",
    "\n",
    "docker container ls : Show me all docker container running\n",
    "docker container ls -a : show me all docker container\n",
    "docker container stop <container_id>\n",
    "\n",
    "\n",
    "\n",
    "docker container run || <image>:<image_version> \n",
    "                     -- rm                                    : Remove Container after container execution\n",
    "                     -it                                      : Make it interactive  & getting a shell inside a container                                                   \n",
    "                     -p <port1>:<port2> | --publish\n",
    "                     -e <key>=<value>   | --env\n",
    "                     --name <container_name>\n",
    "                     --network\n",
    "                     -t\n",
    "                     - v <local_directory>:<source_directory>\n",
    "                     - d  | --detach                                  : Run in the background\n",
    "\n",
    "\n",
    "docker container start -ai <container_name>                                    : start docker container\n",
    "docker contaier stop <container_name>                                      : stop docker container\n",
    "docker container rm -f <container_id1> <container_id2> <container_id3>   : removing docker container forcefully\n",
    "\n",
    "\n",
    "docker container logs <container_name>                                   : print the logs what happening inside container\n",
    "docker container top <container_name>                                    : top process running inside the container\n",
    "docker container inspect <container_name>                                 : details of docker container config\n",
    "docker container stats                                                   : performance stats for all containers\n",
    "\n",
    "\n",
    "\n",
    "\n",
    "docker pull <image_name> : download docker image\n",
    "\n",
    "docker image ls   : list of images in image cache\n",
    "\n",
    "\n",
    "```"
   ]
  },
  {
   "cell_type": "code",
   "execution_count": null,
   "id": "14b7ba86-9946-4929-9045-1a512d95eb7e",
   "metadata": {},
   "outputs": [],
   "source": []
  }
 ],
 "metadata": {
  "kernelspec": {
   "display_name": "Python 3 (ipykernel)",
   "language": "python",
   "name": "python3"
  },
  "language_info": {
   "codemirror_mode": {
    "name": "ipython",
    "version": 3
   },
   "file_extension": ".py",
   "mimetype": "text/x-python",
   "name": "python",
   "nbconvert_exporter": "python",
   "pygments_lexer": "ipython3",
   "version": "3.9.8"
  }
 },
 "nbformat": 4,
 "nbformat_minor": 5
}
