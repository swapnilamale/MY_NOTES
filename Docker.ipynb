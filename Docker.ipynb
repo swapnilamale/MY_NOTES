{
 "cells": [
  {
   "cell_type": "markdown",
   "id": "c273e939",
   "metadata": {},
   "source": [
    "<div style=\"text-align: center; color: red; font-size: 20px;\">\n",
    "    BASICS\n",
    "</div>"
   ]
  },
  {
   "cell_type": "markdown",
   "id": "74cfbac2",
   "metadata": {},
   "source": [
    "```\n",
    "docker     # list of all commands\n",
    "docker -v  # version of the docker\n",
    "\n",
    "```"
   ]
  },
  {
   "cell_type": "markdown",
   "id": "a06772b1",
   "metadata": {},
   "source": [
    "<div style=\"text-align: center; color: red; font-size: 20px;\">\n",
    "    IMAGES\n",
    "</div>"
   ]
  },
  {
   "cell_type": "markdown",
   "id": "2d77c190",
   "metadata": {},
   "source": [
    "```\n",
    "# playstore of docker images\n",
    "hub.docker.com\n",
    "\n",
    "docker pull <image_name>\n",
    "docker pull <image_name>:<version>\n",
    "```"
   ]
  },
  {
   "cell_type": "markdown",
   "id": "2f7a834e",
   "metadata": {},
   "source": [
    "```\n",
    "docker images | docker image ls\n",
    "docker rmi -f <image_id>\n",
    "```"
   ]
  },
  {
   "cell_type": "markdown",
   "id": "50f5d234",
   "metadata": {},
   "source": [
    "```\n",
    "#Publishing docker image\n",
    "docker login\n",
    "docker push <image_name>\n",
    "```"
   ]
  },
  {
   "cell_type": "markdown",
   "id": "b56c3f82",
   "metadata": {},
   "source": [
    "<div style=\"text-align: center; color: red; font-size: 20px;\">\n",
    "    CONTAIER\n",
    "</div>"
   ]
  },
  {
   "cell_type": "markdown",
   "id": "f1b519d5",
   "metadata": {},
   "source": [
    "```\n",
    "docker ps -a    |  docker container ls -a : all containers\n",
    "docker ps       |  docker container ls    : running container\n",
    "docker container stats                    : performance stats of all containers\n",
    "\n",
    "docker container start <container_id>\n",
    "docker container stop <container_id>\n",
    "docker container rm -f <container_id> <container_id> <container_id>\n",
    "\n",
    "docker contianer logs -f <container_id>\n",
    "docker container top <container_id>          : top process running inside the container\n",
    "docker container inspect <container_id>      : details of docker container config\n",
    "\n",
    "```"
   ]
  },
  {
   "cell_type": "markdown",
   "id": "10e2f0a4",
   "metadata": {},
   "source": [
    "#### Make Changes in docker image"
   ]
  },
  {
   "cell_type": "markdown",
   "id": "b0c7c6d3",
   "metadata": {},
   "source": [
    "```\n",
    "docker exec -it <container_id> <command>   # Allows us to run addictional command over already running container\n",
    "                               /bin/bash   # Use defualt bash if it didnt work go for sh\n",
    "                               /bin/sh\n",
    "Ctrl + d : exit from the container\n",
    "\n",
    "docker commit <container_id> <image_id>\n",
    "```"
   ]
  },
  {
   "cell_type": "markdown",
   "id": "5d20de48",
   "metadata": {},
   "source": [
    "#### Volume Mounting"
   ]
  },
  {
   "cell_type": "markdown",
   "id": "4d8b11aa",
   "metadata": {},
   "source": [
    "```\n",
    "Persitant data store in local even after docker container stops\n",
    "Example : logs of the code\n",
    "\n",
    "\n",
    "docker volumn ls\n",
    "docker volumne create <vol_name>  # Defuault_directory : /var/lib/docker/volumnes\n",
    "docker volumne rm <vol_name>\n",
    "docker volumne prune\n",
    "\n",
    "```"
   ]
  },
  {
   "cell_type": "markdown",
   "id": "0c292db8",
   "metadata": {},
   "source": [
    "#### container network"
   ]
  },
  {
   "cell_type": "markdown",
   "id": "8bddbba0",
   "metadata": {},
   "source": [
    "```\n",
    "for the interaction of two containers : docker network is need to be same\n",
    "\n",
    "docker network ls\n",
    "docker network create <network_name>\n",
    "docker network rm <network_name>\n",
    "docker network inspect bridge/host \n",
    "\n",
    "drivers in network\n",
    "bridge: defualt (port mapping is required)\n",
    "host : container has it no ip address it uses host machine ip address  (port mapping is not required)\n",
    "null : to create compleatly isolated network (container has no internet access)\n",
    "```"
   ]
  },
  {
   "cell_type": "markdown",
   "id": "7a202ee6",
   "metadata": {},
   "source": [
    "<div style=\"text-align: center; color: red; font-size: 20px;\">\n",
    "    OTHER\n",
    "</div>"
   ]
  },
  {
   "cell_type": "markdown",
   "id": "d5483e32",
   "metadata": {},
   "source": [
    "```\n",
    "docker system prune : Remove junk in Docker\n",
    "```"
   ]
  },
  {
   "cell_type": "markdown",
   "id": "b7106267",
   "metadata": {},
   "source": [
    "<div style=\"text-align: center; color: red; font-size: 20px;\">\n",
    "    PROJECT\n",
    "</div>"
   ]
  },
  {
   "cell_type": "markdown",
   "id": "1fab60ff",
   "metadata": {},
   "source": [
    "### requirement.txt "
   ]
  },
  {
   "cell_type": "markdown",
   "id": "c8093d18",
   "metadata": {},
   "source": [
    "```\n",
    "pip freeze > requirements.txt\n",
    "```"
   ]
  },
  {
   "cell_type": "markdown",
   "id": "4ae11f71",
   "metadata": {},
   "source": [
    "### .dockerignore"
   ]
  },
  {
   "cell_type": "markdown",
   "id": "431da8ea",
   "metadata": {},
   "source": [
    "```\n",
    "# Ignore Python cache and compiled files\n",
    "__pycache__/\n",
    "*.py[cod]\n",
    "*.pyo\n",
    "\n",
    "# Ignore Jupyter Notebook checkpoints\n",
    ".ipynb_checkpoints\n",
    "\n",
    "# Ignore environment and virtualenv folders\n",
    ".env\n",
    ".venv\n",
    "env/\n",
    "venv/\n",
    "\n",
    "# Ignore Docker-related files that shouldn't be copied\n",
    ".dockerignore\n",
    "Dockerfile\n",
    "\n",
    "# Ignore version control directories\n",
    ".git\n",
    ".gitignore\n",
    "\n",
    "# Ignore OS-specific files\n",
    ".DS_Store\n",
    "Thumbs.db\n",
    "\n",
    "# Ignore IDE/editor configs\n",
    ".vscode/\n",
    ".idea/\n",
    "\n",
    "# Ignore logs and temporary files\n",
    "*.log\n",
    "*.tmp\n",
    "*.swp\n",
    "*.bak\n",
    "\n",
    "# Ignore test coverage and build artifacts\n",
    "coverage/\n",
    "htmlcov/\n",
    "dist/\n",
    "build/\n",
    "*.egg-info/\n",
    "\n",
    "# Ignore node_modules if you're using Node.js\n",
    "node_modules/\n",
    "\n",
    "# Ignore logs\n",
    "**/*.log\n",
    "```"
   ]
  },
  {
   "cell_type": "markdown",
   "id": "8f6ac583",
   "metadata": {},
   "source": [
    "### Dockerfile"
   ]
  },
  {
   "cell_type": "markdown",
   "id": "634b2479",
   "metadata": {},
   "source": [
    "```\n",
    "##### Set Base Method #####\n",
    "FROM ubuntu:20.04\n",
    "\n",
    "##### Take Input from image_build.sh   ########\n",
    "ARG user_name\n",
    "ARG uid\n",
    "ARG gid\n",
    "ARG home_dir\n",
    "ARG work_dir\n",
    "\n",
    "##### Set environment variables early #####\n",
    "ENV DEBIAN_FRONTEND=noninteractive\n",
    "ENV TZ=Asia/Kolkata\n",
    "ENV PATH=${home_dir}/.local/bin:${home_dir}:$PATH\n",
    "\n",
    "##### Install required packages (python, tzdata, ping, curl) #####\n",
    "RUN apt-get update && \\\n",
    "    apt-get install -y python3-pip tzdata iputils-ping curl\n",
    "\n",
    "##### Configure the timezone non-interactively #####\n",
    "RUN echo $TZ > /etc/timezone && \\\n",
    "    dpkg-reconfigure -f noninteractive tzdata\n",
    "\n",
    "##### Create new user & group and switch from root #####\n",
    "RUN groupadd -g $gid $user_name && \\\n",
    "    useradd -ms /bin/sh $user_name --uid $uid --gid $gid && \\\n",
    "    mkdir -p $home_dir $work_dir && \\\n",
    "    chown -R $user_name:$user_name $home_dir $work_dir\n",
    "\n",
    "USER $user_name\n",
    "\n",
    "##### Set working directory dynamically #####\n",
    "WORKDIR ${work_dir}\n",
    "\n",
    "##### Install Python requirements #####\n",
    "COPY requirements.txt requirements.txt\n",
    "RUN pip install --user -r requirements.txt\n",
    "\n",
    "##### Copy all project files #####\n",
    "COPY . .\n",
    "\n",
    "##### Default command #####\n",
    "CMD [\"/bin/sh\"]\n",
    "```"
   ]
  },
  {
   "cell_type": "markdown",
   "id": "4b1f3f81",
   "metadata": {},
   "source": [
    "### image_build.sh --> sh image_build.sh"
   ]
  },
  {
   "cell_type": "markdown",
   "id": "d2a4dd73",
   "metadata": {},
   "source": [
    "```\n",
    "#!/bin/sh\n",
    "\n",
    "# ---------------------- Configuration ----------------------\n",
    "USER_NAME=\"analytics\"\n",
    "UID_VAL=$(id -u \"$USER_NAME\")\n",
    "GID_VAL=$(id -g \"$USER_NAME\")\n",
    "\n",
    "HOME_DIR=\"/home/analytics\"                          # Directory where your python libraries will be stored\n",
    "WORKING_DIR=\"/home/analytics/telecalling_project\"   # change this dir to local config base_dir\n",
    "\n",
    "IMAGE_NAME=\"telecalling\"\n",
    "IMAGE_VERSION=\"1.0.0\"\n",
    "\n",
    "\n",
    "# Docker build command\n",
    "docker build \\\n",
    "  --build-arg uid=\"$UID_VAL\" \\\n",
    "  --build-arg gid=\"$GID_VAL\" \\\n",
    "  --build-arg user_name=\"$USER_NAME\" \\\n",
    "  --build-arg home_dir=\"$HOME_DIR\" \\\n",
    "  --build-arg work_dir=\"$WORKING_DIR\" \\\n",
    "  -t \"${IMAGE_NAME}:${IMAGE_VERSION}\" \\\n",
    "  .\n",
    "```"
   ]
  },
  {
   "cell_type": "markdown",
   "id": "3dfeccf3",
   "metadata": {},
   "source": [
    "### container_run.sh ---> sh container_run.sh"
   ]
  },
  {
   "cell_type": "markdown",
   "id": "27d16887",
   "metadata": {},
   "source": [
    "```\n",
    "#!/bin/sh\n",
    "\n",
    "IMAGE_NAME=\"telecalling\"\n",
    "IMAGE_VERSION=\"1.0.0\"\n",
    "CONTAINER_NAME=\"${IMAGE_NAME}_${IMAGE_VERSION}_container\"\n",
    "COMMAND=\"/usr/bin/python3 /driver_.py -c ROI\"\n",
    "\n",
    "# Volume mount variables\n",
    "HOST_PATH=\"/your/host/path\"                \n",
    "CONTAINER_PATH=\"/your/container/path\"      \n",
    "\n",
    "# Docker run command\n",
    "timeout 1200 docker run \\\n",
    "  --stop-timeout=1200 \\\n",
    "  --rm \\\n",
    "  -itd \\\n",
    "  \n",
    "  -v \"${HOST_PATH}:${CONTAINER_PATH}\" \\\n",
    "  \n",
    "  -p 8080:8080 \\\n",
    "  --network bridge \\\n",
    "  \n",
    "  -e \\\n",
    "  \n",
    "  --name \"$CONTAINER_NAME\" \\\n",
    "  \"${IMAGE_NAME}:${IMAGE_VERSION}\" \\\n",
    "  \n",
    "  sh -c \"$COMMAND\"\n",
    "\n",
    "```"
   ]
  },
  {
   "cell_type": "markdown",
   "id": "71cefe62",
   "metadata": {},
   "source": [
    "### .yaml file for container run"
   ]
  },
  {
   "cell_type": "markdown",
   "id": "6f13d3fe",
   "metadata": {},
   "source": [
    "```\n",
    "# Docker Compose (.yaml file) : tool to run docker container instead of running directly on terminal\n",
    "# all the container defined on .yaml file , by default they all run all same network , that why there no parameter of network\n",
    "\n",
    "services:\n",
    "    <container_name>:\n",
    "        image:<image_name>\n",
    "        ports:\n",
    "        - <host_port>:<container_port>\n",
    "        environment:\n",
    "            <ENV_VARIABLE1>:<value1>\n",
    "            <ENV_VARIABLE2>:<value2>\n",
    "        volumes:\n",
    "        -<host_dir>:<image_directory>\n",
    "\n",
    "docker compose -f <.yaml> up -d\n",
    "docker compose -f <.yaml> down\n",
    "```"
   ]
  },
  {
   "cell_type": "markdown",
   "id": "d2c0dfee",
   "metadata": {},
   "source": [
    "```\n",
    "services:\n",
    "  telecalling:\n",
    "    container_name: telecalling_1.0.0_container\n",
    "    image: telecalling:1.0.0\n",
    "    command: sh -c \"/usr/bin/python3 /driver_.py -c ROI\"\n",
    "    volumes:\n",
    "      - /your/host/path:/your/container/path  # Replace with actual paths\n",
    "    ports:\n",
    "      - \"8080:8080\"\n",
    "    networks:\n",
    "      - default\n",
    "    environment:\n",
    "      # Add your environment variables below (currently empty in your script)\n",
    "      # EXAMPLE_VAR: \"value\"\n",
    "    restart: \"no\"\n",
    "```"
   ]
  }
 ],
 "metadata": {
  "kernelspec": {
   "display_name": "Python 3 (ipykernel)",
   "language": "python",
   "name": "python3"
  },
  "language_info": {
   "codemirror_mode": {
    "name": "ipython",
    "version": 3
   },
   "file_extension": ".py",
   "mimetype": "text/x-python",
   "name": "python",
   "nbconvert_exporter": "python",
   "pygments_lexer": "ipython3",
   "version": "3.9.12"
  }
 },
 "nbformat": 4,
 "nbformat_minor": 5
}
