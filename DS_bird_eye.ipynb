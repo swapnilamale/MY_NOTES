{
 "cells": [
  {
   "cell_type": "markdown",
   "id": "f5d7c8ed-38f2-450b-9f69-8410280cf287",
   "metadata": {},
   "source": [
    "### Python"
   ]
  },
  {
   "cell_type": "markdown",
   "id": "d9112326-6f92-4b20-aa86-2a925873166d",
   "metadata": {},
   "source": [
    "```\n",
    "Python\n",
    "OOP's\n",
    "DSA\n",
    "Module Creation\n",
    "creating python environment\n",
    "\n",
    "numpy/pandas/matplotlib/seaborn\n",
    "creating pipeline\n",
    "Sklearn , TensorFlow\n",
    "pyspark\n",
    "pdb | joblib | tqdm | os | sys | datetime | regular expression\n",
    "```"
   ]
  },
  {
   "cell_type": "markdown",
   "id": "64620023-a962-4a01-87c3-b8d14e6c4129",
   "metadata": {},
   "source": [
    "### Other Tech Skill"
   ]
  },
  {
   "cell_type": "markdown",
   "id": "a510d443-7c2c-4e5f-8e03-1917c8681f1b",
   "metadata": {},
   "source": [
    "```\n",
    "SQL\n",
    "Mongo\n",
    "\n",
    "Excel\n",
    "Tableau\n",
    "PowerBI\n",
    "\n",
    "\n",
    "word\n",
    "powerpoint\n",
    "latex\n",
    "\n",
    "Git\n",
    "Linux\n",
    "Docker\n",
    "Streamlit\n",
    "Fask\n",
    "\n",
    "nltk/spacy\n",
    "\n",
    "VS Code\n",
    "```"
   ]
  },
  {
   "cell_type": "markdown",
   "id": "da73ff3c-568d-41e6-b83d-1a3a51c7c622",
   "metadata": {},
   "source": [
    "```\n",
    "Video Editing\n",
    "\n",
    "```"
   ]
  },
  {
   "cell_type": "markdown",
   "id": "ebea667b-46a5-45ed-a18a-413b1ef5486a",
   "metadata": {},
   "source": [
    "## ML"
   ]
  },
  {
   "cell_type": "markdown",
   "id": "39804395-f4ad-4b69-a798-33c3bf662a41",
   "metadata": {},
   "source": [
    "#### Classical ML"
   ]
  },
  {
   "cell_type": "markdown",
   "id": "cbf44057-11e5-4938-92fc-7d728688fb91",
   "metadata": {},
   "source": [
    "```\n",
    "Supervised Learning\n",
    "-------------------\n",
    "Probalistic : NB\n",
    "Distance : KNN\n",
    "Geometric : Linear Regression | Logistic Regression | SVM\n",
    "Infomation hTeory : DT | RF | Adaboost | GBDT (XGBOOST)\n",
    "\n",
    "\n",
    "Usupervised Learning\n",
    "---------------------\n",
    "PCA\n",
    "Tsne\n",
    "K-Means Clusturing\n",
    "\n",
    "\n",
    "Recommender System\n",
    "-------------------\n",
    "\n",
    "Statastics\n",
    "----------\n",
    "\n",
    "Linear Aljebra\n",
    "--------------\n",
    "\n",
    "Time Series Analysis\n",
    "--------------------\n",
    "\n",
    "\n",
    "Deep Learning\n",
    "---------------\n",
    "ANN\n",
    "RNN\n",
    "CNN\n",
    "\n",
    "\n",
    "Deep Learning\n",
    "---------------\n",
    "\n",
    "GenAI\n",
    "------\n",
    "\n",
    "\n",
    "MLOps\n",
    "------\n",
    "\n",
    "\n",
    "System Design\n",
    "------------\n",
    "\n",
    "Product Analytics\n",
    "-----------------\n",
    "\n",
    "Netwror\n",
    "-----------------\n",
    "\n",
    "```"
   ]
  }
 ],
 "metadata": {
  "kernelspec": {
   "display_name": "Python 3 (ipykernel)",
   "language": "python",
   "name": "python3"
  },
  "language_info": {
   "codemirror_mode": {
    "name": "ipython",
    "version": 3
   },
   "file_extension": ".py",
   "mimetype": "text/x-python",
   "name": "python",
   "nbconvert_exporter": "python",
   "pygments_lexer": "ipython3",
   "version": "3.9.8"
  }
 },
 "nbformat": 4,
 "nbformat_minor": 5
}
