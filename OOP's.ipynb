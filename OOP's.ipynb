{
 "cells": [
  {
   "cell_type": "markdown",
   "id": "76195828-4d4d-4245-86ac-3999b1728ca9",
   "metadata": {},
   "source": [
    "```\n",
    "Attributes : Variables Associated with the class\n",
    "Methods    : Function Associated with the class\n",
    "```"
   ]
  },
  {
   "cell_type": "markdown",
   "id": "5bd1ea1b-42bf-467b-aec3-f2b12ff71f80",
   "metadata": {},
   "source": [
    "```\n",
    "class variables\n",
    "    class varible is default applied as instance variable as well\n",
    "class methods\n",
    "    it is start with cls with decorator @classmethod\n",
    "    class methods is default applied to instance method as well\n",
    "    Note : Class method can be use as alternative for constructor\n",
    "\n",
    "\n",
    "instance variable\n",
    "    inside constructor\n",
    "    outside class\n",
    "instance methods\n",
    "    start by self\n",
    "\n",
    "static method\n",
    "    it is not start with any specific keyword and defined using decorator @staticmethod\n",
    "    static method dont operate on class or instance variable or method but it has some logical connection with the class w\n",
    "    which is nothing to do with calculation\n",
    "```"
   ]
  },
  {
   "cell_type": "markdown",
   "id": "78eb0cca-2bc8-4c92-bc03-e3e686690e9e",
   "metadata": {},
   "source": [
    "```\n",
    "inheritance in classes\n",
    "```"
   ]
  },
  {
   "cell_type": "markdown",
   "id": "c374f497-e555-413e-a4da-abd5cfbb3e4d",
   "metadata": {},
   "source": [
    "```\n",
    "isinstance(obj,class)        # tell up whether the obj is instance of the class or not\n",
    "issubclass(cls,class)        # tell us whether cls is subclass of class or not\n",
    "```"
   ]
  },
  {
   "cell_type": "markdown",
   "id": "87efcfd6-3f45-419f-bbf6-e25242a80116",
   "metadata": {},
   "source": [
    "```\n",
    "Magic dundar mehtods in OOP's\n",
    "\n",
    "__init__()  : constructor\n",
    "__repr__()\n",
    "__str__()\n",
    "\n",
    "__add__()\n",
    "```"
   ]
  },
  {
   "cell_type": "markdown",
   "id": "1f330036-18a7-47db-9185-92c4c0aef6aa",
   "metadata": {},
   "source": [
    "```\n",
    "@property     : Property decorator\n",
    "                instance method having no input arguments can be accessed as Attribute to that instance\n",
    "\n",
    "\n",
    "\n",
    "setter and deleter concept\n",
    "\n",
    "```"
   ]
  },
  {
   "cell_type": "markdown",
   "id": "6dc7d157-2295-41f4-9250-741d8f78c285",
   "metadata": {},
   "source": []
  },
  {
   "cell_type": "markdown",
   "id": "02e82702-8ab7-489f-900a-2fe5aca93036",
   "metadata": {},
   "source": []
  },
  {
   "cell_type": "markdown",
   "id": "97f1212e-7d6c-41e1-b476-c02160614c6e",
   "metadata": {},
   "source": []
  },
  {
   "cell_type": "markdown",
   "id": "da889abc-9659-4d82-b833-2b9c032d7476",
   "metadata": {},
   "source": []
  },
  {
   "cell_type": "markdown",
   "id": "89a2c38b-a4e7-419f-9bc2-802685820b96",
   "metadata": {},
   "source": []
  },
  {
   "cell_type": "markdown",
   "id": "3ace74a8-4621-469a-bfdf-f47c2d170b06",
   "metadata": {},
   "source": []
  },
  {
   "cell_type": "markdown",
   "id": "991dfeb7-5159-48b9-84ff-d0bf21eae1a2",
   "metadata": {},
   "source": []
  },
  {
   "cell_type": "markdown",
   "id": "5586f31f-553b-426b-9482-afef89d534e1",
   "metadata": {},
   "source": []
  },
  {
   "cell_type": "markdown",
   "id": "c07d0783-47ce-481b-918f-aec41a74b83a",
   "metadata": {},
   "source": []
  },
  {
   "cell_type": "markdown",
   "id": "e1fcf50d-82f8-4cf9-9b57-25cfa2473e46",
   "metadata": {},
   "source": []
  },
  {
   "cell_type": "markdown",
   "id": "4044cb9f-76bc-4a0a-b911-60c2f793ce4b",
   "metadata": {},
   "source": []
  },
  {
   "cell_type": "markdown",
   "id": "a790fc3a-8c00-44b5-b108-f3da23b6ba64",
   "metadata": {},
   "source": []
  },
  {
   "cell_type": "markdown",
   "id": "da78fac9-2616-48a2-bf52-da6908982da7",
   "metadata": {},
   "source": []
  },
  {
   "cell_type": "markdown",
   "id": "3afd0ad0-1321-4be9-8cf6-70491611cc2a",
   "metadata": {},
   "source": []
  },
  {
   "cell_type": "markdown",
   "id": "4cf24c5f-a3ae-4cef-b2cb-f2754aa1cced",
   "metadata": {},
   "source": []
  },
  {
   "cell_type": "markdown",
   "id": "d7cdb868-1ab8-4942-a326-6c0b4a1ace88",
   "metadata": {},
   "source": []
  },
  {
   "cell_type": "markdown",
   "id": "0fb8b316-b5f4-4b4b-bd64-a2a971ec46ae",
   "metadata": {},
   "source": []
  },
  {
   "cell_type": "markdown",
   "id": "9a24ad11-3f2b-47db-9027-3071c3bffb24",
   "metadata": {},
   "source": []
  },
  {
   "cell_type": "markdown",
   "id": "73d9b7ae-319b-4aa0-8055-183ab33e150c",
   "metadata": {},
   "source": []
  },
  {
   "cell_type": "markdown",
   "id": "38baba32-7093-4536-a3d0-2b56d43e2d18",
   "metadata": {},
   "source": []
  },
  {
   "cell_type": "markdown",
   "id": "a4113ea3-42b1-4ed3-a3b7-fa10526f6a38",
   "metadata": {},
   "source": []
  },
  {
   "cell_type": "markdown",
   "id": "5bc710c7-6037-4374-8815-67f6aa93a947",
   "metadata": {},
   "source": []
  },
  {
   "cell_type": "markdown",
   "id": "c7a8eb20-ee4e-4db4-8b7d-b82887e16a57",
   "metadata": {},
   "source": []
  },
  {
   "cell_type": "markdown",
   "id": "8908ce14-e04c-47e8-b411-bb27b9103a34",
   "metadata": {},
   "source": []
  },
  {
   "cell_type": "markdown",
   "id": "7b2af9e9-6ca3-4045-8098-1ffb5c34db8a",
   "metadata": {},
   "source": []
  },
  {
   "cell_type": "markdown",
   "id": "aebbe132-abad-4718-8dd4-f1faf4376faf",
   "metadata": {},
   "source": []
  },
  {
   "cell_type": "markdown",
   "id": "977dfd4f-df37-4881-b306-2bcc1f695b38",
   "metadata": {},
   "source": []
  },
  {
   "cell_type": "markdown",
   "id": "b547cfd9-a2d7-4485-b1cf-ebdf0c21fddd",
   "metadata": {},
   "source": []
  },
  {
   "cell_type": "markdown",
   "id": "ff2c3a19-28e1-4b38-a2ee-3331f810220c",
   "metadata": {},
   "source": []
  },
  {
   "cell_type": "markdown",
   "id": "b710fe8e-27b1-49ed-9c7f-4eb6667ce14e",
   "metadata": {},
   "source": []
  },
  {
   "cell_type": "markdown",
   "id": "3a66ef0a-3661-47fa-9bc6-c05802c27572",
   "metadata": {},
   "source": []
  },
  {
   "cell_type": "markdown",
   "id": "ef328d47-5a7f-4856-9b36-59abaf6a1f01",
   "metadata": {},
   "source": []
  },
  {
   "cell_type": "markdown",
   "id": "96afb9ba-9252-4293-ad0b-75e8557868d2",
   "metadata": {},
   "source": []
  }
 ],
 "metadata": {
  "kernelspec": {
   "display_name": "Python 3 (ipykernel)",
   "language": "python",
   "name": "python3"
  },
  "language_info": {
   "codemirror_mode": {
    "name": "ipython",
    "version": 3
   },
   "file_extension": ".py",
   "mimetype": "text/x-python",
   "name": "python",
   "nbconvert_exporter": "python",
   "pygments_lexer": "ipython3",
   "version": "3.9.8"
  }
 },
 "nbformat": 4,
 "nbformat_minor": 5
}
