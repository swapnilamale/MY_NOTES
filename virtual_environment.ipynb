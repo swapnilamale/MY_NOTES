{
 "cells": [
  {
   "cell_type": "markdown",
   "id": "95f02531-3cee-4b35-86e7-73426b732efb",
   "metadata": {},
   "source": [
    "```\n",
    "### Virtual Environment\n",
    "\n",
    "Creating Virtual Environment for python is nothing but\n",
    "fixing up set of libraries version for a \"python interpreter\"\n",
    "\n",
    "python interpreter location \n",
    "--> which python3\n",
    "libraries versions \n",
    "--> pip list --format=freeze > requirements.txt\n",
    "```"
   ]
  },
  {
   "attachments": {},
   "cell_type": "markdown",
   "id": "63d1eb00-3925-41a9-8b17-bb9e8d006ee1",
   "metadata": {},
   "source": [
    "```\n",
    "### Steps\n",
    "# find the python directory\n",
    "/usr/local/python-3.9.8/bin/python3.9\n",
    " \n",
    "# Create a python virtual environment <venv_name>\n",
    "python -m venv <venv_name>\n",
    "\n",
    "# After creating virtual environment a folder will be created\n",
    "# You can activate virtual environment by sourcing acitvate file in bin(binary) folder\n",
    "source <venv_name>/bin/activate\n",
    "\n",
    "# install jupyterlab\n",
    "pip install jupyterlab\n",
    "\n",
    "# After Activating virtual environment, install python libraries or reqired version\n",
    "# best way to do it by defining requirement.txt , and install all packages in recursion\n",
    "pip install -r <requriement.txt>\n",
    "\n",
    "\n",
    "\n",
    "jupyter-lab --ip 10.10.12.71 --no-browser\n",
    "```"
   ]
  },
  {
   "cell_type": "markdown",
   "id": "8509e30e-f569-4482-8bc1-79f685b9e1d3",
   "metadata": {},
   "source": [
    "```\n",
    "1. Create a Python Virtual Environment and Acitvate it on Anaconda\n",
    "\n",
    "2. Create a basic folder Structure\n",
    "    data\n",
    "    logs:info_logs\n",
    "         error_logs\n",
    "    py_:config\n",
    "        utils\n",
    "\n",
    "3. Write up a code\n",
    "\n",
    "4. main.py\n",
    "   run.sh\n",
    "\n",
    "5. requirement.txt\n",
    "\n",
    "6. Dockerise a code\n",
    "    .dockerignore\n",
    "    Dockerfile\n",
    "    build.sh\n",
    "    \n",
    "   \n",
    "7 Create a folder Structure\n",
    "    1 GIT\n",
    "        .gitignore\n",
    "        README.md    \n",
    "```"
   ]
  }
 ],
 "metadata": {
  "kernelspec": {
   "display_name": "Python 3 (ipykernel)",
   "language": "python",
   "name": "python3"
  },
  "language_info": {
   "codemirror_mode": {
    "name": "ipython",
    "version": 3
   },
   "file_extension": ".py",
   "mimetype": "text/x-python",
   "name": "python",
   "nbconvert_exporter": "python",
   "pygments_lexer": "ipython3",
   "version": "3.9.8"
  }
 },
 "nbformat": 4,
 "nbformat_minor": 5
}
