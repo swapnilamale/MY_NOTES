{
 "cells": [
  {
   "cell_type": "code",
   "execution_count": 1,
   "id": "15ad18fe-467e-4e31-9218-17fa4909fb1d",
   "metadata": {},
   "outputs": [],
   "source": [
    "url =\"https://httpbin.org/\"\n",
    "url + \"?phone=9168395549\"     # giving an arguments"
   ]
  },
  {
   "cell_type": "markdown",
   "id": "1837dd9b-468d-4927-8000-c8eb600a6168",
   "metadata": {},
   "source": [
    "## requests"
   ]
  },
  {
   "cell_type": "markdown",
   "id": "bb19e7be-d30c-49fd-b926-0b70d541d611",
   "metadata": {},
   "source": [
    "```\n",
    "get\n",
    "post\n",
    "put\n",
    "delete\n",
    "head\n",
    "options\n",
    "```"
   ]
  },
  {
   "cell_type": "markdown",
   "id": "c9581401-cd40-4bef-bb8c-1f4a1660df47",
   "metadata": {},
   "source": [
    "```\n",
    "response = get(url,timeout,stream)    # Create object \"response\" of URL\n",
    "```"
   ]
  },
  {
   "cell_type": "markdown",
   "id": "b75c518a-29eb-473e-925d-24bc59af2cea",
   "metadata": {},
   "source": [
    "## response"
   ]
  },
  {
   "cell_type": "markdown",
   "id": "b0bba70c-7b8d-4e51-824c-e00d67465be5",
   "metadata": {},
   "source": [
    "```\n",
    "text                               # get html code\n",
    "status_code\n",
    "    200 : Executed Successfuly\n",
    "encoding\n",
    "\n",
    "json()          # output in dict format\n",
    "```"
   ]
  }
 ],
 "metadata": {
  "kernelspec": {
   "display_name": "Python 3 (ipykernel)",
   "language": "python",
   "name": "python3"
  },
  "language_info": {
   "codemirror_mode": {
    "name": "ipython",
    "version": 3
   },
   "file_extension": ".py",
   "mimetype": "text/x-python",
   "name": "python",
   "nbconvert_exporter": "python",
   "pygments_lexer": "ipython3",
   "version": "3.9.8"
  }
 },
 "nbformat": 4,
 "nbformat_minor": 5
}
