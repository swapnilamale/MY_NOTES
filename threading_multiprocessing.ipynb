{
 "cells": [
  {
   "cell_type": "markdown",
   "id": "a99939e3-ba5b-4d39-84fa-0e5caf614307",
   "metadata": {},
   "source": [
    "```\n",
    "Threding :\n",
    "speed up task by running different sub-task concurrently\n",
    "\n",
    "There are two type of task\n",
    "CPU Bound : where proccessing of CPU is involved\n",
    "I/O Bound : where proccessing of CPU is not involved\n",
    "            Ex : time.sleep()\n",
    "\n",
    "```"
   ]
  },
  {
   "cell_type": "code",
   "execution_count": 1,
   "id": "9b9a22b3-3bf6-426a-8f5f-4c1a30b92c3d",
   "metadata": {},
   "outputs": [
    {
     "name": "stdout",
     "output_type": "stream",
     "text": [
      "CPU sleeps for 1 secs\n",
      "CPU sleeps for 2 secs\n",
      "CPU sleeps for 3 secs\n",
      "CPU sleeps for 4 secs\n",
      "CPU sleeps for 5 secs\n",
      "[2, 3, 4, 5, 6]\n",
      "CPU times: user 15.7 ms, sys: 4.44 ms, total: 20.2 ms\n",
      "Wall time: 15 s\n"
     ]
    }
   ],
   "source": [
    "%%time\n",
    "import time\n",
    "import concurrent.futures\n",
    "\n",
    "def sleep_time(t):\n",
    "    time.sleep(t)\n",
    "    print(f\"CPU sleeps for {t} secs\")\n",
    "    return (t+1)\n",
    "\n",
    "t_list = [1,2,3,4,5]\n",
    "\n",
    "lst = []\n",
    "for i in t_list:\n",
    "    output = sleep_time(i)\n",
    "    lst.append(output)\n",
    "    \n",
    "\n",
    "print((lst))"
   ]
  },
  {
   "cell_type": "markdown",
   "id": "cdbb122c-5223-4a9c-9869-8194a1b15b31",
   "metadata": {},
   "source": [
    "### map"
   ]
  },
  {
   "cell_type": "code",
   "execution_count": 1,
   "id": "09d4ac4a-f507-42d3-ba89-3e2a17fcded1",
   "metadata": {},
   "outputs": [
    {
     "name": "stdout",
     "output_type": "stream",
     "text": [
      "CPU sleeps for 1 secs\n",
      "CPU sleeps for 2 secs\n",
      "CPU sleeps for 3 secs\n",
      "CPU sleeps for 4 secs\n",
      "CPU sleeps for 5 secs\n",
      "[2, 3, 4, 5, 6]\n",
      "CPU times: user 11.4 ms, sys: 2.41 ms, total: 13.9 ms\n",
      "Wall time: 5.01 s\n"
     ]
    }
   ],
   "source": [
    "%%time\n",
    "import time\n",
    "from concurrent.futures import ThreadPoolExecutor\n",
    "\n",
    "def sleep_time(t):\n",
    "    time.sleep(t)\n",
    "    print(f\"CPU sleeps for {t} secs\")\n",
    "    return (t+1)\n",
    "\n",
    "t_list = [1,2,3,4,5]\n",
    "\n",
    "with ThreadPoolExecutor() as executor:\n",
    "    result = list(executor.map(sleep_time,t_list))\n",
    "\n",
    "print(result)"
   ]
  },
  {
   "cell_type": "code",
   "execution_count": 1,
   "id": "7d22f296-75b7-4159-80dc-c50d24e50bcd",
   "metadata": {},
   "outputs": [
    {
     "name": "stdout",
     "output_type": "stream",
     "text": [
      "CPU sleeps for 1 secs\n",
      "CPU sleeps for 2 secs\n",
      "CPU sleeps for 3 secs\n",
      "CPU sleeps for 4 secs\n",
      "CPU sleeps for 5 secs\n",
      "[2, 3, 4, 5, 6]\n",
      "CPU times: user 23.2 ms, sys: 3.85 ms, total: 27 ms\n",
      "Wall time: 5.01 s\n"
     ]
    }
   ],
   "source": [
    "%%time\n",
    "import time\n",
    "from concurrent.futures import ThreadPoolExecutor\n",
    "\n",
    "def run_multithreding_for_function(function , input_list):\n",
    "    with ThreadPoolExecutor() as executor:\n",
    "        result = list(executor.map(function,input_list))\n",
    "    return result\n",
    "\n",
    "def sleep_time(t):\n",
    "    time.sleep(t)\n",
    "    print(f\"CPU sleeps for {t} secs\")\n",
    "    return (t+1)\n",
    "\n",
    "t_list = [1,2,3,4,5]\n",
    "result = run_multithreding_for_function(sleep_time,t_list)\n",
    "\n",
    "print(result)"
   ]
  },
  {
   "cell_type": "markdown",
   "id": "bf740a5d-6880-44c1-b695-d3f6fe9090fd",
   "metadata": {},
   "source": [
    "### as_compleated"
   ]
  },
  {
   "cell_type": "code",
   "execution_count": 1,
   "id": "19bf857f-1aeb-447e-b27a-9696f91e7b4a",
   "metadata": {},
   "outputs": [
    {
     "name": "stdout",
     "output_type": "stream",
     "text": [
      "CPU sleeps for 1 sec\n",
      "CPU sleeps for 2 sec\n",
      "CPU sleeps for 3 sec\n",
      "CPU sleeps for 4 sec\n",
      "CPU sleeps for 5 sec\n",
      "[2, 3, 4, 5, 6]\n",
      "CPU times: user 13 ms, sys: 2.81 ms, total: 15.8 ms\n",
      "Wall time: 5.01 s\n"
     ]
    }
   ],
   "source": [
    "%%time\n",
    "import time\n",
    "from concurrent.futures import ThreadPoolExecutor, as_completed\n",
    "\n",
    "def sleep_time(t):\n",
    "    time.sleep(t)\n",
    "    print(f\"CPU sleeps for {t} sec\")\n",
    "    return (t+1)\n",
    "\n",
    "time_list = [1,2,3,4,5]\n",
    "\n",
    "with ThreadPoolExecutor() as executor:\n",
    "    futures_object_list = [executor.submit(sleep_time,i) for i in time_list]       # Note this will not take time\n",
    "    result = [ futures.result() for futures in as_completed(futures_object_list) ]\n",
    "\n",
    "print(result)"
   ]
  },
  {
   "cell_type": "code",
   "execution_count": 1,
   "id": "918a4338-6fc3-4423-bca1-422a55fff777",
   "metadata": {},
   "outputs": [
    {
     "name": "stdout",
     "output_type": "stream",
     "text": [
      "CPU sleeps for 1 sec\n",
      "CPU sleeps for 2 sec\n",
      "CPU sleeps for 3 sec\n",
      "CPU sleeps for 4 sec\n",
      "CPU sleeps for 5 sec\n",
      "[2, 3, 4, 5, 6]\n",
      "CPU times: user 22.5 ms, sys: 5.7 ms, total: 28.2 ms\n",
      "Wall time: 5.01 s\n"
     ]
    }
   ],
   "source": [
    "%%time\n",
    "import time\n",
    "from concurrent.futures import ThreadPoolExecutor, as_completed\n",
    "\n",
    "def sleep_time(t):\n",
    "    time.sleep(t)\n",
    "    print(f\"CPU sleeps for {t} sec\")\n",
    "    return (t+1)\n",
    "\n",
    "time_list = [1,2,3,4,5]\n",
    "\n",
    "with ThreadPoolExecutor() as executor:\n",
    "    futures_object_list = [executor.submit(sleep_time,i) for i in time_list]   # Note this will not take time\n",
    "\n",
    "    result_list = []\n",
    "    for futures in as_completed(futures_object_list):\n",
    "        result = futures.result()\n",
    "        result_list.append(result)\n",
    "\n",
    "\n",
    "print(result_list)"
   ]
  },
  {
   "cell_type": "markdown",
   "id": "cf7a31cb-7845-47db-b827-907ef0f4bab4",
   "metadata": {},
   "source": [
    "# Timeout error"
   ]
  },
  {
   "cell_type": "code",
   "execution_count": 11,
   "id": "7eaf2fbf-1cb2-4285-b1e3-af74543fabdf",
   "metadata": {},
   "outputs": [
    {
     "name": "stdout",
     "output_type": "stream",
     "text": [
      "Timeout\n",
      "Result: None\n",
      "CPU times: user 1.99 ms, sys: 622 µs, total: 2.61 ms\n",
      "Wall time: 1 s\n"
     ]
    }
   ],
   "source": [
    "%%time\n",
    "import signal\n",
    "import time\n",
    "\n",
    "\n",
    "def run_with_timeout(func, timeout, *args, **kwargs):\n",
    "    signal.signal(signal.SIGALRM, timeout_handler)\n",
    "    signal.alarm(timeout)\n",
    "    try:\n",
    "        result = func(*args, **kwargs)\n",
    "        return result\n",
    "    except :\n",
    "        print(\"Timeout\")\n",
    "        pass\n",
    "    \n",
    "\n",
    "def sleep_time(t):\n",
    "    time.sleep(t)\n",
    "    print(f\"CPU sleeps for {t} secs\")\n",
    "    return t + 1\n",
    "\n",
    "\n",
    "result = run_with_timeout(sleep_time, 1, 10)\n",
    "print(\"Result:\", result)"
   ]
  }
 ],
 "metadata": {
  "kernelspec": {
   "display_name": "Python 3 (ipykernel)",
   "language": "python",
   "name": "python3"
  },
  "language_info": {
   "codemirror_mode": {
    "name": "ipython",
    "version": 3
   },
   "file_extension": ".py",
   "mimetype": "text/x-python",
   "name": "python",
   "nbconvert_exporter": "python",
   "pygments_lexer": "ipython3",
   "version": "3.9.8"
  }
 },
 "nbformat": 4,
 "nbformat_minor": 5
}
