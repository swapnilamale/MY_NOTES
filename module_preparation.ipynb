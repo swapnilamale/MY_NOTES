{
 "cells": [
  {
   "cell_type": "markdown",
   "id": "f9451dde-fada-4ccb-856b-fbcadc016317",
   "metadata": {},
   "source": [
    "```\n",
    "---------------- add ----------------\n",
    "\n",
    "my_module <- directory\n",
    "create a module class\n",
    "\n",
    "\n",
    "setup.py\n",
    "\n",
    "python setup.py sdist bdist_wheel\n",
    "pip install -e .  ||  pip install dist/wheel_file.wh\n",
    "\n",
    "demonstaration.ipynb\n",
    "\n",
    "add .gitignore , README.md , requirement.txt\n",
    "git init\n",
    "git add .\n",
    "git commit -m <message>\n",
    "git branch -M main\n",
    "git remote add origin <link>\n",
    "git push -u origin main\n",
    "```"
   ]
  }
 ],
 "metadata": {
  "kernelspec": {
   "display_name": "Python 3 (ipykernel)",
   "language": "python",
   "name": "python3"
  },
  "language_info": {
   "codemirror_mode": {
    "name": "ipython",
    "version": 3
   },
   "file_extension": ".py",
   "mimetype": "text/x-python",
   "name": "python",
   "nbconvert_exporter": "python",
   "pygments_lexer": "ipython3",
   "version": "3.9.8"
  }
 },
 "nbformat": 4,
 "nbformat_minor": 5
}
